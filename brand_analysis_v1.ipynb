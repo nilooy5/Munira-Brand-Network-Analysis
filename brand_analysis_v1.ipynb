{
 "cells": [
  {
   "cell_type": "code",
   "execution_count": 2,
   "id": "438ffecb",
   "metadata": {
    "id": "438ffecb"
   },
   "outputs": [],
   "source": [
    "import os\n",
    "import numpy as np\n",
    "import pandas as pd\n",
    "import scipy.stats as stats\n",
    "import matplotlib.pyplot as plt\n",
    "# install openpyxl\n",
    "\n",
    "\n",
    "from tqdm import tqdm\n",
    "\n",
    "pd.set_option('display.min_rows', 20)\n",
    "pd.set_option('display.max_columns', 500)\n",
    "pd.set_option('display.width', 1000)"
   ]
  },
  {
   "cell_type": "code",
   "execution_count": 48,
   "id": "7fec3f1a",
   "metadata": {
    "id": "7fec3f1a",
    "outputId": "78030b03-99f4-4aae-edfd-5865ae967022",
    "colab": {
     "base_uri": "https://localhost:8080/",
     "height": 311
    }
   },
   "outputs": [],
   "source": [
    "df = pd.read_excel('combined_edges_str.xlsx', dtype={'source': str, 'target': str})"
   ]
  },
  {
   "cell_type": "markdown",
   "id": "8e5d2c1f",
   "metadata": {
    "id": "8e5d2c1f"
   },
   "source": [
    "### Logic: \"source\"/follower is following \"target\"\n",
    "\n",
    "### Brand IDs\n",
    "\n",
    "- 290081566 => @EsteeLauder\n",
    "\n",
    "- 18148242 => @dermalogica\n",
    "\n",
    "- 91259072 => @Neutrogena\n",
    "\n",
    "- 44693072 => @cerave\n",
    "\n",
    "- 132543891 => @SkinCeuticals\n"
   ]
  },
  {
   "cell_type": "code",
   "execution_count": 49,
   "id": "e674bc27",
   "metadata": {
    "id": "e674bc27"
   },
   "outputs": [],
   "source": [
    "brand_list = ['1_@EsteeLauder', '2_@dermalogica', '3_@Neutrogena', '4_@cerave', '5_@SkinCeuticals']"
   ]
  },
  {
   "cell_type": "code",
   "execution_count": 50,
   "id": "a17d86af",
   "metadata": {
    "id": "a17d86af"
   },
   "outputs": [],
   "source": [
    "for colname in ['source', 'target']:\n",
    "    df.loc[df[colname]=='290081566', colname] = brand_list[0]\n",
    "    df.loc[df[colname]=='18148242', colname] = brand_list[1]\n",
    "    df.loc[df[colname]=='91259072', colname] = brand_list[2]\n",
    "    df.loc[df[colname]=='44693072', colname] = brand_list[3]\n",
    "    df.loc[df[colname]=='132543891', colname] = brand_list[4]"
   ]
  },
  {
   "cell_type": "code",
   "execution_count": 51,
   "id": "aab281a2",
   "metadata": {
    "id": "aab281a2",
    "outputId": "3a909a5e-8503-4559-813e-966a92bc674d"
   },
   "outputs": [
    {
     "data": {
      "text/plain": "                    source     target\n0      1550173096744722432  4_@cerave\n1                557884816  4_@cerave\n2      1529429483387817985  4_@cerave\n3      1578652520800555008  4_@cerave\n4               1456425924  4_@cerave\n5               2853150560  4_@cerave\n6      1528726407995658241  4_@cerave\n7               3084597184  4_@cerave\n8      1392075915363065856  4_@cerave\n9      1560415649729585155  4_@cerave\n...                    ...        ...\n28292        3_@Neutrogena  141666777\n28293        3_@Neutrogena  256881576\n28294        3_@Neutrogena   85633543\n28295        3_@Neutrogena  340635228\n28296        3_@Neutrogena   48177728\n28297        3_@Neutrogena  460485003\n28298        3_@Neutrogena  205302299\n28299        3_@Neutrogena   27678749\n28300        3_@Neutrogena   53297035\n28301        3_@Neutrogena  581972531\n\n[28302 rows x 2 columns]",
      "text/html": "<div>\n<style scoped>\n    .dataframe tbody tr th:only-of-type {\n        vertical-align: middle;\n    }\n\n    .dataframe tbody tr th {\n        vertical-align: top;\n    }\n\n    .dataframe thead th {\n        text-align: right;\n    }\n</style>\n<table border=\"1\" class=\"dataframe\">\n  <thead>\n    <tr style=\"text-align: right;\">\n      <th></th>\n      <th>source</th>\n      <th>target</th>\n    </tr>\n  </thead>\n  <tbody>\n    <tr>\n      <th>0</th>\n      <td>1550173096744722432</td>\n      <td>4_@cerave</td>\n    </tr>\n    <tr>\n      <th>1</th>\n      <td>557884816</td>\n      <td>4_@cerave</td>\n    </tr>\n    <tr>\n      <th>2</th>\n      <td>1529429483387817985</td>\n      <td>4_@cerave</td>\n    </tr>\n    <tr>\n      <th>3</th>\n      <td>1578652520800555008</td>\n      <td>4_@cerave</td>\n    </tr>\n    <tr>\n      <th>4</th>\n      <td>1456425924</td>\n      <td>4_@cerave</td>\n    </tr>\n    <tr>\n      <th>5</th>\n      <td>2853150560</td>\n      <td>4_@cerave</td>\n    </tr>\n    <tr>\n      <th>6</th>\n      <td>1528726407995658241</td>\n      <td>4_@cerave</td>\n    </tr>\n    <tr>\n      <th>7</th>\n      <td>3084597184</td>\n      <td>4_@cerave</td>\n    </tr>\n    <tr>\n      <th>8</th>\n      <td>1392075915363065856</td>\n      <td>4_@cerave</td>\n    </tr>\n    <tr>\n      <th>9</th>\n      <td>1560415649729585155</td>\n      <td>4_@cerave</td>\n    </tr>\n    <tr>\n      <th>...</th>\n      <td>...</td>\n      <td>...</td>\n    </tr>\n    <tr>\n      <th>28292</th>\n      <td>3_@Neutrogena</td>\n      <td>141666777</td>\n    </tr>\n    <tr>\n      <th>28293</th>\n      <td>3_@Neutrogena</td>\n      <td>256881576</td>\n    </tr>\n    <tr>\n      <th>28294</th>\n      <td>3_@Neutrogena</td>\n      <td>85633543</td>\n    </tr>\n    <tr>\n      <th>28295</th>\n      <td>3_@Neutrogena</td>\n      <td>340635228</td>\n    </tr>\n    <tr>\n      <th>28296</th>\n      <td>3_@Neutrogena</td>\n      <td>48177728</td>\n    </tr>\n    <tr>\n      <th>28297</th>\n      <td>3_@Neutrogena</td>\n      <td>460485003</td>\n    </tr>\n    <tr>\n      <th>28298</th>\n      <td>3_@Neutrogena</td>\n      <td>205302299</td>\n    </tr>\n    <tr>\n      <th>28299</th>\n      <td>3_@Neutrogena</td>\n      <td>27678749</td>\n    </tr>\n    <tr>\n      <th>28300</th>\n      <td>3_@Neutrogena</td>\n      <td>53297035</td>\n    </tr>\n    <tr>\n      <th>28301</th>\n      <td>3_@Neutrogena</td>\n      <td>581972531</td>\n    </tr>\n  </tbody>\n</table>\n<p>28302 rows × 2 columns</p>\n</div>"
     },
     "execution_count": 51,
     "metadata": {},
     "output_type": "execute_result"
    }
   ],
   "source": [
    "df"
   ]
  },
  {
   "cell_type": "code",
   "execution_count": 52,
   "id": "f5ae79f3",
   "metadata": {
    "id": "f5ae79f3",
    "outputId": "bcbbfa75-8f87-4b6a-f765-40e4d9cd306f"
   },
   "outputs": [
    {
     "data": {
      "text/plain": "'1550173096744722432'"
     },
     "execution_count": 52,
     "metadata": {},
     "output_type": "execute_result"
    }
   ],
   "source": [
    "df.source[0]"
   ]
  },
  {
   "cell_type": "code",
   "execution_count": 53,
   "id": "73389cdf",
   "metadata": {
    "id": "73389cdf",
    "outputId": "dcd4e7b7-69bb-4789-cb54-71b61417f49b"
   },
   "outputs": [
    {
     "data": {
      "text/plain": "                     source\n2_@dermalogica         1225\n5_@SkinCeuticals        997\n1_@EsteeLauder          452\n3_@Neutrogena           432\n4_@cerave               196\n1568382218002735105       4\n1572625750003441664       4\n1572641040032567301       4\n1409136155384221698       4\n3059011803                4\n...                     ...\n1499444624238198784       1\n1499446718475423744       1\n1481924028612976646       1\n2470127029                1\n1499464394534637577       1\n1497296480276819974       1\n275280454                 1\n1017075153719693312       1\n737312697524572160        1\n1557590648923901953       1\n\n[24255 rows x 1 columns]",
      "text/html": "<div>\n<style scoped>\n    .dataframe tbody tr th:only-of-type {\n        vertical-align: middle;\n    }\n\n    .dataframe tbody tr th {\n        vertical-align: top;\n    }\n\n    .dataframe thead th {\n        text-align: right;\n    }\n</style>\n<table border=\"1\" class=\"dataframe\">\n  <thead>\n    <tr style=\"text-align: right;\">\n      <th></th>\n      <th>source</th>\n    </tr>\n  </thead>\n  <tbody>\n    <tr>\n      <th>2_@dermalogica</th>\n      <td>1225</td>\n    </tr>\n    <tr>\n      <th>5_@SkinCeuticals</th>\n      <td>997</td>\n    </tr>\n    <tr>\n      <th>1_@EsteeLauder</th>\n      <td>452</td>\n    </tr>\n    <tr>\n      <th>3_@Neutrogena</th>\n      <td>432</td>\n    </tr>\n    <tr>\n      <th>4_@cerave</th>\n      <td>196</td>\n    </tr>\n    <tr>\n      <th>1568382218002735105</th>\n      <td>4</td>\n    </tr>\n    <tr>\n      <th>1572625750003441664</th>\n      <td>4</td>\n    </tr>\n    <tr>\n      <th>1572641040032567301</th>\n      <td>4</td>\n    </tr>\n    <tr>\n      <th>1409136155384221698</th>\n      <td>4</td>\n    </tr>\n    <tr>\n      <th>3059011803</th>\n      <td>4</td>\n    </tr>\n    <tr>\n      <th>...</th>\n      <td>...</td>\n    </tr>\n    <tr>\n      <th>1499444624238198784</th>\n      <td>1</td>\n    </tr>\n    <tr>\n      <th>1499446718475423744</th>\n      <td>1</td>\n    </tr>\n    <tr>\n      <th>1481924028612976646</th>\n      <td>1</td>\n    </tr>\n    <tr>\n      <th>2470127029</th>\n      <td>1</td>\n    </tr>\n    <tr>\n      <th>1499464394534637577</th>\n      <td>1</td>\n    </tr>\n    <tr>\n      <th>1497296480276819974</th>\n      <td>1</td>\n    </tr>\n    <tr>\n      <th>275280454</th>\n      <td>1</td>\n    </tr>\n    <tr>\n      <th>1017075153719693312</th>\n      <td>1</td>\n    </tr>\n    <tr>\n      <th>737312697524572160</th>\n      <td>1</td>\n    </tr>\n    <tr>\n      <th>1557590648923901953</th>\n      <td>1</td>\n    </tr>\n  </tbody>\n</table>\n<p>24255 rows × 1 columns</p>\n</div>"
     },
     "execution_count": 53,
     "metadata": {},
     "output_type": "execute_result"
    }
   ],
   "source": [
    "## Num of followings\n",
    "pd.DataFrame(df.source.value_counts())"
   ]
  },
  {
   "cell_type": "code",
   "execution_count": 54,
   "id": "6769f5b2",
   "metadata": {
    "id": "6769f5b2",
    "outputId": "7282adfe-6765-45ca-fe71-432c8f78ca00"
   },
   "outputs": [
    {
     "data": {
      "text/plain": "                     target\n4_@cerave              5001\n5_@SkinCeuticals       5001\n2_@dermalogica         5001\n1_@EsteeLauder         5000\n3_@Neutrogena          5000\n14222518                  5\n40965341                  5\n19247844                  5\n19658436                  5\n19546942                  5\n...                     ...\n845833902027554818        1\n3787080024                1\n480861343                 1\n854501507181531136        1\n36365736                  1\n1043159655755800576       1\n1140931506                1\n1049280876864045056       1\n982267237787566081        1\n581972531                 1\n\n[2786 rows x 1 columns]",
      "text/html": "<div>\n<style scoped>\n    .dataframe tbody tr th:only-of-type {\n        vertical-align: middle;\n    }\n\n    .dataframe tbody tr th {\n        vertical-align: top;\n    }\n\n    .dataframe thead th {\n        text-align: right;\n    }\n</style>\n<table border=\"1\" class=\"dataframe\">\n  <thead>\n    <tr style=\"text-align: right;\">\n      <th></th>\n      <th>target</th>\n    </tr>\n  </thead>\n  <tbody>\n    <tr>\n      <th>4_@cerave</th>\n      <td>5001</td>\n    </tr>\n    <tr>\n      <th>5_@SkinCeuticals</th>\n      <td>5001</td>\n    </tr>\n    <tr>\n      <th>2_@dermalogica</th>\n      <td>5001</td>\n    </tr>\n    <tr>\n      <th>1_@EsteeLauder</th>\n      <td>5000</td>\n    </tr>\n    <tr>\n      <th>3_@Neutrogena</th>\n      <td>5000</td>\n    </tr>\n    <tr>\n      <th>14222518</th>\n      <td>5</td>\n    </tr>\n    <tr>\n      <th>40965341</th>\n      <td>5</td>\n    </tr>\n    <tr>\n      <th>19247844</th>\n      <td>5</td>\n    </tr>\n    <tr>\n      <th>19658436</th>\n      <td>5</td>\n    </tr>\n    <tr>\n      <th>19546942</th>\n      <td>5</td>\n    </tr>\n    <tr>\n      <th>...</th>\n      <td>...</td>\n    </tr>\n    <tr>\n      <th>845833902027554818</th>\n      <td>1</td>\n    </tr>\n    <tr>\n      <th>3787080024</th>\n      <td>1</td>\n    </tr>\n    <tr>\n      <th>480861343</th>\n      <td>1</td>\n    </tr>\n    <tr>\n      <th>854501507181531136</th>\n      <td>1</td>\n    </tr>\n    <tr>\n      <th>36365736</th>\n      <td>1</td>\n    </tr>\n    <tr>\n      <th>1043159655755800576</th>\n      <td>1</td>\n    </tr>\n    <tr>\n      <th>1140931506</th>\n      <td>1</td>\n    </tr>\n    <tr>\n      <th>1049280876864045056</th>\n      <td>1</td>\n    </tr>\n    <tr>\n      <th>982267237787566081</th>\n      <td>1</td>\n    </tr>\n    <tr>\n      <th>581972531</th>\n      <td>1</td>\n    </tr>\n  </tbody>\n</table>\n<p>2786 rows × 1 columns</p>\n</div>"
     },
     "execution_count": 54,
     "metadata": {},
     "output_type": "execute_result"
    }
   ],
   "source": [
    "## Num of followers\n",
    "pd.DataFrame(df.target.value_counts())"
   ]
  },
  {
   "cell_type": "markdown",
   "id": "cd59ebfc",
   "metadata": {
    "id": "cd59ebfc"
   },
   "source": [
    "# Following/follower matrix:"
   ]
  },
  {
   "cell_type": "code",
   "execution_count": 55,
   "id": "ad1e94a9",
   "metadata": {
    "id": "ad1e94a9"
   },
   "outputs": [],
   "source": [
    "def prep_matrix(df, colname='source', col_rename='following'):\n",
    "    df_res = pd.DataFrame(df[colname].value_counts()).reset_index()\n",
    "    df_res.columns = ['id', col_rename]\n",
    "    #df_res = df_res.loc[df_res[col_rename] > 1, :]\n",
    "\n",
    "    for b in brand_list:\n",
    "        df_res[b] = 0\n",
    "\n",
    "    return df_res"
   ]
  },
  {
   "cell_type": "markdown",
   "id": "dcbeb9fa",
   "metadata": {
    "id": "dcbeb9fa"
   },
   "source": [
    "### 1. df_source: what brands people are following"
   ]
  },
  {
   "cell_type": "code",
   "execution_count": 56,
   "id": "e49438c0",
   "metadata": {
    "id": "e49438c0",
    "outputId": "c8cdee86-3885-4674-b3e8-45a3f2cd6d6d"
   },
   "outputs": [],
   "source": [
    "# df_source = prep_matrix(df, colname='source', col_rename='following')\n",
    "\n",
    "# for i in tqdm(range(len(df_source))):\n",
    "#     targets = list(df[df['source'] == df_source.id[i]]['target'])\n",
    "#     for j in brand_list:\n",
    "#         if j in targets:\n",
    "#             df_source.loc[i, j] = 1\n",
    "            \n",
    "# df_source['n_brand_following'] = np.sum(df_source.iloc[:, [2,3,4,5,6]], axis=1)"
   ]
  },
  {
   "cell_type": "code",
   "execution_count": 57,
   "id": "d4975c2e",
   "metadata": {
    "id": "d4975c2e",
    "outputId": "fa590113-0998-4e88-c47e-a06e6f5ee9fd"
   },
   "outputs": [],
   "source": [
    "## Checking\n",
    "# len(df_source) - np.sum(df_source.following == df_source['n_brand_following'])\n",
    "\n",
    "## Output: 5"
   ]
  },
  {
   "cell_type": "code",
   "execution_count": 58,
   "id": "2e12f921",
   "metadata": {
    "id": "2e12f921"
   },
   "outputs": [],
   "source": [
    "## Save CSV\n",
    "# df_source.to_csv('m1_source.csv')"
   ]
  },
  {
   "cell_type": "code",
   "execution_count": 59,
   "id": "2ac86e74",
   "metadata": {
    "id": "2ac86e74"
   },
   "outputs": [],
   "source": [
    "## Load CSV\n",
    "df_source = pd.read_csv('m1_source.csv', index_col=0)"
   ]
  },
  {
   "cell_type": "code",
   "execution_count": 60,
   "id": "06cc6e6d",
   "metadata": {
    "id": "06cc6e6d",
    "outputId": "d34c104f-19b4-4d57-f9dc-9eb069dcbe13"
   },
   "outputs": [
    {
     "data": {
      "text/plain": "                        id  following  1_@EsteeLauder  2_@dermalogica  3_@Neutrogena  4_@cerave  5_@SkinCeuticals  n_brand_following\n0           2_@dermalogica       1225               0               0              0          0                 0                  0\n1         5_@SkinCeuticals        997               0               1              0          1                 0                  2\n2           1_@EsteeLauder        452               0               0              0          0                 0                  0\n3            3_@Neutrogena        432               0               0              0          0                 0                  0\n4                4_@cerave        196               0               0              0          0                 1                  1\n5      1568382218002735105          4               1               0              1          1                 1                  4\n6      1572625750003441664          4               1               0              1          1                 1                  4\n7      1572641040032567301          4               1               0              1          1                 1                  4\n8      1409136155384221698          4               1               0              1          1                 1                  4\n9               3059011803          4               0               1              1          1                 1                  4\n...                    ...        ...             ...             ...            ...        ...               ...                ...\n24245  1499444624238198784          1               0               1              0          0                 0                  1\n24246  1499446718475423744          1               0               1              0          0                 0                  1\n24247  1481924028612976646          1               0               1              0          0                 0                  1\n24248           2470127029          1               0               1              0          0                 0                  1\n24249  1499464394534637577          1               0               1              0          0                 0                  1\n24250  1497296480276819974          1               0               1              0          0                 0                  1\n24251            275280454          1               0               1              0          0                 0                  1\n24252  1017075153719693312          1               0               1              0          0                 0                  1\n24253   737312697524572160          1               0               1              0          0                 0                  1\n24254  1557590648923901953          1               1               0              0          0                 0                  1\n\n[24255 rows x 8 columns]",
      "text/html": "<div>\n<style scoped>\n    .dataframe tbody tr th:only-of-type {\n        vertical-align: middle;\n    }\n\n    .dataframe tbody tr th {\n        vertical-align: top;\n    }\n\n    .dataframe thead th {\n        text-align: right;\n    }\n</style>\n<table border=\"1\" class=\"dataframe\">\n  <thead>\n    <tr style=\"text-align: right;\">\n      <th></th>\n      <th>id</th>\n      <th>following</th>\n      <th>1_@EsteeLauder</th>\n      <th>2_@dermalogica</th>\n      <th>3_@Neutrogena</th>\n      <th>4_@cerave</th>\n      <th>5_@SkinCeuticals</th>\n      <th>n_brand_following</th>\n    </tr>\n  </thead>\n  <tbody>\n    <tr>\n      <th>0</th>\n      <td>2_@dermalogica</td>\n      <td>1225</td>\n      <td>0</td>\n      <td>0</td>\n      <td>0</td>\n      <td>0</td>\n      <td>0</td>\n      <td>0</td>\n    </tr>\n    <tr>\n      <th>1</th>\n      <td>5_@SkinCeuticals</td>\n      <td>997</td>\n      <td>0</td>\n      <td>1</td>\n      <td>0</td>\n      <td>1</td>\n      <td>0</td>\n      <td>2</td>\n    </tr>\n    <tr>\n      <th>2</th>\n      <td>1_@EsteeLauder</td>\n      <td>452</td>\n      <td>0</td>\n      <td>0</td>\n      <td>0</td>\n      <td>0</td>\n      <td>0</td>\n      <td>0</td>\n    </tr>\n    <tr>\n      <th>3</th>\n      <td>3_@Neutrogena</td>\n      <td>432</td>\n      <td>0</td>\n      <td>0</td>\n      <td>0</td>\n      <td>0</td>\n      <td>0</td>\n      <td>0</td>\n    </tr>\n    <tr>\n      <th>4</th>\n      <td>4_@cerave</td>\n      <td>196</td>\n      <td>0</td>\n      <td>0</td>\n      <td>0</td>\n      <td>0</td>\n      <td>1</td>\n      <td>1</td>\n    </tr>\n    <tr>\n      <th>5</th>\n      <td>1568382218002735105</td>\n      <td>4</td>\n      <td>1</td>\n      <td>0</td>\n      <td>1</td>\n      <td>1</td>\n      <td>1</td>\n      <td>4</td>\n    </tr>\n    <tr>\n      <th>6</th>\n      <td>1572625750003441664</td>\n      <td>4</td>\n      <td>1</td>\n      <td>0</td>\n      <td>1</td>\n      <td>1</td>\n      <td>1</td>\n      <td>4</td>\n    </tr>\n    <tr>\n      <th>7</th>\n      <td>1572641040032567301</td>\n      <td>4</td>\n      <td>1</td>\n      <td>0</td>\n      <td>1</td>\n      <td>1</td>\n      <td>1</td>\n      <td>4</td>\n    </tr>\n    <tr>\n      <th>8</th>\n      <td>1409136155384221698</td>\n      <td>4</td>\n      <td>1</td>\n      <td>0</td>\n      <td>1</td>\n      <td>1</td>\n      <td>1</td>\n      <td>4</td>\n    </tr>\n    <tr>\n      <th>9</th>\n      <td>3059011803</td>\n      <td>4</td>\n      <td>0</td>\n      <td>1</td>\n      <td>1</td>\n      <td>1</td>\n      <td>1</td>\n      <td>4</td>\n    </tr>\n    <tr>\n      <th>...</th>\n      <td>...</td>\n      <td>...</td>\n      <td>...</td>\n      <td>...</td>\n      <td>...</td>\n      <td>...</td>\n      <td>...</td>\n      <td>...</td>\n    </tr>\n    <tr>\n      <th>24245</th>\n      <td>1499444624238198784</td>\n      <td>1</td>\n      <td>0</td>\n      <td>1</td>\n      <td>0</td>\n      <td>0</td>\n      <td>0</td>\n      <td>1</td>\n    </tr>\n    <tr>\n      <th>24246</th>\n      <td>1499446718475423744</td>\n      <td>1</td>\n      <td>0</td>\n      <td>1</td>\n      <td>0</td>\n      <td>0</td>\n      <td>0</td>\n      <td>1</td>\n    </tr>\n    <tr>\n      <th>24247</th>\n      <td>1481924028612976646</td>\n      <td>1</td>\n      <td>0</td>\n      <td>1</td>\n      <td>0</td>\n      <td>0</td>\n      <td>0</td>\n      <td>1</td>\n    </tr>\n    <tr>\n      <th>24248</th>\n      <td>2470127029</td>\n      <td>1</td>\n      <td>0</td>\n      <td>1</td>\n      <td>0</td>\n      <td>0</td>\n      <td>0</td>\n      <td>1</td>\n    </tr>\n    <tr>\n      <th>24249</th>\n      <td>1499464394534637577</td>\n      <td>1</td>\n      <td>0</td>\n      <td>1</td>\n      <td>0</td>\n      <td>0</td>\n      <td>0</td>\n      <td>1</td>\n    </tr>\n    <tr>\n      <th>24250</th>\n      <td>1497296480276819974</td>\n      <td>1</td>\n      <td>0</td>\n      <td>1</td>\n      <td>0</td>\n      <td>0</td>\n      <td>0</td>\n      <td>1</td>\n    </tr>\n    <tr>\n      <th>24251</th>\n      <td>275280454</td>\n      <td>1</td>\n      <td>0</td>\n      <td>1</td>\n      <td>0</td>\n      <td>0</td>\n      <td>0</td>\n      <td>1</td>\n    </tr>\n    <tr>\n      <th>24252</th>\n      <td>1017075153719693312</td>\n      <td>1</td>\n      <td>0</td>\n      <td>1</td>\n      <td>0</td>\n      <td>0</td>\n      <td>0</td>\n      <td>1</td>\n    </tr>\n    <tr>\n      <th>24253</th>\n      <td>737312697524572160</td>\n      <td>1</td>\n      <td>0</td>\n      <td>1</td>\n      <td>0</td>\n      <td>0</td>\n      <td>0</td>\n      <td>1</td>\n    </tr>\n    <tr>\n      <th>24254</th>\n      <td>1557590648923901953</td>\n      <td>1</td>\n      <td>1</td>\n      <td>0</td>\n      <td>0</td>\n      <td>0</td>\n      <td>0</td>\n      <td>1</td>\n    </tr>\n  </tbody>\n</table>\n<p>24255 rows × 8 columns</p>\n</div>"
     },
     "execution_count": 60,
     "metadata": {},
     "output_type": "execute_result"
    }
   ],
   "source": [
    "df_source"
   ]
  },
  {
   "cell_type": "code",
   "execution_count": 61,
   "id": "23e7594a",
   "metadata": {
    "id": "23e7594a",
    "outputId": "a63d59b7-edb1-42a7-b779-58b9ee46c9a3"
   },
   "outputs": [
    {
     "data": {
      "text/plain": "   n_brand_following\n1              23597\n2                567\n3                 80\n4                  8\n0                  3",
      "text/html": "<div>\n<style scoped>\n    .dataframe tbody tr th:only-of-type {\n        vertical-align: middle;\n    }\n\n    .dataframe tbody tr th {\n        vertical-align: top;\n    }\n\n    .dataframe thead th {\n        text-align: right;\n    }\n</style>\n<table border=\"1\" class=\"dataframe\">\n  <thead>\n    <tr style=\"text-align: right;\">\n      <th></th>\n      <th>n_brand_following</th>\n    </tr>\n  </thead>\n  <tbody>\n    <tr>\n      <th>1</th>\n      <td>23597</td>\n    </tr>\n    <tr>\n      <th>2</th>\n      <td>567</td>\n    </tr>\n    <tr>\n      <th>3</th>\n      <td>80</td>\n    </tr>\n    <tr>\n      <th>4</th>\n      <td>8</td>\n    </tr>\n    <tr>\n      <th>0</th>\n      <td>3</td>\n    </tr>\n  </tbody>\n</table>\n</div>"
     },
     "execution_count": 61,
     "metadata": {},
     "output_type": "execute_result"
    }
   ],
   "source": [
    "pd.DataFrame(df_source.n_brand_following.value_counts())"
   ]
  },
  {
   "cell_type": "code",
   "execution_count": 62,
   "id": "5671d6ec",
   "metadata": {
    "id": "5671d6ec",
    "outputId": "903d54d2-ada4-42b3-8290-69da8791fe92"
   },
   "outputs": [
    {
     "data": {
      "text/plain": "['1568382218002735105',\n '1572625750003441664',\n '1572641040032567301',\n '1409136155384221698',\n '3059011803',\n '1565358112172818434',\n '1556000179081416706',\n '1541449042604990465']"
     },
     "execution_count": 62,
     "metadata": {},
     "output_type": "execute_result"
    }
   ],
   "source": [
    "big_fans = df_source[df_source.n_brand_following == 4].id.tolist()\n",
    "big_fans"
   ]
  },
  {
   "cell_type": "markdown",
   "id": "001ee1af",
   "metadata": {
    "id": "001ee1af"
   },
   "source": [
    "### Matrix 1. df_source: what brands people are following\n",
    "\n",
    "### Analysis:\n",
    "\n",
    "Among the brand followers we collected, 567 users are following 2 brands, 80 users are following 3 brands, 8 users are following 4 brands.\n",
    "\n",
    "### Define big_fans:\n",
    "\n",
    "The 8 users who follow 4 brands are: \n",
    "\n",
    "['1568382218002735105',\n",
    " '1572625750003441664',\n",
    " '1572641040032567301',\n",
    " '1409136155384221698',\n",
    " '3059011803',\n",
    " '1565358112172818434',\n",
    " '1556000179081416706',\n",
    " '1541449042604990465']"
   ]
  },
  {
   "cell_type": "code",
   "execution_count": 63,
   "id": "e5fb477e",
   "metadata": {
    "id": "e5fb477e",
    "outputId": "9d9a2eac-2ecf-4b1d-e92c-4fb4b5b07a63"
   },
   "outputs": [
    {
     "data": {
      "text/plain": "(array([3.0000e+00, 0.0000e+00, 2.3597e+04, 0.0000e+00, 0.0000e+00,\n        5.6700e+02, 0.0000e+00, 8.0000e+01, 0.0000e+00, 8.0000e+00]),\n array([0. , 0.4, 0.8, 1.2, 1.6, 2. , 2.4, 2.8, 3.2, 3.6, 4. ]),\n <BarContainer object of 10 artists>)"
     },
     "execution_count": 63,
     "metadata": {},
     "output_type": "execute_result"
    },
    {
     "data": {
      "text/plain": "<Figure size 640x480 with 1 Axes>",
      "image/png": "[encoded data removed]"
     },
     "metadata": {},
     "output_type": "display_data"
    }
   ],
   "source": [
    "plt.hist(df_source.n_brand_following)"
   ]
  },
  {
   "cell_type": "code",
   "execution_count": 63,
   "id": "4c1b2d46",
   "metadata": {
    "id": "4c1b2d46"
   },
   "outputs": [],
   "source": []
  },
  {
   "cell_type": "code",
   "execution_count": 63,
   "id": "5a798bfa",
   "metadata": {
    "id": "5a798bfa"
   },
   "outputs": [],
   "source": []
  },
  {
   "cell_type": "markdown",
   "id": "f84da990",
   "metadata": {
    "id": "f84da990"
   },
   "source": [
    "### 2. df_target: what brands are following them"
   ]
  },
  {
   "cell_type": "code",
   "execution_count": 64,
   "id": "0868ba3e",
   "metadata": {
    "id": "0868ba3e",
    "outputId": "2f189c30-54dd-4992-c304-85e0f5d843a7"
   },
   "outputs": [],
   "source": [
    "# df_target = prep_matrix(df, colname='target', col_rename='follower')\n",
    "\n",
    "# for i2 in tqdm(range(len(df_target))):\n",
    "#     sources = list(df[df['target'] == df_target.id[i2]]['source'])\n",
    "#     for j2 in brand_list:\n",
    "#         if j2 in sources:\n",
    "#             df_target.loc[i2, j2] = 1\n",
    "            \n",
    "# df_target['n_brand_follower'] = np.sum(df_target.iloc[:, [2,3,4,5,6]], axis=1)"
   ]
  },
  {
   "cell_type": "code",
   "execution_count": 65,
   "id": "d0ac6ed5",
   "metadata": {
    "id": "d0ac6ed5",
    "outputId": "6f41f511-3ee2-412a-c784-3655e4840bfe"
   },
   "outputs": [],
   "source": [
    "## Checking\n",
    "# len(df_target) - np.sum(df_target.follower == df_target['n_brand_follower'])\n",
    "\n",
    "## Output: 5"
   ]
  },
  {
   "cell_type": "code",
   "execution_count": 66,
   "id": "86660954",
   "metadata": {
    "id": "86660954"
   },
   "outputs": [],
   "source": [
    "## Save CSV\n",
    "# df_target.to_csv('m2_target.csv')"
   ]
  },
  {
   "cell_type": "code",
   "execution_count": 67,
   "id": "c5daa32a",
   "metadata": {
    "id": "c5daa32a"
   },
   "outputs": [],
   "source": [
    "## Load CSV\n",
    "df_target = pd.read_csv('m2_target.csv', index_col=0)"
   ]
  },
  {
   "cell_type": "code",
   "execution_count": 68,
   "id": "7b22c1ec",
   "metadata": {
    "id": "7b22c1ec",
    "outputId": "781eaff5-1d72-430b-a800-353051d7db9d"
   },
   "outputs": [
    {
     "data": {
      "text/plain": "                       id  follower  1_@EsteeLauder  2_@dermalogica  3_@Neutrogena  4_@cerave  5_@SkinCeuticals  n_brand_follower\n0               4_@cerave      5001               0               0              0          0                 1                 1\n1        5_@SkinCeuticals      5001               0               0              0          1                 0                 1\n2          2_@dermalogica      5001               0               0              0          0                 1                 1\n3          1_@EsteeLauder      5000               0               0              0          0                 0                 0\n4           3_@Neutrogena      5000               0               0              0          0                 0                 0\n5                14222518         5               1               1              1          1                 1                 5\n6                40965341         5               1               1              1          1                 1                 5\n7                19247844         5               1               1              1          1                 1                 5\n8                19658436         5               1               1              1          1                 1                 5\n9                19546942         5               1               1              1          1                 1                 5\n...                   ...       ...             ...             ...            ...        ...               ...               ...\n2776   845833902027554818         1               0               0              0          1                 0                 1\n2777           3787080024         1               0               0              0          1                 0                 1\n2778            480861343         1               0               0              0          1                 0                 1\n2779   854501507181531136         1               0               0              0          1                 0                 1\n2780             36365736         1               0               0              0          1                 0                 1\n2781  1043159655755800576         1               0               0              0          1                 0                 1\n2782           1140931506         1               0               0              0          1                 0                 1\n2783  1049280876864045056         1               0               0              0          1                 0                 1\n2784   982267237787566081         1               0               0              0          1                 0                 1\n2785            581972531         1               0               0              1          0                 0                 1\n\n[2786 rows x 8 columns]",
      "text/html": "<div>\n<style scoped>\n    .dataframe tbody tr th:only-of-type {\n        vertical-align: middle;\n    }\n\n    .dataframe tbody tr th {\n        vertical-align: top;\n    }\n\n    .dataframe thead th {\n        text-align: right;\n    }\n</style>\n<table border=\"1\" class=\"dataframe\">\n  <thead>\n    <tr style=\"text-align: right;\">\n      <th></th>\n      <th>id</th>\n      <th>follower</th>\n      <th>1_@EsteeLauder</th>\n      <th>2_@dermalogica</th>\n      <th>3_@Neutrogena</th>\n      <th>4_@cerave</th>\n      <th>5_@SkinCeuticals</th>\n      <th>n_brand_follower</th>\n    </tr>\n  </thead>\n  <tbody>\n    <tr>\n      <th>0</th>\n      <td>4_@cerave</td>\n      <td>5001</td>\n      <td>0</td>\n      <td>0</td>\n      <td>0</td>\n      <td>0</td>\n      <td>1</td>\n      <td>1</td>\n    </tr>\n    <tr>\n      <th>1</th>\n      <td>5_@SkinCeuticals</td>\n      <td>5001</td>\n      <td>0</td>\n      <td>0</td>\n      <td>0</td>\n      <td>1</td>\n      <td>0</td>\n      <td>1</td>\n    </tr>\n    <tr>\n      <th>2</th>\n      <td>2_@dermalogica</td>\n      <td>5001</td>\n      <td>0</td>\n      <td>0</td>\n      <td>0</td>\n      <td>0</td>\n      <td>1</td>\n      <td>1</td>\n    </tr>\n    <tr>\n      <th>3</th>\n      <td>1_@EsteeLauder</td>\n      <td>5000</td>\n      <td>0</td>\n      <td>0</td>\n      <td>0</td>\n      <td>0</td>\n      <td>0</td>\n      <td>0</td>\n    </tr>\n    <tr>\n      <th>4</th>\n      <td>3_@Neutrogena</td>\n      <td>5000</td>\n      <td>0</td>\n      <td>0</td>\n      <td>0</td>\n      <td>0</td>\n      <td>0</td>\n      <td>0</td>\n    </tr>\n    <tr>\n      <th>5</th>\n      <td>14222518</td>\n      <td>5</td>\n      <td>1</td>\n      <td>1</td>\n      <td>1</td>\n      <td>1</td>\n      <td>1</td>\n      <td>5</td>\n    </tr>\n    <tr>\n      <th>6</th>\n      <td>40965341</td>\n      <td>5</td>\n      <td>1</td>\n      <td>1</td>\n      <td>1</td>\n      <td>1</td>\n      <td>1</td>\n      <td>5</td>\n    </tr>\n    <tr>\n      <th>7</th>\n      <td>19247844</td>\n      <td>5</td>\n      <td>1</td>\n      <td>1</td>\n      <td>1</td>\n      <td>1</td>\n      <td>1</td>\n      <td>5</td>\n    </tr>\n    <tr>\n      <th>8</th>\n      <td>19658436</td>\n      <td>5</td>\n      <td>1</td>\n      <td>1</td>\n      <td>1</td>\n      <td>1</td>\n      <td>1</td>\n      <td>5</td>\n    </tr>\n    <tr>\n      <th>9</th>\n      <td>19546942</td>\n      <td>5</td>\n      <td>1</td>\n      <td>1</td>\n      <td>1</td>\n      <td>1</td>\n      <td>1</td>\n      <td>5</td>\n    </tr>\n    <tr>\n      <th>...</th>\n      <td>...</td>\n      <td>...</td>\n      <td>...</td>\n      <td>...</td>\n      <td>...</td>\n      <td>...</td>\n      <td>...</td>\n      <td>...</td>\n    </tr>\n    <tr>\n      <th>2776</th>\n      <td>845833902027554818</td>\n      <td>1</td>\n      <td>0</td>\n      <td>0</td>\n      <td>0</td>\n      <td>1</td>\n      <td>0</td>\n      <td>1</td>\n    </tr>\n    <tr>\n      <th>2777</th>\n      <td>3787080024</td>\n      <td>1</td>\n      <td>0</td>\n      <td>0</td>\n      <td>0</td>\n      <td>1</td>\n      <td>0</td>\n      <td>1</td>\n    </tr>\n    <tr>\n      <th>2778</th>\n      <td>480861343</td>\n      <td>1</td>\n      <td>0</td>\n      <td>0</td>\n      <td>0</td>\n      <td>1</td>\n      <td>0</td>\n      <td>1</td>\n    </tr>\n    <tr>\n      <th>2779</th>\n      <td>854501507181531136</td>\n      <td>1</td>\n      <td>0</td>\n      <td>0</td>\n      <td>0</td>\n      <td>1</td>\n      <td>0</td>\n      <td>1</td>\n    </tr>\n    <tr>\n      <th>2780</th>\n      <td>36365736</td>\n      <td>1</td>\n      <td>0</td>\n      <td>0</td>\n      <td>0</td>\n      <td>1</td>\n      <td>0</td>\n      <td>1</td>\n    </tr>\n    <tr>\n      <th>2781</th>\n      <td>1043159655755800576</td>\n      <td>1</td>\n      <td>0</td>\n      <td>0</td>\n      <td>0</td>\n      <td>1</td>\n      <td>0</td>\n      <td>1</td>\n    </tr>\n    <tr>\n      <th>2782</th>\n      <td>1140931506</td>\n      <td>1</td>\n      <td>0</td>\n      <td>0</td>\n      <td>0</td>\n      <td>1</td>\n      <td>0</td>\n      <td>1</td>\n    </tr>\n    <tr>\n      <th>2783</th>\n      <td>1049280876864045056</td>\n      <td>1</td>\n      <td>0</td>\n      <td>0</td>\n      <td>0</td>\n      <td>1</td>\n      <td>0</td>\n      <td>1</td>\n    </tr>\n    <tr>\n      <th>2784</th>\n      <td>982267237787566081</td>\n      <td>1</td>\n      <td>0</td>\n      <td>0</td>\n      <td>0</td>\n      <td>1</td>\n      <td>0</td>\n      <td>1</td>\n    </tr>\n    <tr>\n      <th>2785</th>\n      <td>581972531</td>\n      <td>1</td>\n      <td>0</td>\n      <td>0</td>\n      <td>1</td>\n      <td>0</td>\n      <td>0</td>\n      <td>1</td>\n    </tr>\n  </tbody>\n</table>\n<p>2786 rows × 8 columns</p>\n</div>"
     },
     "execution_count": 68,
     "metadata": {},
     "output_type": "execute_result"
    }
   ],
   "source": [
    "df_target"
   ]
  },
  {
   "cell_type": "code",
   "execution_count": 69,
   "id": "6450e32b",
   "metadata": {
    "id": "6450e32b",
    "outputId": "c135f4c4-18e8-4dc3-9bbc-d55ffc032b00"
   },
   "outputs": [
    {
     "data": {
      "text/plain": "   n_brand_follower\n1              2445\n2               222\n3                64\n4                44\n5                 9\n0                 2",
      "text/html": "<div>\n<style scoped>\n    .dataframe tbody tr th:only-of-type {\n        vertical-align: middle;\n    }\n\n    .dataframe tbody tr th {\n        vertical-align: top;\n    }\n\n    .dataframe thead th {\n        text-align: right;\n    }\n</style>\n<table border=\"1\" class=\"dataframe\">\n  <thead>\n    <tr style=\"text-align: right;\">\n      <th></th>\n      <th>n_brand_follower</th>\n    </tr>\n  </thead>\n  <tbody>\n    <tr>\n      <th>1</th>\n      <td>2445</td>\n    </tr>\n    <tr>\n      <th>2</th>\n      <td>222</td>\n    </tr>\n    <tr>\n      <th>3</th>\n      <td>64</td>\n    </tr>\n    <tr>\n      <th>4</th>\n      <td>44</td>\n    </tr>\n    <tr>\n      <th>5</th>\n      <td>9</td>\n    </tr>\n    <tr>\n      <th>0</th>\n      <td>2</td>\n    </tr>\n  </tbody>\n</table>\n</div>"
     },
     "execution_count": 69,
     "metadata": {},
     "output_type": "execute_result"
    }
   ],
   "source": [
    "pd.DataFrame(df_target.n_brand_follower.value_counts())"
   ]
  },
  {
   "cell_type": "code",
   "execution_count": 70,
   "id": "a772219c",
   "metadata": {
    "id": "a772219c",
    "outputId": "89f08c9b-6b64-431a-9ef3-3f97e0ea8623"
   },
   "outputs": [
    {
     "data": {
      "text/plain": "['14222518',\n '40965341',\n '19247844',\n '19658436',\n '19546942',\n '15279429',\n '32469566',\n '14934818',\n '482591078']"
     },
     "execution_count": 70,
     "metadata": {},
     "output_type": "execute_result"
    }
   ],
   "source": [
    "brand_icons = df_target[df_target.n_brand_follower == 5].id.tolist()\n",
    "brand_icons"
   ]
  },
  {
   "cell_type": "markdown",
   "id": "c7d4f2ee",
   "metadata": {
    "id": "c7d4f2ee"
   },
   "source": [
    "### Matrix 2. df_target: what brands are following them\n",
    "\n",
    "### Analysis\n",
    "\n",
    "Among the accounts that the brands are following, 222 accounts are followed by 2 brands, 64 accounts are followed by 3 brands, 44 accounts are followed by 4 brands, 9 accounts are followed by 5 brands. \n",
    "\n",
    "### Define brand_icons:\n",
    "\n",
    "The 9 accounts that are followed by 5 brands are: \n",
    "\n",
    "['14222518',\n",
    " '40965341',\n",
    " '19247844',\n",
    " '19658436',\n",
    " '19546942',\n",
    " '15279429',\n",
    " '32469566',\n",
    " '14934818',\n",
    " '482591078']"
   ]
  },
  {
   "cell_type": "code",
   "execution_count": 71,
   "id": "71642af5",
   "metadata": {
    "id": "71642af5",
    "outputId": "37030c2e-f3ff-4093-a542-1289b99bc7e4"
   },
   "outputs": [
    {
     "data": {
      "text/plain": "(array([2.000e+00, 0.000e+00, 2.445e+03, 0.000e+00, 2.220e+02, 0.000e+00,\n        6.400e+01, 0.000e+00, 4.400e+01, 9.000e+00]),\n array([0. , 0.5, 1. , 1.5, 2. , 2.5, 3. , 3.5, 4. , 4.5, 5. ]),\n <BarContainer object of 10 artists>)"
     },
     "execution_count": 71,
     "metadata": {},
     "output_type": "execute_result"
    },
    {
     "data": {
      "text/plain": "<Figure size 640x480 with 1 Axes>",
      "image/png": "[encoded data removed]"
     },
     "metadata": {},
     "output_type": "display_data"
    }
   ],
   "source": [
    "plt.hist(df_target.n_brand_follower)"
   ]
  },
  {
   "cell_type": "markdown",
   "id": "f595b861",
   "metadata": {
    "id": "f595b861"
   },
   "source": [
    "### Matrix 1"
   ]
  },
  {
   "cell_type": "code",
   "execution_count": 72,
   "id": "59062012",
   "metadata": {
    "id": "59062012",
    "outputId": "e3872309-ed16-4ba3-f74b-9b7de16cc308"
   },
   "outputs": [
    {
     "name": "stdout",
     "output_type": "stream",
     "text": [
      "1568382218002735105 --- ['4_@cerave', '1_@EsteeLauder', '3_@Neutrogena', '5_@SkinCeuticals']\n",
      "1572625750003441664 --- ['4_@cerave', '1_@EsteeLauder', '3_@Neutrogena', '5_@SkinCeuticals']\n",
      "1572641040032567301 --- ['4_@cerave', '1_@EsteeLauder', '3_@Neutrogena', '5_@SkinCeuticals']\n",
      "1409136155384221698 --- ['4_@cerave', '1_@EsteeLauder', '3_@Neutrogena', '5_@SkinCeuticals']\n",
      "3059011803 --- ['4_@cerave', '2_@dermalogica', '3_@Neutrogena', '5_@SkinCeuticals']\n",
      "1565358112172818434 --- ['4_@cerave', '2_@dermalogica', '1_@EsteeLauder', '5_@SkinCeuticals']\n",
      "1556000179081416706 --- ['4_@cerave', '1_@EsteeLauder', '3_@Neutrogena', '5_@SkinCeuticals']\n",
      "1541449042604990465 --- ['4_@cerave', '2_@dermalogica', '3_@Neutrogena', '5_@SkinCeuticals']\n"
     ]
    }
   ],
   "source": [
    "for aa in big_fans:\n",
    "    print(aa, '---', list(df[df['source'] == aa]['target']))"
   ]
  },
  {
   "cell_type": "code",
   "execution_count": 73,
   "id": "6da6f0c0",
   "metadata": {
    "id": "6da6f0c0",
    "outputId": "28676eab-42d9-4168-d2f9-87de25c68ca0"
   },
   "outputs": [
    {
     "name": "stdout",
     "output_type": "stream",
     "text": [
      "1568382218002735105 --- []\n",
      "1572625750003441664 --- []\n",
      "1572641040032567301 --- []\n",
      "1409136155384221698 --- []\n",
      "3059011803 --- []\n",
      "1565358112172818434 --- []\n",
      "1556000179081416706 --- []\n",
      "1541449042604990465 --- []\n"
     ]
    }
   ],
   "source": [
    "for aa in big_fans:\n",
    "    print(aa, '---', list(df[df['target'] == aa]['source']))"
   ]
  },
  {
   "cell_type": "code",
   "execution_count": 74,
   "id": "2a9b4308",
   "metadata": {
    "id": "2a9b4308",
    "outputId": "d3d80274-810b-48a3-a626-01fa99bb39a8"
   },
   "outputs": [
    {
     "data": {
      "text/plain": "                 id  following  1_@EsteeLauder  2_@dermalogica  3_@Neutrogena  4_@cerave  5_@SkinCeuticals  n_brand_following\n0    2_@dermalogica       1225               0               0              0          0                 0                  0\n1  5_@SkinCeuticals        997               0               1              0          1                 0                  2\n2    1_@EsteeLauder        452               0               0              0          0                 0                  0\n3     3_@Neutrogena        432               0               0              0          0                 0                  0\n4         4_@cerave        196               0               0              0          0                 1                  1",
      "text/html": "<div>\n<style scoped>\n    .dataframe tbody tr th:only-of-type {\n        vertical-align: middle;\n    }\n\n    .dataframe tbody tr th {\n        vertical-align: top;\n    }\n\n    .dataframe thead th {\n        text-align: right;\n    }\n</style>\n<table border=\"1\" class=\"dataframe\">\n  <thead>\n    <tr style=\"text-align: right;\">\n      <th></th>\n      <th>id</th>\n      <th>following</th>\n      <th>1_@EsteeLauder</th>\n      <th>2_@dermalogica</th>\n      <th>3_@Neutrogena</th>\n      <th>4_@cerave</th>\n      <th>5_@SkinCeuticals</th>\n      <th>n_brand_following</th>\n    </tr>\n  </thead>\n  <tbody>\n    <tr>\n      <th>0</th>\n      <td>2_@dermalogica</td>\n      <td>1225</td>\n      <td>0</td>\n      <td>0</td>\n      <td>0</td>\n      <td>0</td>\n      <td>0</td>\n      <td>0</td>\n    </tr>\n    <tr>\n      <th>1</th>\n      <td>5_@SkinCeuticals</td>\n      <td>997</td>\n      <td>0</td>\n      <td>1</td>\n      <td>0</td>\n      <td>1</td>\n      <td>0</td>\n      <td>2</td>\n    </tr>\n    <tr>\n      <th>2</th>\n      <td>1_@EsteeLauder</td>\n      <td>452</td>\n      <td>0</td>\n      <td>0</td>\n      <td>0</td>\n      <td>0</td>\n      <td>0</td>\n      <td>0</td>\n    </tr>\n    <tr>\n      <th>3</th>\n      <td>3_@Neutrogena</td>\n      <td>432</td>\n      <td>0</td>\n      <td>0</td>\n      <td>0</td>\n      <td>0</td>\n      <td>0</td>\n      <td>0</td>\n    </tr>\n    <tr>\n      <th>4</th>\n      <td>4_@cerave</td>\n      <td>196</td>\n      <td>0</td>\n      <td>0</td>\n      <td>0</td>\n      <td>0</td>\n      <td>1</td>\n      <td>1</td>\n    </tr>\n  </tbody>\n</table>\n</div>"
     },
     "execution_count": 74,
     "metadata": {},
     "output_type": "execute_result"
    }
   ],
   "source": [
    "df_source.head(5)"
   ]
  },
  {
   "cell_type": "markdown",
   "id": "ae6b0934",
   "metadata": {
    "id": "ae6b0934"
   },
   "source": [
    "### Matrix 2"
   ]
  },
  {
   "cell_type": "code",
   "execution_count": 75,
   "id": "aecb7540",
   "metadata": {
    "id": "aecb7540",
    "outputId": "84aa4d85-d4f0-4447-e277-0d487d233c9c"
   },
   "outputs": [
    {
     "name": "stdout",
     "output_type": "stream",
     "text": [
      "14222518 --- ['5_@SkinCeuticals', '4_@cerave', '1_@EsteeLauder', '2_@dermalogica', '3_@Neutrogena']\n",
      "40965341 --- ['5_@SkinCeuticals', '4_@cerave', '1_@EsteeLauder', '2_@dermalogica', '3_@Neutrogena']\n",
      "19247844 --- ['5_@SkinCeuticals', '4_@cerave', '1_@EsteeLauder', '2_@dermalogica', '3_@Neutrogena']\n",
      "19658436 --- ['5_@SkinCeuticals', '4_@cerave', '1_@EsteeLauder', '2_@dermalogica', '3_@Neutrogena']\n",
      "19546942 --- ['5_@SkinCeuticals', '4_@cerave', '1_@EsteeLauder', '2_@dermalogica', '3_@Neutrogena']\n",
      "15279429 --- ['5_@SkinCeuticals', '4_@cerave', '1_@EsteeLauder', '2_@dermalogica', '3_@Neutrogena']\n",
      "32469566 --- ['5_@SkinCeuticals', '4_@cerave', '1_@EsteeLauder', '2_@dermalogica', '3_@Neutrogena']\n",
      "14934818 --- ['5_@SkinCeuticals', '4_@cerave', '1_@EsteeLauder', '2_@dermalogica', '3_@Neutrogena']\n",
      "482591078 --- ['5_@SkinCeuticals', '4_@cerave', '1_@EsteeLauder', '2_@dermalogica', '3_@Neutrogena']\n"
     ]
    }
   ],
   "source": [
    "for bb in brand_icons:\n",
    "    print(bb, '---', list(df[df['target'] == bb]['source']))"
   ]
  },
  {
   "cell_type": "code",
   "execution_count": 76,
   "id": "21e217d7",
   "metadata": {
    "id": "21e217d7",
    "outputId": "ca2ca4ac-d984-4989-c3e6-fafda5bae480"
   },
   "outputs": [
    {
     "name": "stdout",
     "output_type": "stream",
     "text": [
      "14222518 --- []\n",
      "40965341 --- []\n",
      "19247844 --- []\n",
      "19658436 --- []\n",
      "19546942 --- []\n",
      "15279429 --- []\n",
      "32469566 --- []\n",
      "14934818 --- []\n",
      "482591078 --- []\n"
     ]
    }
   ],
   "source": [
    "for bb in brand_icons:\n",
    "    print(bb, '---', list(df[df['source'] == bb]['target']))"
   ]
  },
  {
   "cell_type": "code",
   "execution_count": 77,
   "id": "48af23f0",
   "metadata": {
    "id": "48af23f0",
    "outputId": "9015bc1d-f88b-4251-c70e-88921b1b362c"
   },
   "outputs": [
    {
     "data": {
      "text/plain": "                 id  follower  1_@EsteeLauder  2_@dermalogica  3_@Neutrogena  4_@cerave  5_@SkinCeuticals  n_brand_follower\n0         4_@cerave      5001               0               0              0          0                 1                 1\n1  5_@SkinCeuticals      5001               0               0              0          1                 0                 1\n2    2_@dermalogica      5001               0               0              0          0                 1                 1\n3    1_@EsteeLauder      5000               0               0              0          0                 0                 0\n4     3_@Neutrogena      5000               0               0              0          0                 0                 0",
      "text/html": "<div>\n<style scoped>\n    .dataframe tbody tr th:only-of-type {\n        vertical-align: middle;\n    }\n\n    .dataframe tbody tr th {\n        vertical-align: top;\n    }\n\n    .dataframe thead th {\n        text-align: right;\n    }\n</style>\n<table border=\"1\" class=\"dataframe\">\n  <thead>\n    <tr style=\"text-align: right;\">\n      <th></th>\n      <th>id</th>\n      <th>follower</th>\n      <th>1_@EsteeLauder</th>\n      <th>2_@dermalogica</th>\n      <th>3_@Neutrogena</th>\n      <th>4_@cerave</th>\n      <th>5_@SkinCeuticals</th>\n      <th>n_brand_follower</th>\n    </tr>\n  </thead>\n  <tbody>\n    <tr>\n      <th>0</th>\n      <td>4_@cerave</td>\n      <td>5001</td>\n      <td>0</td>\n      <td>0</td>\n      <td>0</td>\n      <td>0</td>\n      <td>1</td>\n      <td>1</td>\n    </tr>\n    <tr>\n      <th>1</th>\n      <td>5_@SkinCeuticals</td>\n      <td>5001</td>\n      <td>0</td>\n      <td>0</td>\n      <td>0</td>\n      <td>1</td>\n      <td>0</td>\n      <td>1</td>\n    </tr>\n    <tr>\n      <th>2</th>\n      <td>2_@dermalogica</td>\n      <td>5001</td>\n      <td>0</td>\n      <td>0</td>\n      <td>0</td>\n      <td>0</td>\n      <td>1</td>\n      <td>1</td>\n    </tr>\n    <tr>\n      <th>3</th>\n      <td>1_@EsteeLauder</td>\n      <td>5000</td>\n      <td>0</td>\n      <td>0</td>\n      <td>0</td>\n      <td>0</td>\n      <td>0</td>\n      <td>0</td>\n    </tr>\n    <tr>\n      <th>4</th>\n      <td>3_@Neutrogena</td>\n      <td>5000</td>\n      <td>0</td>\n      <td>0</td>\n      <td>0</td>\n      <td>0</td>\n      <td>0</td>\n      <td>0</td>\n    </tr>\n  </tbody>\n</table>\n</div>"
     },
     "execution_count": 77,
     "metadata": {},
     "output_type": "execute_result"
    }
   ],
   "source": [
    "df_target.head(5)"
   ]
  },
  {
   "cell_type": "markdown",
   "source": [
    "# Contribution by Munira Tabassum"
   ],
   "metadata": {
    "collapsed": false
   }
  },
  {
   "cell_type": "code",
   "execution_count": 3,
   "id": "cd023fa1",
   "metadata": {
    "id": "cd023fa1"
   },
   "outputs": [],
   "source": [
    "df_tweets = pd.read_csv('brand_tweets.csv', index_col=0, dtype={'id': str})"
   ]
  },
  {
   "cell_type": "code",
   "execution_count": 14,
   "outputs": [
    {
     "data": {
      "text/plain": "['user',\n 'id',\n 'id_str',\n 'full_text',\n 'truncated',\n 'display_text_range',\n 'entities',\n 'source',\n 'in_reply_to_status_id',\n 'in_reply_to_status_id_str',\n 'in_reply_to_user_id',\n 'in_reply_to_user_id_str',\n 'in_reply_to_screen_name',\n 'geo',\n 'coordinates',\n 'place',\n 'contributors',\n 'is_quote_status',\n 'retweet_count',\n 'favorite_count',\n 'favorited',\n 'retweeted',\n 'lang',\n 'possibly_sensitive',\n 'retweeted_status',\n 'quoted_status',\n 'text',\n 'favorited_by',\n 'scopes',\n 'display_text_width',\n 'quoted_status_id',\n 'quoted_status_id_str',\n 'quoted_status_permalink',\n 'quote_count',\n 'timestamp_ms',\n 'reply_count',\n 'filter_level',\n 'metadata',\n 'query',\n 'withheld_scope',\n 'withheld_copyright',\n 'withheld_in_countries',\n 'possibly_sensitive_appealable']"
     },
     "execution_count": 14,
     "metadata": {},
     "output_type": "execute_result"
    }
   ],
   "source": [
    "df_tweets.columns.to_list()"
   ],
   "metadata": {
    "collapsed": false
   }
  },
  {
   "cell_type": "code",
   "execution_count": 17,
   "outputs": [
    {
     "name": "stdout",
     "output_type": "stream",
     "text": [
      "                               user                       id               id_str                                          full_text  truncated  display_text_range  entities                                             source  in_reply_to_status_id  in_reply_to_status_id_str  in_reply_to_user_id  in_reply_to_user_id_str in_reply_to_screen_name  geo  coordinates  place  contributors  is_quote_status  retweet_count  favorite_count  favorited  retweeted lang possibly_sensitive  retweeted_status  quoted_status                                               text  favorited_by  scopes  display_text_width  quoted_status_id  quoted_status_id_str  quoted_status_permalink  quote_count  timestamp_ms  reply_count  filter_level  metadata  query  withheld_scope  withheld_copyright  withheld_in_countries  possibly_sensitive_appealable\n",
      "created_at                                                                                                                                                                                                                                                                                                                                                                                                                                                                                                                                                                                                                                                                                                                                                                                                                                                   \n",
      "2022-09-29T17:16:16Z  skinceuticals      1575534941869207600  1575534941869207553  @wwd   includes Silymarin CF in their acne ser...      False                 188       NaN  <a href=\"https://www.sprinklr.com\" rel=\"nofoll...                    NaN                        NaN           19784831.0               19784831.0                     wwd  NaN          NaN    NaN           NaN            False              0               0      False      False   en              False               NaN            NaN  @wwd   includes Silymarin CF in their acne ser...           NaN     NaN                 NaN               NaN                   NaN                      NaN          NaN           NaN          NaN           NaN       NaN    NaN             NaN                 NaN                    NaN                            NaN\n",
      "2022-09-28T14:00:01Z  skinceuticals       1575123166095188e3  1575123166095187968  Amplify your skin’s hyaluronic acid levels wit...      False                 135       NaN  <a href=\"https://www.sprinklr.com\" rel=\"nofoll...                    NaN                        NaN                  NaN                      NaN                     NaN  NaN          NaN    NaN           NaN            False              0               5      False      False   en              False               NaN            NaN  Amplify your skin’s hyaluronic acid levels wit...           NaN     NaN                 NaN               NaN                   NaN                      NaN          NaN           NaN          NaN           NaN       NaN    NaN             NaN                 NaN                    NaN                            NaN\n",
      "2022-09-26T16:00:01Z  skinceuticals      1574428588081913900  1574428588081913856  “[A.G.E Eye Complex] works well for anyone who...      False                 219       NaN  <a href=\"https://www.sprinklr.com\" rel=\"nofoll...                    NaN                        NaN                  NaN                      NaN                     NaN  NaN          NaN    NaN           NaN            False              0               2      False      False   en              False               NaN            NaN  “[A.G.E Eye Complex] works well for anyone who...           NaN     NaN                 NaN               NaN                   NaN                      NaN          NaN           NaN          NaN           NaN       NaN    NaN             NaN                 NaN                    NaN                            NaN\n",
      "2022-09-23T21:30:26Z  skinceuticals      1573424578038464500  1573424578038464514  RT @skincare: You need to book a @SkinCeutical...      False                  86       NaN  <a href=\"https://mobile.twitter.com\" rel=\"nofo...                    NaN                        NaN                  NaN                      NaN                     NaN  NaN          NaN    NaN           NaN            False              1               0      False      False   en              False               NaN            NaN  RT @skincare: You need to book a @SkinCeutical...           NaN     NaN                 NaN               NaN                   NaN                      NaN          NaN           NaN          NaN           NaN       NaN    NaN             NaN                 NaN                    NaN                            NaN\n",
      "2022-09-23T21:30:03Z  skinceuticals  1.5734244782431519e+018  1573424478243151889  RT @VogueRunway: If you ask your trusted skin-...      False                 140       NaN  <a href=\"https://mobile.twitter.com\" rel=\"nofo...                    NaN                        NaN                  NaN                      NaN                     NaN  NaN          NaN    NaN           NaN            False              2               0      False      False   en                NaN               NaN            NaN  RT @VogueRunway: If you ask your trusted skin-...           NaN     NaN                 NaN               NaN                   NaN                      NaN          NaN           NaN          NaN           NaN       NaN    NaN             NaN                 NaN                    NaN                            NaN\n"
     ]
    },
    {
     "data": {
      "text/plain": "1157"
     },
     "execution_count": 17,
     "metadata": {},
     "output_type": "execute_result"
    }
   ],
   "source": [
    "# print(df_tweets[df_tweets.retweet_count == df_tweets.retweet_count.max()])\n",
    "print(df_tweets[df_tweets.text.str.contains('@|#')].head(5))\n",
    "df_tweets_w_mentions = df_tweets[df_tweets.full_text.str.contains('@|#')]\n",
    "len(df_tweets_w_mentions)"
   ],
   "metadata": {
    "collapsed": false
   }
  },
  {
   "cell_type": "code",
   "execution_count": 23,
   "outputs": [
    {
     "data": {
      "text/plain": "['esteelauder', 'neutrogena', 'cerave', 'dermalogica', 'skinceuticals']"
     },
     "execution_count": 23,
     "metadata": {},
     "output_type": "execute_result"
    }
   ],
   "source": [
    "brands_list = set(df_tweets_w_mentions.user)\n",
    "brands_list = list(brands_list)\n",
    "brands_list"
   ],
   "metadata": {
    "collapsed": false
   }
  },
  {
   "cell_type": "code",
   "execution_count": 33,
   "outputs": [
    {
     "name": "stdout",
     "output_type": "stream",
     "text": [
      "printing brand mentions:\n",
      "                               user                   id               id_str                                          full_text  truncated  display_text_range  entities                                             source  in_reply_to_status_id  in_reply_to_status_id_str  in_reply_to_user_id  in_reply_to_user_id_str in_reply_to_screen_name  geo  coordinates  place  contributors  is_quote_status  retweet_count  favorite_count  favorited  retweeted lang possibly_sensitive  retweeted_status  quoted_status                                               text  favorited_by  scopes  display_text_width  quoted_status_id  quoted_status_id_str  quoted_status_permalink  quote_count  timestamp_ms  reply_count  filter_level  metadata  query  withheld_scope  withheld_copyright  withheld_in_countries  possibly_sensitive_appealable\n",
      "created_at                                                                                                                                                                                                                                                                                                                                                                                                                                                                                                                                                                                                                                                                                                                                                                                                                                               \n",
      "2022-09-19T18:30:02Z  skinceuticals  1571929627370684400  1571929627370684417  Pro-tip: The best way to apply serum to the fa...      False                 230       NaN  <a href=\"https://www.sprinklr.com\" rel=\"nofoll...           1.571930e+18               1.571930e+18          132543891.0              132543891.0           skinceuticals  NaN          NaN    NaN           NaN            False              1               3      False      False   en                NaN               NaN            NaN  Pro-tip: The best way to apply serum to the fa...           NaN     NaN                 NaN               NaN                   NaN                      NaN          NaN           NaN          NaN           NaN       NaN    NaN             NaN                 NaN                    NaN                            NaN\n",
      "2022-09-09T19:30:59Z  skinceuticals  1568321084080140300  1568321084080140291  How to use: Hold the bottle 6 inches away from...      False                 215       NaN  <a href=\"https://www.sprinklr.com\" rel=\"nofoll...           1.568321e+18               1.568321e+18          132543891.0              132543891.0           skinceuticals  NaN          NaN    NaN           NaN            False              0               3      False      False   en                NaN               NaN            NaN  How to use: Hold the bottle 6 inches away from...           NaN     NaN                 NaN               NaN                   NaN                      NaN          NaN           NaN          NaN           NaN       NaN    NaN             NaN                 NaN                    NaN                            NaN\n",
      "2022-09-08T20:30:03Z  skinceuticals    156797356281165e4  1567973562811650049                📷: @contempoaesthetics // Instagram      False                  35       NaN  <a href=\"https://www.sprinklr.com\" rel=\"nofoll...           1.567974e+18               1.567974e+18          132543891.0              132543891.0           skinceuticals  NaN          NaN    NaN           NaN            False              0               3      False      False   en                NaN               NaN            NaN                📷: @contempoaesthetics // Instagram           NaN     NaN                 NaN               NaN                   NaN                      NaN          NaN           NaN          NaN           NaN       NaN    NaN             NaN                 NaN                    NaN                            NaN\n",
      "2022-09-07T18:33:48Z  skinceuticals  1567581921156251600  1567581921156251657  Consumers say they love using this product aft...      False                 230       NaN  <a href=\"https://www.sprinklr.com\" rel=\"nofoll...           1.567582e+18               1.567582e+18          132543891.0              132543891.0           skinceuticals  NaN          NaN    NaN           NaN            False              0               2      False      False   en                NaN               NaN            NaN  Consumers say they love using this product aft...           NaN     NaN                 NaN               NaN                   NaN                      NaN          NaN           NaN          NaN           NaN       NaN    NaN             NaN                 NaN                    NaN                            NaN\n",
      "2022-09-05T18:30:03Z  skinceuticals   1566856199089361e3  1566856199089360901  Formulated with HEPES for gentle enzyme-based ...      False                 280       NaN  <a href=\"https://www.sprinklr.com\" rel=\"nofoll...           1.566856e+18               1.566856e+18          132543891.0              132543891.0           skinceuticals  NaN          NaN    NaN           NaN            False              0               4      False      False   en              False               NaN            NaN  Formulated with HEPES for gentle enzyme-based ...           NaN     NaN                 NaN               NaN                   NaN                      NaN          NaN           NaN          NaN           NaN       NaN    NaN             NaN                 NaN                    NaN                            NaN\n",
      "20\n"
     ]
    },
    {
     "name": "stderr",
     "output_type": "stream",
     "text": [
      "C:\\Users\\fazal\\AppData\\Local\\Temp\\ipykernel_11080\\1940976745.py:3: SettingWithCopyWarning: \n",
      "A value is trying to be set on a copy of a slice from a DataFrame.\n",
      "Try using .loc[row_indexer,col_indexer] = value instead\n",
      "\n",
      "See the caveats in the documentation: https://pandas.pydata.org/pandas-docs/stable/user_guide/indexing.html#returning-a-view-versus-a-copy\n",
      "  df_tweets_w_mentions.in_reply_to_screen_name = df_tweets_w_mentions.in_reply_to_screen_name.str.lower()\n"
     ]
    }
   ],
   "source": [
    "print('printing brand mentions:')\n",
    "# make in_reply_to_screen_name to lower case\n",
    "df_tweets_w_mentions.in_reply_to_screen_name = df_tweets_w_mentions.in_reply_to_screen_name.str.lower()\n",
    "tweets_brand_mentions = df_tweets_w_mentions.loc[df_tweets_w_mentions.in_reply_to_screen_name.isin(brands_list),]\n",
    "print(tweets_brand_mentions.head(5))\n",
    "print(len(tweets_brand_mentions))"
   ],
   "metadata": {
    "collapsed": false
   }
  },
  {
   "cell_type": "code",
   "execution_count": 38,
   "outputs": [
    {
     "data": {
      "text/plain": "                               user                   id               id_str                                          full_text  truncated  display_text_range  entities                                             source  in_reply_to_status_id  in_reply_to_status_id_str  in_reply_to_user_id  in_reply_to_user_id_str in_reply_to_screen_name  geo  coordinates  place  contributors  is_quote_status  retweet_count  favorite_count  favorited  retweeted lang possibly_sensitive  retweeted_status  quoted_status                                               text  favorited_by  scopes  display_text_width  quoted_status_id  quoted_status_id_str  quoted_status_permalink  quote_count  timestamp_ms  reply_count  filter_level  metadata  query  withheld_scope  withheld_copyright  withheld_in_countries  possibly_sensitive_appealable\ncreated_at                                                                                                                                                                                                                                                                                                                                                                                                                                                                                                                                                                                                                                                                                                                                                                                                                                               \n2022-06-29T12:00:02Z  skinceuticals  1542115673601724400  1542115673601724416  In addition to providing a broad range of broa...      False                 154       NaN  <a href=\"https://www.sprinklr.com\" rel=\"nofoll...           1.542116e+18               1.542116e+18          132543891.0              132543891.0           skinceuticals  NaN          NaN    NaN           NaN            False              2               8      False      False   en                NaN               NaN            NaN  In addition to providing a broad range of broa...           NaN     NaN                 NaN               NaN                   NaN                      NaN          NaN           NaN          NaN           NaN       NaN    NaN             NaN                 NaN                    NaN                            NaN\n2022-09-19T18:30:02Z  skinceuticals  1571929627370684400  1571929627370684417  Pro-tip: The best way to apply serum to the fa...      False                 230       NaN  <a href=\"https://www.sprinklr.com\" rel=\"nofoll...           1.571930e+18               1.571930e+18          132543891.0              132543891.0           skinceuticals  NaN          NaN    NaN           NaN            False              1               3      False      False   en                NaN               NaN            NaN  Pro-tip: The best way to apply serum to the fa...           NaN     NaN                 NaN               NaN                   NaN                      NaN          NaN           NaN          NaN           NaN       NaN    NaN             NaN                 NaN                    NaN                            NaN\n2022-09-03T18:30:07Z  skinceuticals  1566131441099894800  1566131441099894784  Recommended for combination skin, it can also ...      False                 273       NaN  <a href=\"https://www.sprinklr.com\" rel=\"nofoll...           1.566131e+18               1.566131e+18          132543891.0              132543891.0           skinceuticals  NaN          NaN    NaN           NaN            False              1               3      False      False   en                NaN               NaN            NaN  Recommended for combination skin, it can also ...           NaN     NaN                 NaN               NaN                   NaN                      NaN          NaN           NaN          NaN           NaN       NaN    NaN             NaN                 NaN                    NaN                            NaN\n2022-08-02T18:00:09Z  skinceuticals   1554527486171562e3  1554527486171561984  Pro-Tip: Consult a SkinCeuticals skincare prof...      False                 240       NaN  <a href=\"https://www.sprinklr.com\" rel=\"nofoll...           1.554527e+18               1.554527e+18          132543891.0              132543891.0           skinceuticals  NaN          NaN    NaN           NaN            False              0               2      False      False   en                NaN               NaN            NaN  Pro-Tip: Consult a SkinCeuticals skincare prof...           NaN     NaN                 NaN               NaN                   NaN                      NaN          NaN           NaN          NaN           NaN       NaN    NaN             NaN                 NaN                    NaN                            NaN\n2022-06-20T20:24:16Z     neutrogena  1538981077209186300  1538981077209186304  Get to know #FirstFrame Fellow, Sarah Jean, an...      False                 139       NaN  <a href=\"https://mobile.twitter.com\" rel=\"nofo...           1.528831e+18               1.528831e+18           91259072.0               91259072.0              neutrogena  NaN          NaN    NaN           NaN            False              0               1      False      False   en              False               NaN            NaN  Get to know #FirstFrame Fellow, Sarah Jean, an...           NaN     NaN                 NaN               NaN                   NaN                      NaN          NaN           NaN          NaN           NaN       NaN    NaN             NaN                 NaN                    NaN                            NaN",
      "text/html": "<div>\n<style scoped>\n    .dataframe tbody tr th:only-of-type {\n        vertical-align: middle;\n    }\n\n    .dataframe tbody tr th {\n        vertical-align: top;\n    }\n\n    .dataframe thead th {\n        text-align: right;\n    }\n</style>\n<table border=\"1\" class=\"dataframe\">\n  <thead>\n    <tr style=\"text-align: right;\">\n      <th></th>\n      <th>user</th>\n      <th>id</th>\n      <th>id_str</th>\n      <th>full_text</th>\n      <th>truncated</th>\n      <th>display_text_range</th>\n      <th>entities</th>\n      <th>source</th>\n      <th>in_reply_to_status_id</th>\n      <th>in_reply_to_status_id_str</th>\n      <th>in_reply_to_user_id</th>\n      <th>in_reply_to_user_id_str</th>\n      <th>in_reply_to_screen_name</th>\n      <th>geo</th>\n      <th>coordinates</th>\n      <th>place</th>\n      <th>contributors</th>\n      <th>is_quote_status</th>\n      <th>retweet_count</th>\n      <th>favorite_count</th>\n      <th>favorited</th>\n      <th>retweeted</th>\n      <th>lang</th>\n      <th>possibly_sensitive</th>\n      <th>retweeted_status</th>\n      <th>quoted_status</th>\n      <th>text</th>\n      <th>favorited_by</th>\n      <th>scopes</th>\n      <th>display_text_width</th>\n      <th>quoted_status_id</th>\n      <th>quoted_status_id_str</th>\n      <th>quoted_status_permalink</th>\n      <th>quote_count</th>\n      <th>timestamp_ms</th>\n      <th>reply_count</th>\n      <th>filter_level</th>\n      <th>metadata</th>\n      <th>query</th>\n      <th>withheld_scope</th>\n      <th>withheld_copyright</th>\n      <th>withheld_in_countries</th>\n      <th>possibly_sensitive_appealable</th>\n    </tr>\n    <tr>\n      <th>created_at</th>\n      <th></th>\n      <th></th>\n      <th></th>\n      <th></th>\n      <th></th>\n      <th></th>\n      <th></th>\n      <th></th>\n      <th></th>\n      <th></th>\n      <th></th>\n      <th></th>\n      <th></th>\n      <th></th>\n      <th></th>\n      <th></th>\n      <th></th>\n      <th></th>\n      <th></th>\n      <th></th>\n      <th></th>\n      <th></th>\n      <th></th>\n      <th></th>\n      <th></th>\n      <th></th>\n      <th></th>\n      <th></th>\n      <th></th>\n      <th></th>\n      <th></th>\n      <th></th>\n      <th></th>\n      <th></th>\n      <th></th>\n      <th></th>\n      <th></th>\n      <th></th>\n      <th></th>\n      <th></th>\n      <th></th>\n      <th></th>\n      <th></th>\n    </tr>\n  </thead>\n  <tbody>\n    <tr>\n      <th>2022-06-29T12:00:02Z</th>\n      <td>skinceuticals</td>\n      <td>1542115673601724400</td>\n      <td>1542115673601724416</td>\n      <td>In addition to providing a broad range of broa...</td>\n      <td>False</td>\n      <td>154</td>\n      <td>NaN</td>\n      <td>&lt;a href=\"https://www.sprinklr.com\" rel=\"nofoll...</td>\n      <td>1.542116e+18</td>\n      <td>1.542116e+18</td>\n      <td>132543891.0</td>\n      <td>132543891.0</td>\n      <td>skinceuticals</td>\n      <td>NaN</td>\n      <td>NaN</td>\n      <td>NaN</td>\n      <td>NaN</td>\n      <td>False</td>\n      <td>2</td>\n      <td>8</td>\n      <td>False</td>\n      <td>False</td>\n      <td>en</td>\n      <td>NaN</td>\n      <td>NaN</td>\n      <td>NaN</td>\n      <td>In addition to providing a broad range of broa...</td>\n      <td>NaN</td>\n      <td>NaN</td>\n      <td>NaN</td>\n      <td>NaN</td>\n      <td>NaN</td>\n      <td>NaN</td>\n      <td>NaN</td>\n      <td>NaN</td>\n      <td>NaN</td>\n      <td>NaN</td>\n      <td>NaN</td>\n      <td>NaN</td>\n      <td>NaN</td>\n      <td>NaN</td>\n      <td>NaN</td>\n      <td>NaN</td>\n    </tr>\n    <tr>\n      <th>2022-09-19T18:30:02Z</th>\n      <td>skinceuticals</td>\n      <td>1571929627370684400</td>\n      <td>1571929627370684417</td>\n      <td>Pro-tip: The best way to apply serum to the fa...</td>\n      <td>False</td>\n      <td>230</td>\n      <td>NaN</td>\n      <td>&lt;a href=\"https://www.sprinklr.com\" rel=\"nofoll...</td>\n      <td>1.571930e+18</td>\n      <td>1.571930e+18</td>\n      <td>132543891.0</td>\n      <td>132543891.0</td>\n      <td>skinceuticals</td>\n      <td>NaN</td>\n      <td>NaN</td>\n      <td>NaN</td>\n      <td>NaN</td>\n      <td>False</td>\n      <td>1</td>\n      <td>3</td>\n      <td>False</td>\n      <td>False</td>\n      <td>en</td>\n      <td>NaN</td>\n      <td>NaN</td>\n      <td>NaN</td>\n      <td>Pro-tip: The best way to apply serum to the fa...</td>\n      <td>NaN</td>\n      <td>NaN</td>\n      <td>NaN</td>\n      <td>NaN</td>\n      <td>NaN</td>\n      <td>NaN</td>\n      <td>NaN</td>\n      <td>NaN</td>\n      <td>NaN</td>\n      <td>NaN</td>\n      <td>NaN</td>\n      <td>NaN</td>\n      <td>NaN</td>\n      <td>NaN</td>\n      <td>NaN</td>\n      <td>NaN</td>\n    </tr>\n    <tr>\n      <th>2022-09-03T18:30:07Z</th>\n      <td>skinceuticals</td>\n      <td>1566131441099894800</td>\n      <td>1566131441099894784</td>\n      <td>Recommended for combination skin, it can also ...</td>\n      <td>False</td>\n      <td>273</td>\n      <td>NaN</td>\n      <td>&lt;a href=\"https://www.sprinklr.com\" rel=\"nofoll...</td>\n      <td>1.566131e+18</td>\n      <td>1.566131e+18</td>\n      <td>132543891.0</td>\n      <td>132543891.0</td>\n      <td>skinceuticals</td>\n      <td>NaN</td>\n      <td>NaN</td>\n      <td>NaN</td>\n      <td>NaN</td>\n      <td>False</td>\n      <td>1</td>\n      <td>3</td>\n      <td>False</td>\n      <td>False</td>\n      <td>en</td>\n      <td>NaN</td>\n      <td>NaN</td>\n      <td>NaN</td>\n      <td>Recommended for combination skin, it can also ...</td>\n      <td>NaN</td>\n      <td>NaN</td>\n      <td>NaN</td>\n      <td>NaN</td>\n      <td>NaN</td>\n      <td>NaN</td>\n      <td>NaN</td>\n      <td>NaN</td>\n      <td>NaN</td>\n      <td>NaN</td>\n      <td>NaN</td>\n      <td>NaN</td>\n      <td>NaN</td>\n      <td>NaN</td>\n      <td>NaN</td>\n      <td>NaN</td>\n    </tr>\n    <tr>\n      <th>2022-08-02T18:00:09Z</th>\n      <td>skinceuticals</td>\n      <td>1554527486171562e3</td>\n      <td>1554527486171561984</td>\n      <td>Pro-Tip: Consult a SkinCeuticals skincare prof...</td>\n      <td>False</td>\n      <td>240</td>\n      <td>NaN</td>\n      <td>&lt;a href=\"https://www.sprinklr.com\" rel=\"nofoll...</td>\n      <td>1.554527e+18</td>\n      <td>1.554527e+18</td>\n      <td>132543891.0</td>\n      <td>132543891.0</td>\n      <td>skinceuticals</td>\n      <td>NaN</td>\n      <td>NaN</td>\n      <td>NaN</td>\n      <td>NaN</td>\n      <td>False</td>\n      <td>0</td>\n      <td>2</td>\n      <td>False</td>\n      <td>False</td>\n      <td>en</td>\n      <td>NaN</td>\n      <td>NaN</td>\n      <td>NaN</td>\n      <td>Pro-Tip: Consult a SkinCeuticals skincare prof...</td>\n      <td>NaN</td>\n      <td>NaN</td>\n      <td>NaN</td>\n      <td>NaN</td>\n      <td>NaN</td>\n      <td>NaN</td>\n      <td>NaN</td>\n      <td>NaN</td>\n      <td>NaN</td>\n      <td>NaN</td>\n      <td>NaN</td>\n      <td>NaN</td>\n      <td>NaN</td>\n      <td>NaN</td>\n      <td>NaN</td>\n      <td>NaN</td>\n    </tr>\n    <tr>\n      <th>2022-06-20T20:24:16Z</th>\n      <td>neutrogena</td>\n      <td>1538981077209186300</td>\n      <td>1538981077209186304</td>\n      <td>Get to know #FirstFrame Fellow, Sarah Jean, an...</td>\n      <td>False</td>\n      <td>139</td>\n      <td>NaN</td>\n      <td>&lt;a href=\"https://mobile.twitter.com\" rel=\"nofo...</td>\n      <td>1.528831e+18</td>\n      <td>1.528831e+18</td>\n      <td>91259072.0</td>\n      <td>91259072.0</td>\n      <td>neutrogena</td>\n      <td>NaN</td>\n      <td>NaN</td>\n      <td>NaN</td>\n      <td>NaN</td>\n      <td>False</td>\n      <td>0</td>\n      <td>1</td>\n      <td>False</td>\n      <td>False</td>\n      <td>en</td>\n      <td>False</td>\n      <td>NaN</td>\n      <td>NaN</td>\n      <td>Get to know #FirstFrame Fellow, Sarah Jean, an...</td>\n      <td>NaN</td>\n      <td>NaN</td>\n      <td>NaN</td>\n      <td>NaN</td>\n      <td>NaN</td>\n      <td>NaN</td>\n      <td>NaN</td>\n      <td>NaN</td>\n      <td>NaN</td>\n      <td>NaN</td>\n      <td>NaN</td>\n      <td>NaN</td>\n      <td>NaN</td>\n      <td>NaN</td>\n      <td>NaN</td>\n      <td>NaN</td>\n    </tr>\n  </tbody>\n</table>\n</div>"
     },
     "execution_count": 38,
     "metadata": {},
     "output_type": "execute_result"
    }
   ],
   "source": [
    "# order the rows by retweet_count\n",
    "top_brand_mentions_retweet_count = tweets_brand_mentions.sort_values(by='retweet_count', ascending=False).head(5)\n",
    "top_brand_mentions_retweet_count"
   ],
   "metadata": {
    "collapsed": false
   }
  },
  {
   "cell_type": "code",
   "execution_count": 39,
   "outputs": [
    {
     "data": {
      "text/plain": "                               user                   id               id_str                                          full_text  truncated  display_text_range  entities                                             source  in_reply_to_status_id  in_reply_to_status_id_str  in_reply_to_user_id  in_reply_to_user_id_str in_reply_to_screen_name  geo  coordinates  place  contributors  is_quote_status  retweet_count  favorite_count  favorited  retweeted lang possibly_sensitive  retweeted_status  quoted_status                                               text  favorited_by  scopes  display_text_width  quoted_status_id  quoted_status_id_str  quoted_status_permalink  quote_count  timestamp_ms  reply_count  filter_level  metadata  query  withheld_scope  withheld_copyright  withheld_in_countries  possibly_sensitive_appealable\ncreated_at                                                                                                                                                                                                                                                                                                                                                                                                                                                                                                                                                                                                                                                                                                                                                                                                                                               \n2022-06-29T12:00:02Z  skinceuticals  1542115673601724400  1542115673601724416  In addition to providing a broad range of broa...      False                 154       NaN  <a href=\"https://www.sprinklr.com\" rel=\"nofoll...           1.542116e+18               1.542116e+18          132543891.0              132543891.0           skinceuticals  NaN          NaN    NaN           NaN            False              2               8      False      False   en                NaN               NaN            NaN  In addition to providing a broad range of broa...           NaN     NaN                 NaN               NaN                   NaN                      NaN          NaN           NaN          NaN           NaN       NaN    NaN             NaN                 NaN                    NaN                            NaN\n2022-05-23T20:10:05Z     neutrogena  1528830646897938400  1528830646897938432  Get to know #FirstFrame Fellow, Kyra, and go #...      False                 159       NaN  <a href=\"https://mobile.twitter.com\" rel=\"nofo...           1.520099e+18               1.520099e+18           91259072.0               91259072.0              neutrogena  NaN          NaN    NaN           NaN            False              0               5      False      False   en              False               NaN            NaN  Get to know #FirstFrame Fellow, Kyra, and go #...           NaN     NaN                 NaN               NaN                   NaN                      NaN          NaN           NaN          NaN           NaN       NaN    NaN             NaN                 NaN                    NaN                            NaN\n2022-09-05T18:30:03Z  skinceuticals   1566856199089361e3  1566856199089360901  Formulated with HEPES for gentle enzyme-based ...      False                 280       NaN  <a href=\"https://www.sprinklr.com\" rel=\"nofoll...           1.566856e+18               1.566856e+18          132543891.0              132543891.0           skinceuticals  NaN          NaN    NaN           NaN            False              0               4      False      False   en              False               NaN            NaN  Formulated with HEPES for gentle enzyme-based ...           NaN     NaN                 NaN               NaN                   NaN                      NaN          NaN           NaN          NaN           NaN       NaN    NaN             NaN                 NaN                    NaN                            NaN\n2022-07-28T18:00:08Z  skinceuticals  1552715543152672800  1552715543152672769  Pro-Tip: Apply 4-5 drops of Phloretin CF in th...      False                 137       NaN  <a href=\"https://www.sprinklr.com\" rel=\"nofoll...           1.552716e+18               1.552716e+18          132543891.0              132543891.0           skinceuticals  NaN          NaN    NaN           NaN            False              0               4      False      False   en                NaN               NaN            NaN  Pro-Tip: Apply 4-5 drops of Phloretin CF in th...           NaN     NaN                 NaN               NaN                   NaN                      NaN          NaN           NaN          NaN           NaN       NaN    NaN             NaN                 NaN                    NaN                            NaN\n2022-09-09T19:30:59Z  skinceuticals  1568321084080140300  1568321084080140291  How to use: Hold the bottle 6 inches away from...      False                 215       NaN  <a href=\"https://www.sprinklr.com\" rel=\"nofoll...           1.568321e+18               1.568321e+18          132543891.0              132543891.0           skinceuticals  NaN          NaN    NaN           NaN            False              0               3      False      False   en                NaN               NaN            NaN  How to use: Hold the bottle 6 inches away from...           NaN     NaN                 NaN               NaN                   NaN                      NaN          NaN           NaN          NaN           NaN       NaN    NaN             NaN                 NaN                    NaN                            NaN",
      "text/html": "<div>\n<style scoped>\n    .dataframe tbody tr th:only-of-type {\n        vertical-align: middle;\n    }\n\n    .dataframe tbody tr th {\n        vertical-align: top;\n    }\n\n    .dataframe thead th {\n        text-align: right;\n    }\n</style>\n<table border=\"1\" class=\"dataframe\">\n  <thead>\n    <tr style=\"text-align: right;\">\n      <th></th>\n      <th>user</th>\n      <th>id</th>\n      <th>id_str</th>\n      <th>full_text</th>\n      <th>truncated</th>\n      <th>display_text_range</th>\n      <th>entities</th>\n      <th>source</th>\n      <th>in_reply_to_status_id</th>\n      <th>in_reply_to_status_id_str</th>\n      <th>in_reply_to_user_id</th>\n      <th>in_reply_to_user_id_str</th>\n      <th>in_reply_to_screen_name</th>\n      <th>geo</th>\n      <th>coordinates</th>\n      <th>place</th>\n      <th>contributors</th>\n      <th>is_quote_status</th>\n      <th>retweet_count</th>\n      <th>favorite_count</th>\n      <th>favorited</th>\n      <th>retweeted</th>\n      <th>lang</th>\n      <th>possibly_sensitive</th>\n      <th>retweeted_status</th>\n      <th>quoted_status</th>\n      <th>text</th>\n      <th>favorited_by</th>\n      <th>scopes</th>\n      <th>display_text_width</th>\n      <th>quoted_status_id</th>\n      <th>quoted_status_id_str</th>\n      <th>quoted_status_permalink</th>\n      <th>quote_count</th>\n      <th>timestamp_ms</th>\n      <th>reply_count</th>\n      <th>filter_level</th>\n      <th>metadata</th>\n      <th>query</th>\n      <th>withheld_scope</th>\n      <th>withheld_copyright</th>\n      <th>withheld_in_countries</th>\n      <th>possibly_sensitive_appealable</th>\n    </tr>\n    <tr>\n      <th>created_at</th>\n      <th></th>\n      <th></th>\n      <th></th>\n      <th></th>\n      <th></th>\n      <th></th>\n      <th></th>\n      <th></th>\n      <th></th>\n      <th></th>\n      <th></th>\n      <th></th>\n      <th></th>\n      <th></th>\n      <th></th>\n      <th></th>\n      <th></th>\n      <th></th>\n      <th></th>\n      <th></th>\n      <th></th>\n      <th></th>\n      <th></th>\n      <th></th>\n      <th></th>\n      <th></th>\n      <th></th>\n      <th></th>\n      <th></th>\n      <th></th>\n      <th></th>\n      <th></th>\n      <th></th>\n      <th></th>\n      <th></th>\n      <th></th>\n      <th></th>\n      <th></th>\n      <th></th>\n      <th></th>\n      <th></th>\n      <th></th>\n      <th></th>\n    </tr>\n  </thead>\n  <tbody>\n    <tr>\n      <th>2022-06-29T12:00:02Z</th>\n      <td>skinceuticals</td>\n      <td>1542115673601724400</td>\n      <td>1542115673601724416</td>\n      <td>In addition to providing a broad range of broa...</td>\n      <td>False</td>\n      <td>154</td>\n      <td>NaN</td>\n      <td>&lt;a href=\"https://www.sprinklr.com\" rel=\"nofoll...</td>\n      <td>1.542116e+18</td>\n      <td>1.542116e+18</td>\n      <td>132543891.0</td>\n      <td>132543891.0</td>\n      <td>skinceuticals</td>\n      <td>NaN</td>\n      <td>NaN</td>\n      <td>NaN</td>\n      <td>NaN</td>\n      <td>False</td>\n      <td>2</td>\n      <td>8</td>\n      <td>False</td>\n      <td>False</td>\n      <td>en</td>\n      <td>NaN</td>\n      <td>NaN</td>\n      <td>NaN</td>\n      <td>In addition to providing a broad range of broa...</td>\n      <td>NaN</td>\n      <td>NaN</td>\n      <td>NaN</td>\n      <td>NaN</td>\n      <td>NaN</td>\n      <td>NaN</td>\n      <td>NaN</td>\n      <td>NaN</td>\n      <td>NaN</td>\n      <td>NaN</td>\n      <td>NaN</td>\n      <td>NaN</td>\n      <td>NaN</td>\n      <td>NaN</td>\n      <td>NaN</td>\n      <td>NaN</td>\n    </tr>\n    <tr>\n      <th>2022-05-23T20:10:05Z</th>\n      <td>neutrogena</td>\n      <td>1528830646897938400</td>\n      <td>1528830646897938432</td>\n      <td>Get to know #FirstFrame Fellow, Kyra, and go #...</td>\n      <td>False</td>\n      <td>159</td>\n      <td>NaN</td>\n      <td>&lt;a href=\"https://mobile.twitter.com\" rel=\"nofo...</td>\n      <td>1.520099e+18</td>\n      <td>1.520099e+18</td>\n      <td>91259072.0</td>\n      <td>91259072.0</td>\n      <td>neutrogena</td>\n      <td>NaN</td>\n      <td>NaN</td>\n      <td>NaN</td>\n      <td>NaN</td>\n      <td>False</td>\n      <td>0</td>\n      <td>5</td>\n      <td>False</td>\n      <td>False</td>\n      <td>en</td>\n      <td>False</td>\n      <td>NaN</td>\n      <td>NaN</td>\n      <td>Get to know #FirstFrame Fellow, Kyra, and go #...</td>\n      <td>NaN</td>\n      <td>NaN</td>\n      <td>NaN</td>\n      <td>NaN</td>\n      <td>NaN</td>\n      <td>NaN</td>\n      <td>NaN</td>\n      <td>NaN</td>\n      <td>NaN</td>\n      <td>NaN</td>\n      <td>NaN</td>\n      <td>NaN</td>\n      <td>NaN</td>\n      <td>NaN</td>\n      <td>NaN</td>\n      <td>NaN</td>\n    </tr>\n    <tr>\n      <th>2022-09-05T18:30:03Z</th>\n      <td>skinceuticals</td>\n      <td>1566856199089361e3</td>\n      <td>1566856199089360901</td>\n      <td>Formulated with HEPES for gentle enzyme-based ...</td>\n      <td>False</td>\n      <td>280</td>\n      <td>NaN</td>\n      <td>&lt;a href=\"https://www.sprinklr.com\" rel=\"nofoll...</td>\n      <td>1.566856e+18</td>\n      <td>1.566856e+18</td>\n      <td>132543891.0</td>\n      <td>132543891.0</td>\n      <td>skinceuticals</td>\n      <td>NaN</td>\n      <td>NaN</td>\n      <td>NaN</td>\n      <td>NaN</td>\n      <td>False</td>\n      <td>0</td>\n      <td>4</td>\n      <td>False</td>\n      <td>False</td>\n      <td>en</td>\n      <td>False</td>\n      <td>NaN</td>\n      <td>NaN</td>\n      <td>Formulated with HEPES for gentle enzyme-based ...</td>\n      <td>NaN</td>\n      <td>NaN</td>\n      <td>NaN</td>\n      <td>NaN</td>\n      <td>NaN</td>\n      <td>NaN</td>\n      <td>NaN</td>\n      <td>NaN</td>\n      <td>NaN</td>\n      <td>NaN</td>\n      <td>NaN</td>\n      <td>NaN</td>\n      <td>NaN</td>\n      <td>NaN</td>\n      <td>NaN</td>\n      <td>NaN</td>\n    </tr>\n    <tr>\n      <th>2022-07-28T18:00:08Z</th>\n      <td>skinceuticals</td>\n      <td>1552715543152672800</td>\n      <td>1552715543152672769</td>\n      <td>Pro-Tip: Apply 4-5 drops of Phloretin CF in th...</td>\n      <td>False</td>\n      <td>137</td>\n      <td>NaN</td>\n      <td>&lt;a href=\"https://www.sprinklr.com\" rel=\"nofoll...</td>\n      <td>1.552716e+18</td>\n      <td>1.552716e+18</td>\n      <td>132543891.0</td>\n      <td>132543891.0</td>\n      <td>skinceuticals</td>\n      <td>NaN</td>\n      <td>NaN</td>\n      <td>NaN</td>\n      <td>NaN</td>\n      <td>False</td>\n      <td>0</td>\n      <td>4</td>\n      <td>False</td>\n      <td>False</td>\n      <td>en</td>\n      <td>NaN</td>\n      <td>NaN</td>\n      <td>NaN</td>\n      <td>Pro-Tip: Apply 4-5 drops of Phloretin CF in th...</td>\n      <td>NaN</td>\n      <td>NaN</td>\n      <td>NaN</td>\n      <td>NaN</td>\n      <td>NaN</td>\n      <td>NaN</td>\n      <td>NaN</td>\n      <td>NaN</td>\n      <td>NaN</td>\n      <td>NaN</td>\n      <td>NaN</td>\n      <td>NaN</td>\n      <td>NaN</td>\n      <td>NaN</td>\n      <td>NaN</td>\n      <td>NaN</td>\n    </tr>\n    <tr>\n      <th>2022-09-09T19:30:59Z</th>\n      <td>skinceuticals</td>\n      <td>1568321084080140300</td>\n      <td>1568321084080140291</td>\n      <td>How to use: Hold the bottle 6 inches away from...</td>\n      <td>False</td>\n      <td>215</td>\n      <td>NaN</td>\n      <td>&lt;a href=\"https://www.sprinklr.com\" rel=\"nofoll...</td>\n      <td>1.568321e+18</td>\n      <td>1.568321e+18</td>\n      <td>132543891.0</td>\n      <td>132543891.0</td>\n      <td>skinceuticals</td>\n      <td>NaN</td>\n      <td>NaN</td>\n      <td>NaN</td>\n      <td>NaN</td>\n      <td>False</td>\n      <td>0</td>\n      <td>3</td>\n      <td>False</td>\n      <td>False</td>\n      <td>en</td>\n      <td>NaN</td>\n      <td>NaN</td>\n      <td>NaN</td>\n      <td>How to use: Hold the bottle 6 inches away from...</td>\n      <td>NaN</td>\n      <td>NaN</td>\n      <td>NaN</td>\n      <td>NaN</td>\n      <td>NaN</td>\n      <td>NaN</td>\n      <td>NaN</td>\n      <td>NaN</td>\n      <td>NaN</td>\n      <td>NaN</td>\n      <td>NaN</td>\n      <td>NaN</td>\n      <td>NaN</td>\n      <td>NaN</td>\n      <td>NaN</td>\n      <td>NaN</td>\n    </tr>\n  </tbody>\n</table>\n</div>"
     },
     "execution_count": 39,
     "metadata": {},
     "output_type": "execute_result"
    }
   ],
   "source": [
    "# order the rows by favorite_count\n",
    "top_brand_mention_fav_count = tweets_brand_mentions.sort_values(by='favorite_count', ascending=False).head(5)\n",
    "top_brand_mention_fav_count"
   ],
   "metadata": {
    "collapsed": false
   }
  },
  {
   "cell_type": "code",
   "execution_count": 42,
   "outputs": [
    {
     "data": {
      "text/plain": "                             user                   id               id_str                                          full_text  truncated  display_text_range  entities                                             source  in_reply_to_status_id  in_reply_to_status_id_str  in_reply_to_user_id  in_reply_to_user_id_str in_reply_to_screen_name  geo  coordinates  place  contributors  is_quote_status  retweet_count  favorite_count  favorited  retweeted lang possibly_sensitive  retweeted_status  quoted_status                                               text  favorited_by  scopes  display_text_width  quoted_status_id  quoted_status_id_str  quoted_status_permalink  quote_count  timestamp_ms  reply_count  filter_level  metadata  query  withheld_scope  withheld_copyright  withheld_in_countries  possibly_sensitive_appealable\ncreated_at                                                                                                                                                                                                                                                                                                                                                                                                                                                                                                                                                                                                                                                                                                                                                                                                                                             \n2022-06-30T17:00:03Z  esteelauder  1542553564345962500  1542553564345962496  Take our minis on vacation with you – your ski...      False                 142       NaN  <a href=\"https://prod1.sprinklr.com\" rel=\"nofo...                    NaN                        NaN                  NaN                      NaN                     NaN  NaN          NaN    NaN           NaN            False             46              62      False      False   en              False               NaN            NaN  Take our minis on vacation with you – your ski...           NaN     NaN                 NaN               NaN                   NaN                      NaN          NaN           NaN          NaN           NaN       NaN    NaN             NaN                 NaN                    NaN                            NaN\n2022-07-11T14:00:23Z  esteelauder  1546494615695626200  1546494615695626243  NEW #AdvancedNightRepair Eye Supercharged Gel-...      False                 203       NaN  <a href=\"https://prod1.sprinklr.com\" rel=\"nofo...                    NaN                        NaN                  NaN                      NaN                     NaN  NaN          NaN    NaN           NaN            False             37              56      False      False   en              False               NaN            NaN  NEW #AdvancedNightRepair Eye Supercharged Gel-...           NaN     NaN                 NaN               NaN                   NaN                      NaN          NaN           NaN          NaN           NaN       NaN    NaN             NaN                 NaN                    NaN                            NaN\n2022-07-06T15:36:54Z  esteelauder  1544706964978016300  1544706964978016257  🌞 Get a sun-kissed glow with #BronzeGoddess – ...      False                 101       NaN  <a href=\"https://prod1.sprinklr.com\" rel=\"nofo...                    NaN                        NaN                  NaN                      NaN                     NaN  NaN          NaN    NaN           NaN            False             37              63      False      False   en              False               NaN            NaN  🌞 Get a sun-kissed glow with #BronzeGoddess – ...           NaN     NaN                 NaN               NaN                   NaN                      NaN          NaN           NaN          NaN           NaN       NaN    NaN             NaN                 NaN                    NaN                            NaN\n2022-08-05T14:00:02Z  esteelauder  1555554223831613400  1555554223831613441  Now available at @Dillards – Our limited-editi...      False                 200       NaN  <a href=\"https://prod1.sprinklr.com\" rel=\"nofo...                    NaN                        NaN                  NaN                      NaN                     NaN  NaN          NaN    NaN           NaN            False             35              42      False      False   en              False               NaN            NaN  Now available at @Dillards – Our limited-editi...           NaN     NaN                 NaN               NaN                   NaN                      NaN          NaN           NaN          NaN           NaN       NaN    NaN             NaN                 NaN                    NaN                            NaN\n2022-03-25T20:23:21Z  esteelauder  1507453103536279600  1507453103536279554  We’ve transformed #AdvancedNightRepair into a ...      False                 284       NaN  <a href=\"https://prod1.sprinklr.com\" rel=\"nofo...                    NaN                        NaN                  NaN                      NaN                     NaN  NaN          NaN    NaN           NaN            False             33              78      False      False   en              False               NaN            NaN  We’ve transformed #AdvancedNightRepair into a ...           NaN     NaN                 NaN               NaN                   NaN                      NaN          NaN           NaN          NaN           NaN       NaN    NaN             NaN                 NaN                    NaN                            NaN\n2021-06-14T17:13:01Z  dermalogica   1404487049906778e3  1404487049906778116  RT @peter_devito: Fabian was the first model I...      False                 140       NaN  <a href=\"https://mobile.twitter.com\" rel=\"nofo...                    NaN                        NaN                  NaN                      NaN                     NaN  NaN          NaN    NaN           NaN            False             33               0      False      False   en                NaN               NaN            NaN  RT @peter_devito: Fabian was the first model I...           NaN     NaN                 NaN               NaN                   NaN                      NaN          NaN           NaN          NaN           NaN       NaN    NaN             NaN                 NaN                    NaN                            NaN\n2022-06-26T17:00:04Z  esteelauder  1541104017346011100  1541104017346011142  The silky-soft texture of NEW #RevitalizingSup...      False                 244       NaN  <a href=\"https://prod1.sprinklr.com\" rel=\"nofo...                    NaN                        NaN                  NaN                      NaN                     NaN  NaN          NaN    NaN           NaN            False             32              51      False      False   en              False               NaN            NaN  The silky-soft texture of NEW #RevitalizingSup...           NaN     NaN                 NaN               NaN                   NaN                      NaN          NaN           NaN          NaN           NaN       NaN    NaN             NaN                 NaN                    NaN                            NaN\n2022-06-20T15:00:09Z  esteelauder  1538899509576712200  1538899509576712198  Your perfect #lipbalm exists and you’ve got to...      False                 199       NaN  <a href=\"https://prod1.sprinklr.com\" rel=\"nofo...                    NaN                        NaN                  NaN                      NaN                     NaN  NaN          NaN    NaN           NaN            False             31              49      False      False   en              False               NaN            NaN  Your perfect #lipbalm exists and you’ve got to...           NaN     NaN                 NaN               NaN                   NaN                      NaN          NaN           NaN          NaN           NaN       NaN    NaN             NaN                 NaN                    NaN                            NaN\n2022-06-09T15:00:13Z  esteelauder  1534913259555508200  1534913259555508224  Color on the go Take #PureColorEnvy Luxe Quad ...      False                 197       NaN  <a href=\"https://prod1.sprinklr.com\" rel=\"nofo...                    NaN                        NaN                  NaN                      NaN                     NaN  NaN          NaN    NaN           NaN            False             29              44      False      False   en              False               NaN            NaN  Color on the go Take #PureColorEnvy Luxe Quad ...           NaN     NaN                 NaN               NaN                   NaN                      NaN          NaN           NaN          NaN           NaN       NaN    NaN             NaN                 NaN                    NaN                            NaN\n2022-06-18T15:45:09Z  esteelauder   1538186058713772e3  1538186058713772033  How do you get a glow that’s oil free and non-...      False                 238       NaN  <a href=\"https://prod1.sprinklr.com\" rel=\"nofo...                    NaN                        NaN                  NaN                      NaN                     NaN  NaN          NaN    NaN           NaN            False             26              48      False      False   en              False               NaN            NaN  How do you get a glow that’s oil free and non-...           NaN     NaN                 NaN               NaN                   NaN                      NaN          NaN           NaN          NaN           NaN       NaN    NaN             NaN                 NaN                    NaN                            NaN\n...                           ...                  ...                  ...                                                ...        ...                 ...       ...                                                ...                    ...                        ...                  ...                      ...                     ...  ...          ...    ...           ...              ...            ...             ...        ...        ...  ...                ...               ...            ...                                                ...           ...     ...                 ...               ...                   ...                      ...          ...           ...          ...           ...       ...    ...             ...                 ...                    ...                            ...\n2022-08-30T15:56:59Z       cerave  1564643353811206100  1564643353811206144  @JordanGillett15 We're sorry to hear this. Cou...      False                 146       NaN  <a href=\"https://www.sprinklr.com\" rel=\"nofoll...           1.564630e+18               1.564630e+18         1.241506e+18             1.241506e+18         jordangillett15  NaN          NaN    NaN           NaN            False              0               0      False      False   en                NaN               NaN            NaN  @JordanGillett15 We're sorry to hear this. Cou...           NaN     NaN                 NaN               NaN                   NaN                      NaN          NaN           NaN          NaN           NaN       NaN    NaN             NaN                 NaN                    NaN                            NaN\n2022-08-30T14:34:03Z       cerave  1564622481494794200  1564622481494794243  @E_mmaa Thanks for being a fan 💙 Our products ...      False                 234       NaN  <a href=\"https://www.sprinklr.com\" rel=\"nofoll...           1.564599e+18               1.564599e+18         2.653028e+07             2.653028e+07                  e_mmaa  NaN          NaN    NaN           NaN            False              0               1      False      False   en                NaN               NaN            NaN  @E_mmaa Thanks for being a fan 💙 Our products ...           NaN     NaN                 NaN               NaN                   NaN                      NaN          NaN           NaN          NaN           NaN       NaN    NaN             NaN                 NaN                    NaN                            NaN\n2022-08-30T14:01:51Z       cerave  1564614377457815600  1564614377457815558  @Manage53272536 For very dry skin, we recommen...      False                 152       NaN  <a href=\"https://www.sprinklr.com\" rel=\"nofoll...           1.564423e+18               1.564423e+18         1.080934e+18             1.080934e+18          manage53272536  NaN          NaN    NaN           NaN            False              0               0      False      False   en                NaN               NaN            NaN  @Manage53272536 For very dry skin, we recommen...           NaN     NaN                 NaN               NaN                   NaN                      NaN          NaN           NaN          NaN           NaN       NaN    NaN             NaN                 NaN                    NaN                            NaN\n2022-08-30T13:05:11Z       cerave  1564600116245401600  1564600116245401600  @GoddeyUc Product availability and prices diff...      False                 144       NaN  <a href=\"https://www.sprinklr.com\" rel=\"nofoll...           1.564307e+18               1.564307e+18         1.390405e+18             1.390405e+18                goddeyuc  NaN          NaN    NaN           NaN            False              0               0      False      False   en              False               NaN            NaN  @GoddeyUc Product availability and prices diff...           NaN     NaN                 NaN               NaN                   NaN                      NaN          NaN           NaN          NaN           NaN       NaN    NaN             NaN                 NaN                    NaN                            NaN\n2022-08-29T21:32:59Z       cerave   1564365521071399e3  1564365521071398912  @__trashdaddy Our Healing Ointment is always t...      False                  69       NaN  <a href=\"https://mobile.twitter.com\" rel=\"nofo...           1.563977e+18               1.563977e+18         3.591653e+08             3.591653e+08            __trashdaddy  NaN          NaN    NaN           NaN            False              0               1      False      False   en                NaN               NaN            NaN  @__trashdaddy Our Healing Ointment is always t...           NaN     NaN                 NaN               NaN                   NaN                      NaN          NaN           NaN          NaN           NaN       NaN    NaN             NaN                 NaN                    NaN                            NaN\n2022-08-29T21:24:27Z       cerave  1564363375001456600  1564363375001456640  @ItzOmareh The SA Cleanser is better for those...      False                  81       NaN  <a href=\"https://www.sprinklr.com\" rel=\"nofoll...           1.564278e+18               1.564278e+18         1.347375e+18             1.347375e+18               itzomareh  NaN          NaN    NaN           NaN            False              0               0      False      False   en                NaN               NaN            NaN  @ItzOmareh The SA Cleanser is better for those...           NaN     NaN                 NaN               NaN                   NaN                      NaN          NaN           NaN          NaN           NaN       NaN    NaN             NaN                 NaN                    NaN                            NaN\n2022-08-29T18:35:49Z       cerave   1564320934294655e3  1564320934294654977  @capsfan_10 Glad to hear you're a fan of our H...      False                  64       NaN  <a href=\"https://www.sprinklr.com\" rel=\"nofoll...           1.564042e+18               1.564042e+18         3.497627e+08             3.497627e+08              capsfan_10  NaN          NaN    NaN           NaN            False              0               3      False      False   en                NaN               NaN            NaN  @capsfan_10 Glad to hear you're a fan of our H...           NaN     NaN                 NaN               NaN                   NaN                      NaN          NaN           NaN          NaN           NaN       NaN    NaN             NaN                 NaN                    NaN                            NaN\n2022-08-29T18:17:44Z       cerave   1564316386591228e3  1564316386591227911  @Kiks_orjiugo We're so happy to hear that! Tha...      False                  71       NaN  <a href=\"https://www.sprinklr.com\" rel=\"nofoll...           1.563982e+18               1.563982e+18         1.757354e+08             1.757354e+08            kiks_orjiugo  NaN          NaN    NaN           NaN            False              0               1      False      False   en                NaN               NaN            NaN  @Kiks_orjiugo We're so happy to hear that! Tha...           NaN     NaN                 NaN               NaN                   NaN                      NaN          NaN           NaN          NaN           NaN       NaN    NaN             NaN                 NaN                    NaN                            NaN\n2022-08-29T18:12:16Z       cerave  1564315009190047700  1564315009190047744  @caveofbeauty Honored to be one of your recomm...      False                  58       NaN  <a href=\"https://mobile.twitter.com\" rel=\"nofo...           1.563896e+18               1.563896e+18         1.730985e+09             1.730985e+09            caveofbeauty  NaN          NaN    NaN           NaN            False              0               3      False      False   en                NaN               NaN            NaN  @caveofbeauty Honored to be one of your recomm...           NaN     NaN                 NaN               NaN                   NaN                      NaN          NaN           NaN          NaN           NaN       NaN    NaN             NaN                 NaN                    NaN                            NaN\n2022-05-23T15:03:27Z   neutrogena  1528753482597113900  1528753482597113857  @ahhyeah Hi there! We would love to help! When...      False                 108       NaN  <a href=\"https://prod1.sprinklr.com\" rel=\"nofo...           1.527835e+18               1.527835e+18         6.313612e+06             6.313612e+06                 ahhyeah  NaN          NaN    NaN           NaN            False              0               0      False      False   en                NaN               NaN            NaN  @ahhyeah Hi there! We would love to help! When...           NaN     NaN                 NaN               NaN                   NaN                      NaN          NaN           NaN          NaN           NaN       NaN    NaN             NaN                 NaN                    NaN                            NaN\n\n[1157 rows x 43 columns]",
      "text/html": "<div>\n<style scoped>\n    .dataframe tbody tr th:only-of-type {\n        vertical-align: middle;\n    }\n\n    .dataframe tbody tr th {\n        vertical-align: top;\n    }\n\n    .dataframe thead th {\n        text-align: right;\n    }\n</style>\n<table border=\"1\" class=\"dataframe\">\n  <thead>\n    <tr style=\"text-align: right;\">\n      <th></th>\n      <th>user</th>\n      <th>id</th>\n      <th>id_str</th>\n      <th>full_text</th>\n      <th>truncated</th>\n      <th>display_text_range</th>\n      <th>entities</th>\n      <th>source</th>\n      <th>in_reply_to_status_id</th>\n      <th>in_reply_to_status_id_str</th>\n      <th>in_reply_to_user_id</th>\n      <th>in_reply_to_user_id_str</th>\n      <th>in_reply_to_screen_name</th>\n      <th>geo</th>\n      <th>coordinates</th>\n      <th>place</th>\n      <th>contributors</th>\n      <th>is_quote_status</th>\n      <th>retweet_count</th>\n      <th>favorite_count</th>\n      <th>favorited</th>\n      <th>retweeted</th>\n      <th>lang</th>\n      <th>possibly_sensitive</th>\n      <th>retweeted_status</th>\n      <th>quoted_status</th>\n      <th>text</th>\n      <th>favorited_by</th>\n      <th>scopes</th>\n      <th>display_text_width</th>\n      <th>quoted_status_id</th>\n      <th>quoted_status_id_str</th>\n      <th>quoted_status_permalink</th>\n      <th>quote_count</th>\n      <th>timestamp_ms</th>\n      <th>reply_count</th>\n      <th>filter_level</th>\n      <th>metadata</th>\n      <th>query</th>\n      <th>withheld_scope</th>\n      <th>withheld_copyright</th>\n      <th>withheld_in_countries</th>\n      <th>possibly_sensitive_appealable</th>\n    </tr>\n    <tr>\n      <th>created_at</th>\n      <th></th>\n      <th></th>\n      <th></th>\n      <th></th>\n      <th></th>\n      <th></th>\n      <th></th>\n      <th></th>\n      <th></th>\n      <th></th>\n      <th></th>\n      <th></th>\n      <th></th>\n      <th></th>\n      <th></th>\n      <th></th>\n      <th></th>\n      <th></th>\n      <th></th>\n      <th></th>\n      <th></th>\n      <th></th>\n      <th></th>\n      <th></th>\n      <th></th>\n      <th></th>\n      <th></th>\n      <th></th>\n      <th></th>\n      <th></th>\n      <th></th>\n      <th></th>\n      <th></th>\n      <th></th>\n      <th></th>\n      <th></th>\n      <th></th>\n      <th></th>\n      <th></th>\n      <th></th>\n      <th></th>\n      <th></th>\n      <th></th>\n    </tr>\n  </thead>\n  <tbody>\n    <tr>\n      <th>2022-06-30T17:00:03Z</th>\n      <td>esteelauder</td>\n      <td>1542553564345962500</td>\n      <td>1542553564345962496</td>\n      <td>Take our minis on vacation with you – your ski...</td>\n      <td>False</td>\n      <td>142</td>\n      <td>NaN</td>\n      <td>&lt;a href=\"https://prod1.sprinklr.com\" rel=\"nofo...</td>\n      <td>NaN</td>\n      <td>NaN</td>\n      <td>NaN</td>\n      <td>NaN</td>\n      <td>NaN</td>\n      <td>NaN</td>\n      <td>NaN</td>\n      <td>NaN</td>\n      <td>NaN</td>\n      <td>False</td>\n      <td>46</td>\n      <td>62</td>\n      <td>False</td>\n      <td>False</td>\n      <td>en</td>\n      <td>False</td>\n      <td>NaN</td>\n      <td>NaN</td>\n      <td>Take our minis on vacation with you – your ski...</td>\n      <td>NaN</td>\n      <td>NaN</td>\n      <td>NaN</td>\n      <td>NaN</td>\n      <td>NaN</td>\n      <td>NaN</td>\n      <td>NaN</td>\n      <td>NaN</td>\n      <td>NaN</td>\n      <td>NaN</td>\n      <td>NaN</td>\n      <td>NaN</td>\n      <td>NaN</td>\n      <td>NaN</td>\n      <td>NaN</td>\n      <td>NaN</td>\n    </tr>\n    <tr>\n      <th>2022-07-11T14:00:23Z</th>\n      <td>esteelauder</td>\n      <td>1546494615695626200</td>\n      <td>1546494615695626243</td>\n      <td>NEW #AdvancedNightRepair Eye Supercharged Gel-...</td>\n      <td>False</td>\n      <td>203</td>\n      <td>NaN</td>\n      <td>&lt;a href=\"https://prod1.sprinklr.com\" rel=\"nofo...</td>\n      <td>NaN</td>\n      <td>NaN</td>\n      <td>NaN</td>\n      <td>NaN</td>\n      <td>NaN</td>\n      <td>NaN</td>\n      <td>NaN</td>\n      <td>NaN</td>\n      <td>NaN</td>\n      <td>False</td>\n      <td>37</td>\n      <td>56</td>\n      <td>False</td>\n      <td>False</td>\n      <td>en</td>\n      <td>False</td>\n      <td>NaN</td>\n      <td>NaN</td>\n      <td>NEW #AdvancedNightRepair Eye Supercharged Gel-...</td>\n      <td>NaN</td>\n      <td>NaN</td>\n      <td>NaN</td>\n      <td>NaN</td>\n      <td>NaN</td>\n      <td>NaN</td>\n      <td>NaN</td>\n      <td>NaN</td>\n      <td>NaN</td>\n      <td>NaN</td>\n      <td>NaN</td>\n      <td>NaN</td>\n      <td>NaN</td>\n      <td>NaN</td>\n      <td>NaN</td>\n      <td>NaN</td>\n    </tr>\n    <tr>\n      <th>2022-07-06T15:36:54Z</th>\n      <td>esteelauder</td>\n      <td>1544706964978016300</td>\n      <td>1544706964978016257</td>\n      <td>🌞 Get a sun-kissed glow with #BronzeGoddess – ...</td>\n      <td>False</td>\n      <td>101</td>\n      <td>NaN</td>\n      <td>&lt;a href=\"https://prod1.sprinklr.com\" rel=\"nofo...</td>\n      <td>NaN</td>\n      <td>NaN</td>\n      <td>NaN</td>\n      <td>NaN</td>\n      <td>NaN</td>\n      <td>NaN</td>\n      <td>NaN</td>\n      <td>NaN</td>\n      <td>NaN</td>\n      <td>False</td>\n      <td>37</td>\n      <td>63</td>\n      <td>False</td>\n      <td>False</td>\n      <td>en</td>\n      <td>False</td>\n      <td>NaN</td>\n      <td>NaN</td>\n      <td>🌞 Get a sun-kissed glow with #BronzeGoddess – ...</td>\n      <td>NaN</td>\n      <td>NaN</td>\n      <td>NaN</td>\n      <td>NaN</td>\n      <td>NaN</td>\n      <td>NaN</td>\n      <td>NaN</td>\n      <td>NaN</td>\n      <td>NaN</td>\n      <td>NaN</td>\n      <td>NaN</td>\n      <td>NaN</td>\n      <td>NaN</td>\n      <td>NaN</td>\n      <td>NaN</td>\n      <td>NaN</td>\n    </tr>\n    <tr>\n      <th>2022-08-05T14:00:02Z</th>\n      <td>esteelauder</td>\n      <td>1555554223831613400</td>\n      <td>1555554223831613441</td>\n      <td>Now available at @Dillards – Our limited-editi...</td>\n      <td>False</td>\n      <td>200</td>\n      <td>NaN</td>\n      <td>&lt;a href=\"https://prod1.sprinklr.com\" rel=\"nofo...</td>\n      <td>NaN</td>\n      <td>NaN</td>\n      <td>NaN</td>\n      <td>NaN</td>\n      <td>NaN</td>\n      <td>NaN</td>\n      <td>NaN</td>\n      <td>NaN</td>\n      <td>NaN</td>\n      <td>False</td>\n      <td>35</td>\n      <td>42</td>\n      <td>False</td>\n      <td>False</td>\n      <td>en</td>\n      <td>False</td>\n      <td>NaN</td>\n      <td>NaN</td>\n      <td>Now available at @Dillards – Our limited-editi...</td>\n      <td>NaN</td>\n      <td>NaN</td>\n      <td>NaN</td>\n      <td>NaN</td>\n      <td>NaN</td>\n      <td>NaN</td>\n      <td>NaN</td>\n      <td>NaN</td>\n      <td>NaN</td>\n      <td>NaN</td>\n      <td>NaN</td>\n      <td>NaN</td>\n      <td>NaN</td>\n      <td>NaN</td>\n      <td>NaN</td>\n      <td>NaN</td>\n    </tr>\n    <tr>\n      <th>2022-03-25T20:23:21Z</th>\n      <td>esteelauder</td>\n      <td>1507453103536279600</td>\n      <td>1507453103536279554</td>\n      <td>We’ve transformed #AdvancedNightRepair into a ...</td>\n      <td>False</td>\n      <td>284</td>\n      <td>NaN</td>\n      <td>&lt;a href=\"https://prod1.sprinklr.com\" rel=\"nofo...</td>\n      <td>NaN</td>\n      <td>NaN</td>\n      <td>NaN</td>\n      <td>NaN</td>\n      <td>NaN</td>\n      <td>NaN</td>\n      <td>NaN</td>\n      <td>NaN</td>\n      <td>NaN</td>\n      <td>False</td>\n      <td>33</td>\n      <td>78</td>\n      <td>False</td>\n      <td>False</td>\n      <td>en</td>\n      <td>False</td>\n      <td>NaN</td>\n      <td>NaN</td>\n      <td>We’ve transformed #AdvancedNightRepair into a ...</td>\n      <td>NaN</td>\n      <td>NaN</td>\n      <td>NaN</td>\n      <td>NaN</td>\n      <td>NaN</td>\n      <td>NaN</td>\n      <td>NaN</td>\n      <td>NaN</td>\n      <td>NaN</td>\n      <td>NaN</td>\n      <td>NaN</td>\n      <td>NaN</td>\n      <td>NaN</td>\n      <td>NaN</td>\n      <td>NaN</td>\n      <td>NaN</td>\n    </tr>\n    <tr>\n      <th>2021-06-14T17:13:01Z</th>\n      <td>dermalogica</td>\n      <td>1404487049906778e3</td>\n      <td>1404487049906778116</td>\n      <td>RT @peter_devito: Fabian was the first model I...</td>\n      <td>False</td>\n      <td>140</td>\n      <td>NaN</td>\n      <td>&lt;a href=\"https://mobile.twitter.com\" rel=\"nofo...</td>\n      <td>NaN</td>\n      <td>NaN</td>\n      <td>NaN</td>\n      <td>NaN</td>\n      <td>NaN</td>\n      <td>NaN</td>\n      <td>NaN</td>\n      <td>NaN</td>\n      <td>NaN</td>\n      <td>False</td>\n      <td>33</td>\n      <td>0</td>\n      <td>False</td>\n      <td>False</td>\n      <td>en</td>\n      <td>NaN</td>\n      <td>NaN</td>\n      <td>NaN</td>\n      <td>RT @peter_devito: Fabian was the first model I...</td>\n      <td>NaN</td>\n      <td>NaN</td>\n      <td>NaN</td>\n      <td>NaN</td>\n      <td>NaN</td>\n      <td>NaN</td>\n      <td>NaN</td>\n      <td>NaN</td>\n      <td>NaN</td>\n      <td>NaN</td>\n      <td>NaN</td>\n      <td>NaN</td>\n      <td>NaN</td>\n      <td>NaN</td>\n      <td>NaN</td>\n      <td>NaN</td>\n    </tr>\n    <tr>\n      <th>2022-06-26T17:00:04Z</th>\n      <td>esteelauder</td>\n      <td>1541104017346011100</td>\n      <td>1541104017346011142</td>\n      <td>The silky-soft texture of NEW #RevitalizingSup...</td>\n      <td>False</td>\n      <td>244</td>\n      <td>NaN</td>\n      <td>&lt;a href=\"https://prod1.sprinklr.com\" rel=\"nofo...</td>\n      <td>NaN</td>\n      <td>NaN</td>\n      <td>NaN</td>\n      <td>NaN</td>\n      <td>NaN</td>\n      <td>NaN</td>\n      <td>NaN</td>\n      <td>NaN</td>\n      <td>NaN</td>\n      <td>False</td>\n      <td>32</td>\n      <td>51</td>\n      <td>False</td>\n      <td>False</td>\n      <td>en</td>\n      <td>False</td>\n      <td>NaN</td>\n      <td>NaN</td>\n      <td>The silky-soft texture of NEW #RevitalizingSup...</td>\n      <td>NaN</td>\n      <td>NaN</td>\n      <td>NaN</td>\n      <td>NaN</td>\n      <td>NaN</td>\n      <td>NaN</td>\n      <td>NaN</td>\n      <td>NaN</td>\n      <td>NaN</td>\n      <td>NaN</td>\n      <td>NaN</td>\n      <td>NaN</td>\n      <td>NaN</td>\n      <td>NaN</td>\n      <td>NaN</td>\n      <td>NaN</td>\n    </tr>\n    <tr>\n      <th>2022-06-20T15:00:09Z</th>\n      <td>esteelauder</td>\n      <td>1538899509576712200</td>\n      <td>1538899509576712198</td>\n      <td>Your perfect #lipbalm exists and you’ve got to...</td>\n      <td>False</td>\n      <td>199</td>\n      <td>NaN</td>\n      <td>&lt;a href=\"https://prod1.sprinklr.com\" rel=\"nofo...</td>\n      <td>NaN</td>\n      <td>NaN</td>\n      <td>NaN</td>\n      <td>NaN</td>\n      <td>NaN</td>\n      <td>NaN</td>\n      <td>NaN</td>\n      <td>NaN</td>\n      <td>NaN</td>\n      <td>False</td>\n      <td>31</td>\n      <td>49</td>\n      <td>False</td>\n      <td>False</td>\n      <td>en</td>\n      <td>False</td>\n      <td>NaN</td>\n      <td>NaN</td>\n      <td>Your perfect #lipbalm exists and you’ve got to...</td>\n      <td>NaN</td>\n      <td>NaN</td>\n      <td>NaN</td>\n      <td>NaN</td>\n      <td>NaN</td>\n      <td>NaN</td>\n      <td>NaN</td>\n      <td>NaN</td>\n      <td>NaN</td>\n      <td>NaN</td>\n      <td>NaN</td>\n      <td>NaN</td>\n      <td>NaN</td>\n      <td>NaN</td>\n      <td>NaN</td>\n      <td>NaN</td>\n    </tr>\n    <tr>\n      <th>2022-06-09T15:00:13Z</th>\n      <td>esteelauder</td>\n      <td>1534913259555508200</td>\n      <td>1534913259555508224</td>\n      <td>Color on the go Take #PureColorEnvy Luxe Quad ...</td>\n      <td>False</td>\n      <td>197</td>\n      <td>NaN</td>\n      <td>&lt;a href=\"https://prod1.sprinklr.com\" rel=\"nofo...</td>\n      <td>NaN</td>\n      <td>NaN</td>\n      <td>NaN</td>\n      <td>NaN</td>\n      <td>NaN</td>\n      <td>NaN</td>\n      <td>NaN</td>\n      <td>NaN</td>\n      <td>NaN</td>\n      <td>False</td>\n      <td>29</td>\n      <td>44</td>\n      <td>False</td>\n      <td>False</td>\n      <td>en</td>\n      <td>False</td>\n      <td>NaN</td>\n      <td>NaN</td>\n      <td>Color on the go Take #PureColorEnvy Luxe Quad ...</td>\n      <td>NaN</td>\n      <td>NaN</td>\n      <td>NaN</td>\n      <td>NaN</td>\n      <td>NaN</td>\n      <td>NaN</td>\n      <td>NaN</td>\n      <td>NaN</td>\n      <td>NaN</td>\n      <td>NaN</td>\n      <td>NaN</td>\n      <td>NaN</td>\n      <td>NaN</td>\n      <td>NaN</td>\n      <td>NaN</td>\n      <td>NaN</td>\n    </tr>\n    <tr>\n      <th>2022-06-18T15:45:09Z</th>\n      <td>esteelauder</td>\n      <td>1538186058713772e3</td>\n      <td>1538186058713772033</td>\n      <td>How do you get a glow that’s oil free and non-...</td>\n      <td>False</td>\n      <td>238</td>\n      <td>NaN</td>\n      <td>&lt;a href=\"https://prod1.sprinklr.com\" rel=\"nofo...</td>\n      <td>NaN</td>\n      <td>NaN</td>\n      <td>NaN</td>\n      <td>NaN</td>\n      <td>NaN</td>\n      <td>NaN</td>\n      <td>NaN</td>\n      <td>NaN</td>\n      <td>NaN</td>\n      <td>False</td>\n      <td>26</td>\n      <td>48</td>\n      <td>False</td>\n      <td>False</td>\n      <td>en</td>\n      <td>False</td>\n      <td>NaN</td>\n      <td>NaN</td>\n      <td>How do you get a glow that’s oil free and non-...</td>\n      <td>NaN</td>\n      <td>NaN</td>\n      <td>NaN</td>\n      <td>NaN</td>\n      <td>NaN</td>\n      <td>NaN</td>\n      <td>NaN</td>\n      <td>NaN</td>\n      <td>NaN</td>\n      <td>NaN</td>\n      <td>NaN</td>\n      <td>NaN</td>\n      <td>NaN</td>\n      <td>NaN</td>\n      <td>NaN</td>\n      <td>NaN</td>\n    </tr>\n    <tr>\n      <th>...</th>\n      <td>...</td>\n      <td>...</td>\n      <td>...</td>\n      <td>...</td>\n      <td>...</td>\n      <td>...</td>\n      <td>...</td>\n      <td>...</td>\n      <td>...</td>\n      <td>...</td>\n      <td>...</td>\n      <td>...</td>\n      <td>...</td>\n      <td>...</td>\n      <td>...</td>\n      <td>...</td>\n      <td>...</td>\n      <td>...</td>\n      <td>...</td>\n      <td>...</td>\n      <td>...</td>\n      <td>...</td>\n      <td>...</td>\n      <td>...</td>\n      <td>...</td>\n      <td>...</td>\n      <td>...</td>\n      <td>...</td>\n      <td>...</td>\n      <td>...</td>\n      <td>...</td>\n      <td>...</td>\n      <td>...</td>\n      <td>...</td>\n      <td>...</td>\n      <td>...</td>\n      <td>...</td>\n      <td>...</td>\n      <td>...</td>\n      <td>...</td>\n      <td>...</td>\n      <td>...</td>\n      <td>...</td>\n    </tr>\n    <tr>\n      <th>2022-08-30T15:56:59Z</th>\n      <td>cerave</td>\n      <td>1564643353811206100</td>\n      <td>1564643353811206144</td>\n      <td>@JordanGillett15 We're sorry to hear this. Cou...</td>\n      <td>False</td>\n      <td>146</td>\n      <td>NaN</td>\n      <td>&lt;a href=\"https://www.sprinklr.com\" rel=\"nofoll...</td>\n      <td>1.564630e+18</td>\n      <td>1.564630e+18</td>\n      <td>1.241506e+18</td>\n      <td>1.241506e+18</td>\n      <td>jordangillett15</td>\n      <td>NaN</td>\n      <td>NaN</td>\n      <td>NaN</td>\n      <td>NaN</td>\n      <td>False</td>\n      <td>0</td>\n      <td>0</td>\n      <td>False</td>\n      <td>False</td>\n      <td>en</td>\n      <td>NaN</td>\n      <td>NaN</td>\n      <td>NaN</td>\n      <td>@JordanGillett15 We're sorry to hear this. Cou...</td>\n      <td>NaN</td>\n      <td>NaN</td>\n      <td>NaN</td>\n      <td>NaN</td>\n      <td>NaN</td>\n      <td>NaN</td>\n      <td>NaN</td>\n      <td>NaN</td>\n      <td>NaN</td>\n      <td>NaN</td>\n      <td>NaN</td>\n      <td>NaN</td>\n      <td>NaN</td>\n      <td>NaN</td>\n      <td>NaN</td>\n      <td>NaN</td>\n    </tr>\n    <tr>\n      <th>2022-08-30T14:34:03Z</th>\n      <td>cerave</td>\n      <td>1564622481494794200</td>\n      <td>1564622481494794243</td>\n      <td>@E_mmaa Thanks for being a fan 💙 Our products ...</td>\n      <td>False</td>\n      <td>234</td>\n      <td>NaN</td>\n      <td>&lt;a href=\"https://www.sprinklr.com\" rel=\"nofoll...</td>\n      <td>1.564599e+18</td>\n      <td>1.564599e+18</td>\n      <td>2.653028e+07</td>\n      <td>2.653028e+07</td>\n      <td>e_mmaa</td>\n      <td>NaN</td>\n      <td>NaN</td>\n      <td>NaN</td>\n      <td>NaN</td>\n      <td>False</td>\n      <td>0</td>\n      <td>1</td>\n      <td>False</td>\n      <td>False</td>\n      <td>en</td>\n      <td>NaN</td>\n      <td>NaN</td>\n      <td>NaN</td>\n      <td>@E_mmaa Thanks for being a fan 💙 Our products ...</td>\n      <td>NaN</td>\n      <td>NaN</td>\n      <td>NaN</td>\n      <td>NaN</td>\n      <td>NaN</td>\n      <td>NaN</td>\n      <td>NaN</td>\n      <td>NaN</td>\n      <td>NaN</td>\n      <td>NaN</td>\n      <td>NaN</td>\n      <td>NaN</td>\n      <td>NaN</td>\n      <td>NaN</td>\n      <td>NaN</td>\n      <td>NaN</td>\n    </tr>\n    <tr>\n      <th>2022-08-30T14:01:51Z</th>\n      <td>cerave</td>\n      <td>1564614377457815600</td>\n      <td>1564614377457815558</td>\n      <td>@Manage53272536 For very dry skin, we recommen...</td>\n      <td>False</td>\n      <td>152</td>\n      <td>NaN</td>\n      <td>&lt;a href=\"https://www.sprinklr.com\" rel=\"nofoll...</td>\n      <td>1.564423e+18</td>\n      <td>1.564423e+18</td>\n      <td>1.080934e+18</td>\n      <td>1.080934e+18</td>\n      <td>manage53272536</td>\n      <td>NaN</td>\n      <td>NaN</td>\n      <td>NaN</td>\n      <td>NaN</td>\n      <td>False</td>\n      <td>0</td>\n      <td>0</td>\n      <td>False</td>\n      <td>False</td>\n      <td>en</td>\n      <td>NaN</td>\n      <td>NaN</td>\n      <td>NaN</td>\n      <td>@Manage53272536 For very dry skin, we recommen...</td>\n      <td>NaN</td>\n      <td>NaN</td>\n      <td>NaN</td>\n      <td>NaN</td>\n      <td>NaN</td>\n      <td>NaN</td>\n      <td>NaN</td>\n      <td>NaN</td>\n      <td>NaN</td>\n      <td>NaN</td>\n      <td>NaN</td>\n      <td>NaN</td>\n      <td>NaN</td>\n      <td>NaN</td>\n      <td>NaN</td>\n      <td>NaN</td>\n    </tr>\n    <tr>\n      <th>2022-08-30T13:05:11Z</th>\n      <td>cerave</td>\n      <td>1564600116245401600</td>\n      <td>1564600116245401600</td>\n      <td>@GoddeyUc Product availability and prices diff...</td>\n      <td>False</td>\n      <td>144</td>\n      <td>NaN</td>\n      <td>&lt;a href=\"https://www.sprinklr.com\" rel=\"nofoll...</td>\n      <td>1.564307e+18</td>\n      <td>1.564307e+18</td>\n      <td>1.390405e+18</td>\n      <td>1.390405e+18</td>\n      <td>goddeyuc</td>\n      <td>NaN</td>\n      <td>NaN</td>\n      <td>NaN</td>\n      <td>NaN</td>\n      <td>False</td>\n      <td>0</td>\n      <td>0</td>\n      <td>False</td>\n      <td>False</td>\n      <td>en</td>\n      <td>False</td>\n      <td>NaN</td>\n      <td>NaN</td>\n      <td>@GoddeyUc Product availability and prices diff...</td>\n      <td>NaN</td>\n      <td>NaN</td>\n      <td>NaN</td>\n      <td>NaN</td>\n      <td>NaN</td>\n      <td>NaN</td>\n      <td>NaN</td>\n      <td>NaN</td>\n      <td>NaN</td>\n      <td>NaN</td>\n      <td>NaN</td>\n      <td>NaN</td>\n      <td>NaN</td>\n      <td>NaN</td>\n      <td>NaN</td>\n      <td>NaN</td>\n    </tr>\n    <tr>\n      <th>2022-08-29T21:32:59Z</th>\n      <td>cerave</td>\n      <td>1564365521071399e3</td>\n      <td>1564365521071398912</td>\n      <td>@__trashdaddy Our Healing Ointment is always t...</td>\n      <td>False</td>\n      <td>69</td>\n      <td>NaN</td>\n      <td>&lt;a href=\"https://mobile.twitter.com\" rel=\"nofo...</td>\n      <td>1.563977e+18</td>\n      <td>1.563977e+18</td>\n      <td>3.591653e+08</td>\n      <td>3.591653e+08</td>\n      <td>__trashdaddy</td>\n      <td>NaN</td>\n      <td>NaN</td>\n      <td>NaN</td>\n      <td>NaN</td>\n      <td>False</td>\n      <td>0</td>\n      <td>1</td>\n      <td>False</td>\n      <td>False</td>\n      <td>en</td>\n      <td>NaN</td>\n      <td>NaN</td>\n      <td>NaN</td>\n      <td>@__trashdaddy Our Healing Ointment is always t...</td>\n      <td>NaN</td>\n      <td>NaN</td>\n      <td>NaN</td>\n      <td>NaN</td>\n      <td>NaN</td>\n      <td>NaN</td>\n      <td>NaN</td>\n      <td>NaN</td>\n      <td>NaN</td>\n      <td>NaN</td>\n      <td>NaN</td>\n      <td>NaN</td>\n      <td>NaN</td>\n      <td>NaN</td>\n      <td>NaN</td>\n      <td>NaN</td>\n    </tr>\n    <tr>\n      <th>2022-08-29T21:24:27Z</th>\n      <td>cerave</td>\n      <td>1564363375001456600</td>\n      <td>1564363375001456640</td>\n      <td>@ItzOmareh The SA Cleanser is better for those...</td>\n      <td>False</td>\n      <td>81</td>\n      <td>NaN</td>\n      <td>&lt;a href=\"https://www.sprinklr.com\" rel=\"nofoll...</td>\n      <td>1.564278e+18</td>\n      <td>1.564278e+18</td>\n      <td>1.347375e+18</td>\n      <td>1.347375e+18</td>\n      <td>itzomareh</td>\n      <td>NaN</td>\n      <td>NaN</td>\n      <td>NaN</td>\n      <td>NaN</td>\n      <td>False</td>\n      <td>0</td>\n      <td>0</td>\n      <td>False</td>\n      <td>False</td>\n      <td>en</td>\n      <td>NaN</td>\n      <td>NaN</td>\n      <td>NaN</td>\n      <td>@ItzOmareh The SA Cleanser is better for those...</td>\n      <td>NaN</td>\n      <td>NaN</td>\n      <td>NaN</td>\n      <td>NaN</td>\n      <td>NaN</td>\n      <td>NaN</td>\n      <td>NaN</td>\n      <td>NaN</td>\n      <td>NaN</td>\n      <td>NaN</td>\n      <td>NaN</td>\n      <td>NaN</td>\n      <td>NaN</td>\n      <td>NaN</td>\n      <td>NaN</td>\n      <td>NaN</td>\n    </tr>\n    <tr>\n      <th>2022-08-29T18:35:49Z</th>\n      <td>cerave</td>\n      <td>1564320934294655e3</td>\n      <td>1564320934294654977</td>\n      <td>@capsfan_10 Glad to hear you're a fan of our H...</td>\n      <td>False</td>\n      <td>64</td>\n      <td>NaN</td>\n      <td>&lt;a href=\"https://www.sprinklr.com\" rel=\"nofoll...</td>\n      <td>1.564042e+18</td>\n      <td>1.564042e+18</td>\n      <td>3.497627e+08</td>\n      <td>3.497627e+08</td>\n      <td>capsfan_10</td>\n      <td>NaN</td>\n      <td>NaN</td>\n      <td>NaN</td>\n      <td>NaN</td>\n      <td>False</td>\n      <td>0</td>\n      <td>3</td>\n      <td>False</td>\n      <td>False</td>\n      <td>en</td>\n      <td>NaN</td>\n      <td>NaN</td>\n      <td>NaN</td>\n      <td>@capsfan_10 Glad to hear you're a fan of our H...</td>\n      <td>NaN</td>\n      <td>NaN</td>\n      <td>NaN</td>\n      <td>NaN</td>\n      <td>NaN</td>\n      <td>NaN</td>\n      <td>NaN</td>\n      <td>NaN</td>\n      <td>NaN</td>\n      <td>NaN</td>\n      <td>NaN</td>\n      <td>NaN</td>\n      <td>NaN</td>\n      <td>NaN</td>\n      <td>NaN</td>\n      <td>NaN</td>\n    </tr>\n    <tr>\n      <th>2022-08-29T18:17:44Z</th>\n      <td>cerave</td>\n      <td>1564316386591228e3</td>\n      <td>1564316386591227911</td>\n      <td>@Kiks_orjiugo We're so happy to hear that! Tha...</td>\n      <td>False</td>\n      <td>71</td>\n      <td>NaN</td>\n      <td>&lt;a href=\"https://www.sprinklr.com\" rel=\"nofoll...</td>\n      <td>1.563982e+18</td>\n      <td>1.563982e+18</td>\n      <td>1.757354e+08</td>\n      <td>1.757354e+08</td>\n      <td>kiks_orjiugo</td>\n      <td>NaN</td>\n      <td>NaN</td>\n      <td>NaN</td>\n      <td>NaN</td>\n      <td>False</td>\n      <td>0</td>\n      <td>1</td>\n      <td>False</td>\n      <td>False</td>\n      <td>en</td>\n      <td>NaN</td>\n      <td>NaN</td>\n      <td>NaN</td>\n      <td>@Kiks_orjiugo We're so happy to hear that! Tha...</td>\n      <td>NaN</td>\n      <td>NaN</td>\n      <td>NaN</td>\n      <td>NaN</td>\n      <td>NaN</td>\n      <td>NaN</td>\n      <td>NaN</td>\n      <td>NaN</td>\n      <td>NaN</td>\n      <td>NaN</td>\n      <td>NaN</td>\n      <td>NaN</td>\n      <td>NaN</td>\n      <td>NaN</td>\n      <td>NaN</td>\n      <td>NaN</td>\n    </tr>\n    <tr>\n      <th>2022-08-29T18:12:16Z</th>\n      <td>cerave</td>\n      <td>1564315009190047700</td>\n      <td>1564315009190047744</td>\n      <td>@caveofbeauty Honored to be one of your recomm...</td>\n      <td>False</td>\n      <td>58</td>\n      <td>NaN</td>\n      <td>&lt;a href=\"https://mobile.twitter.com\" rel=\"nofo...</td>\n      <td>1.563896e+18</td>\n      <td>1.563896e+18</td>\n      <td>1.730985e+09</td>\n      <td>1.730985e+09</td>\n      <td>caveofbeauty</td>\n      <td>NaN</td>\n      <td>NaN</td>\n      <td>NaN</td>\n      <td>NaN</td>\n      <td>False</td>\n      <td>0</td>\n      <td>3</td>\n      <td>False</td>\n      <td>False</td>\n      <td>en</td>\n      <td>NaN</td>\n      <td>NaN</td>\n      <td>NaN</td>\n      <td>@caveofbeauty Honored to be one of your recomm...</td>\n      <td>NaN</td>\n      <td>NaN</td>\n      <td>NaN</td>\n      <td>NaN</td>\n      <td>NaN</td>\n      <td>NaN</td>\n      <td>NaN</td>\n      <td>NaN</td>\n      <td>NaN</td>\n      <td>NaN</td>\n      <td>NaN</td>\n      <td>NaN</td>\n      <td>NaN</td>\n      <td>NaN</td>\n      <td>NaN</td>\n      <td>NaN</td>\n    </tr>\n    <tr>\n      <th>2022-05-23T15:03:27Z</th>\n      <td>neutrogena</td>\n      <td>1528753482597113900</td>\n      <td>1528753482597113857</td>\n      <td>@ahhyeah Hi there! We would love to help! When...</td>\n      <td>False</td>\n      <td>108</td>\n      <td>NaN</td>\n      <td>&lt;a href=\"https://prod1.sprinklr.com\" rel=\"nofo...</td>\n      <td>1.527835e+18</td>\n      <td>1.527835e+18</td>\n      <td>6.313612e+06</td>\n      <td>6.313612e+06</td>\n      <td>ahhyeah</td>\n      <td>NaN</td>\n      <td>NaN</td>\n      <td>NaN</td>\n      <td>NaN</td>\n      <td>False</td>\n      <td>0</td>\n      <td>0</td>\n      <td>False</td>\n      <td>False</td>\n      <td>en</td>\n      <td>NaN</td>\n      <td>NaN</td>\n      <td>NaN</td>\n      <td>@ahhyeah Hi there! We would love to help! When...</td>\n      <td>NaN</td>\n      <td>NaN</td>\n      <td>NaN</td>\n      <td>NaN</td>\n      <td>NaN</td>\n      <td>NaN</td>\n      <td>NaN</td>\n      <td>NaN</td>\n      <td>NaN</td>\n      <td>NaN</td>\n      <td>NaN</td>\n      <td>NaN</td>\n      <td>NaN</td>\n      <td>NaN</td>\n      <td>NaN</td>\n      <td>NaN</td>\n    </tr>\n  </tbody>\n</table>\n<p>1157 rows × 43 columns</p>\n</div>"
     },
     "execution_count": 42,
     "metadata": {},
     "output_type": "execute_result"
    }
   ],
   "source": [
    "df_tweets_w_mentions.sort_values(by='retweet_count', ascending=False)"
   ],
   "metadata": {
    "collapsed": false
   }
  },
  {
   "cell_type": "code",
   "execution_count": 43,
   "outputs": [
    {
     "data": {
      "text/plain": "                             user                   id               id_str                                          full_text  truncated  display_text_range  entities                                             source  in_reply_to_status_id  in_reply_to_status_id_str  in_reply_to_user_id  in_reply_to_user_id_str in_reply_to_screen_name  geo  coordinates  place  contributors  is_quote_status  retweet_count  favorite_count  favorited  retweeted lang possibly_sensitive  retweeted_status  quoted_status                                               text  favorited_by  scopes  display_text_width  quoted_status_id  quoted_status_id_str  quoted_status_permalink  quote_count  timestamp_ms  reply_count  filter_level  metadata  query  withheld_scope  withheld_copyright  withheld_in_countries  possibly_sensitive_appealable\ncreated_at                                                                                                                                                                                                                                                                                                                                                                                                                                                                                                                                                                                                                                                                                                                                                                                                                                             \n2022-09-02T17:49:41Z       cerave  1565758878662508500  1565758878662508544                 @MakeupForWOC Music to our ears! ✨      False                  34       NaN  <a href=\"http://twitter.com/download/iphone\" r...           1.565755e+18               1.565755e+18         3.950478e+09             3.950478e+09            makeupforwoc  NaN          NaN    NaN           NaN            False              0             165      False      False   en                NaN               NaN            NaN                 @MakeupForWOC Music to our ears! ✨           NaN     NaN                 NaN               NaN                   NaN                      NaN          NaN           NaN          NaN           NaN       NaN    NaN             NaN                 NaN                    NaN                            NaN\n2022-09-10T22:00:02Z  esteelauder  1568720985280622600  1568720985280622595  Backstage beauty with #EsteeGlobalAmbassador A...      False                 185       NaN  <a href=\"https://prod1.sprinklr.com\" rel=\"nofo...                    NaN                        NaN                  NaN                      NaN                     NaN  NaN          NaN    NaN           NaN            False             22             136      False      False   en              False               NaN            NaN  Backstage beauty with #EsteeGlobalAmbassador A...           NaN     NaN                 NaN               NaN                   NaN                      NaN          NaN           NaN          NaN           NaN       NaN    NaN             NaN                 NaN                    NaN                            NaN\n2022-03-25T20:23:21Z  esteelauder  1507453103536279600  1507453103536279554  We’ve transformed #AdvancedNightRepair into a ...      False                 284       NaN  <a href=\"https://prod1.sprinklr.com\" rel=\"nofo...                    NaN                        NaN                  NaN                      NaN                     NaN  NaN          NaN    NaN           NaN            False             33              78      False      False   en              False               NaN            NaN  We’ve transformed #AdvancedNightRepair into a ...           NaN     NaN                 NaN               NaN                   NaN                      NaN          NaN           NaN          NaN           NaN       NaN    NaN             NaN                 NaN                    NaN                            NaN\n2022-08-29T18:06:31Z       cerave  1564313563870773200  1564313563870773249  🗣 Calling our #CeraVeCommunity \\n\\nWe want to ...      False                 156       NaN  <a href=\"https://sproutsocial.com\" rel=\"nofoll...                    NaN                        NaN                  NaN                      NaN                     NaN  NaN          NaN    NaN           NaN            False             18              74      False      False   en              False               NaN            NaN  🗣 Calling our #CeraVeCommunity \\n\\nWe want to ...           NaN     NaN                 NaN               NaN                   NaN                      NaN          NaN           NaN          NaN           NaN       NaN    NaN             NaN                 NaN                    NaN                            NaN\n2022-09-07T14:49:02Z       cerave  1567525355556163600  1567525355556163584  We're here to help you identify which acne pro...      False                 253       NaN  <a href=\"https://sproutsocial.com\" rel=\"nofoll...                    NaN                        NaN                  NaN                      NaN                     NaN  NaN          NaN    NaN           NaN            False              9              64      False      False   en              False               NaN            NaN  We're here to help you identify which acne pro...           NaN     NaN                 NaN               NaN                   NaN                      NaN          NaN           NaN          NaN           NaN       NaN    NaN             NaN                 NaN                    NaN                            NaN\n2022-07-06T15:36:54Z  esteelauder  1544706964978016300  1544706964978016257  🌞 Get a sun-kissed glow with #BronzeGoddess – ...      False                 101       NaN  <a href=\"https://prod1.sprinklr.com\" rel=\"nofo...                    NaN                        NaN                  NaN                      NaN                     NaN  NaN          NaN    NaN           NaN            False             37              63      False      False   en              False               NaN            NaN  🌞 Get a sun-kissed glow with #BronzeGoddess – ...           NaN     NaN                 NaN               NaN                   NaN                      NaN          NaN           NaN          NaN           NaN       NaN    NaN             NaN                 NaN                    NaN                            NaN\n2022-06-30T17:00:03Z  esteelauder  1542553564345962500  1542553564345962496  Take our minis on vacation with you – your ski...      False                 142       NaN  <a href=\"https://prod1.sprinklr.com\" rel=\"nofo...                    NaN                        NaN                  NaN                      NaN                     NaN  NaN          NaN    NaN           NaN            False             46              62      False      False   en              False               NaN            NaN  Take our minis on vacation with you – your ski...           NaN     NaN                 NaN               NaN                   NaN                      NaN          NaN           NaN          NaN           NaN       NaN    NaN             NaN                 NaN                    NaN                            NaN\n2021-07-23T21:55:21Z  dermalogica  1418691230070755300  1418691230070755329  @tyongsneo Thanks for the recommendation! We l...      False                  69       NaN  <a href=\"https://mobile.twitter.com\" rel=\"nofo...           1.418555e+18               1.418555e+18         1.329846e+18             1.329846e+18               tyongsneo  NaN          NaN    NaN           NaN            False             13              60      False      False   en                NaN               NaN            NaN  @tyongsneo Thanks for the recommendation! We l...           NaN     NaN                 NaN               NaN                   NaN                      NaN          NaN           NaN          NaN           NaN       NaN    NaN             NaN                 NaN                    NaN                            NaN\n2022-09-19T13:00:13Z       cerave  1571846622874673200  1571846622874673155  Do you know the right way to apply CeraVe prod...      False                 140       NaN  <a href=\"https://sproutsocial.com\" rel=\"nofoll...                    NaN                        NaN                  NaN                      NaN                     NaN  NaN          NaN    NaN           NaN            False              5              57      False      False   en              False               NaN            NaN  Do you know the right way to apply CeraVe prod...           NaN     NaN                 NaN               NaN                   NaN                      NaN          NaN           NaN          NaN           NaN       NaN    NaN             NaN                 NaN                    NaN                            NaN\n2022-07-11T14:00:23Z  esteelauder  1546494615695626200  1546494615695626243  NEW #AdvancedNightRepair Eye Supercharged Gel-...      False                 203       NaN  <a href=\"https://prod1.sprinklr.com\" rel=\"nofo...                    NaN                        NaN                  NaN                      NaN                     NaN  NaN          NaN    NaN           NaN            False             37              56      False      False   en              False               NaN            NaN  NEW #AdvancedNightRepair Eye Supercharged Gel-...           NaN     NaN                 NaN               NaN                   NaN                      NaN          NaN           NaN          NaN           NaN       NaN    NaN             NaN                 NaN                    NaN                            NaN\n...                           ...                  ...                  ...                                                ...        ...                 ...       ...                                                ...                    ...                        ...                  ...                      ...                     ...  ...          ...    ...           ...              ...            ...             ...        ...        ...  ...                ...               ...            ...                                                ...           ...     ...                 ...               ...                   ...                      ...          ...           ...          ...           ...       ...    ...             ...                 ...                    ...                            ...\n2022-06-20T14:02:37Z  esteelauder   1538885033607549e3  1538885033607548928  @ramdupont We're sorry to hear this, Robyn, an...      False                 214       NaN  <a href=\"https://prod1.sprinklr.com\" rel=\"nofo...           1.538865e+18               1.538865e+18         3.797432e+07             3.797432e+07               ramdupont  NaN          NaN    NaN           NaN            False              0               0      False      False   en              False               NaN            NaN  @ramdupont We're sorry to hear this, Robyn, an...           NaN     NaN                 NaN               NaN                   NaN                      NaN          NaN           NaN          NaN           NaN       NaN    NaN             NaN                 NaN                    NaN                            NaN\n2022-06-18T12:57:05Z  esteelauder  1538143762970562600  1538143762970562561  @MissBlueGaming1 Thanks for checking in with u...      False                 263       NaN  <a href=\"https://prod1.sprinklr.com\" rel=\"nofo...           1.538042e+18               1.538042e+18         1.069610e+18             1.069610e+18         missbluegaming1  NaN          NaN    NaN           NaN            False              0               0      False      False   en              False               NaN            NaN  @MissBlueGaming1 Thanks for checking in with u...           NaN     NaN                 NaN               NaN                   NaN                      NaN          NaN           NaN          NaN           NaN       NaN    NaN             NaN                 NaN                    NaN                            NaN\n2022-06-16T17:04:25Z  esteelauder  1537481232660955100  1537481232660955138  @JustToBeFair1 Thanks for reaching out. We wan...      False                 224       NaN  <a href=\"https://prod1.sprinklr.com\" rel=\"nofo...           1.537226e+18               1.537226e+18         1.282402e+18             1.282402e+18           justtobefair1  NaN          NaN    NaN           NaN            False              0               0      False      False   en                NaN               NaN            NaN  @JustToBeFair1 Thanks for reaching out. We wan...           NaN     NaN                 NaN               NaN                   NaN                      NaN          NaN           NaN          NaN           NaN       NaN    NaN             NaN                 NaN                    NaN                            NaN\n2022-06-15T21:29:35Z  esteelauder  1537185577988145200  1537185577988145155  @Maria72042966 Thank you for reaching out! We ...      False                 171       NaN  <a href=\"https://prod1.sprinklr.com\" rel=\"nofo...           1.537181e+18               1.537181e+18         1.052228e+18             1.052228e+18           maria72042966  NaN          NaN    NaN           NaN            False              0               0      False      False   en                NaN               NaN            NaN  @Maria72042966 Thank you for reaching out! We ...           NaN     NaN                 NaN               NaN                   NaN                      NaN          NaN           NaN          NaN           NaN       NaN    NaN             NaN                 NaN                    NaN                            NaN\n2022-06-14T19:27:20Z  esteelauder  1536792424080715800  1536792424080715781  @SarahWa35834527 Thanks for asking! We wish we...      False                 268       NaN  <a href=\"https://prod1.sprinklr.com\" rel=\"nofo...           1.536790e+18               1.536790e+18         1.519329e+18             1.519329e+18         sarahwa35834527  NaN          NaN    NaN           NaN            False              0               0      False      False   en              False               NaN            NaN  @SarahWa35834527 Thanks for asking! We wish we...           NaN     NaN                 NaN               NaN                   NaN                      NaN          NaN           NaN          NaN           NaN       NaN    NaN             NaN                 NaN                    NaN                            NaN\n2022-06-12T17:15:12Z  esteelauder  1536034394263236600  1536034394263236612  @diagsss Thanks for reaching out. Sustainabili...      False                 207       NaN  <a href=\"https://prod1.sprinklr.com\" rel=\"nofo...           1.536030e+18               1.536030e+18         3.452914e+09             3.452914e+09                 diagsss  NaN          NaN    NaN           NaN            False              0               0      False      False   en              False               NaN            NaN  @diagsss Thanks for reaching out. Sustainabili...           NaN     NaN                 NaN               NaN                   NaN                      NaN          NaN           NaN          NaN           NaN       NaN    NaN             NaN                 NaN                    NaN                            NaN\n2022-06-12T14:02:13Z  esteelauder   1535985826986922e3  1535985826986921984  @CherylS72746836 We appreciate your feedback, ...      False                 210       NaN  <a href=\"https://prod1.sprinklr.com\" rel=\"nofo...           1.535744e+18               1.535744e+18         1.503174e+18             1.503174e+18         cheryls72746836  NaN          NaN    NaN           NaN            False              0               0      False      False   en              False               NaN            NaN  @CherylS72746836 We appreciate your feedback, ...           NaN     NaN                 NaN               NaN                   NaN                      NaN          NaN           NaN          NaN           NaN       NaN    NaN             NaN                 NaN                    NaN                            NaN\n2022-06-10T13:24:03Z  esteelauder  1535251450099531800  1535251450099531776  @Me73561411 Thank you for reaching out.  At Es...      False                 295       NaN  <a href=\"https://prod1.sprinklr.com\" rel=\"nofo...           1.535037e+18               1.535037e+18         1.417040e+18             1.417040e+18              me73561411  NaN          NaN    NaN           NaN            False              0               0      False      False   en                NaN               NaN            NaN  @Me73561411 Thank you for reaching out.  At Es...           NaN     NaN                 NaN               NaN                   NaN                      NaN          NaN           NaN          NaN           NaN       NaN    NaN             NaN                 NaN                    NaN                            NaN\n2022-06-09T23:47:36Z  esteelauder  1535045980063772700  1535045980063772672  @itgirltalk It's the perfect palette for a sub...      False                 102       NaN  <a href=\"https://prod1.sprinklr.com\" rel=\"nofo...           1.534928e+18               1.534928e+18         1.501923e+18             1.501923e+18             offonfriday  NaN          NaN    NaN           NaN            False              0               0      False      False   en                NaN               NaN            NaN  @itgirltalk It's the perfect palette for a sub...           NaN     NaN                 NaN               NaN                   NaN                      NaN          NaN           NaN          NaN           NaN       NaN    NaN             NaN                 NaN                    NaN                            NaN\n2022-05-23T15:03:27Z   neutrogena  1528753482597113900  1528753482597113857  @ahhyeah Hi there! We would love to help! When...      False                 108       NaN  <a href=\"https://prod1.sprinklr.com\" rel=\"nofo...           1.527835e+18               1.527835e+18         6.313612e+06             6.313612e+06                 ahhyeah  NaN          NaN    NaN           NaN            False              0               0      False      False   en                NaN               NaN            NaN  @ahhyeah Hi there! We would love to help! When...           NaN     NaN                 NaN               NaN                   NaN                      NaN          NaN           NaN          NaN           NaN       NaN    NaN             NaN                 NaN                    NaN                            NaN\n\n[1157 rows x 43 columns]",
      "text/html": "<div>\n<style scoped>\n    .dataframe tbody tr th:only-of-type {\n        vertical-align: middle;\n    }\n\n    .dataframe tbody tr th {\n        vertical-align: top;\n    }\n\n    .dataframe thead th {\n        text-align: right;\n    }\n</style>\n<table border=\"1\" class=\"dataframe\">\n  <thead>\n    <tr style=\"text-align: right;\">\n      <th></th>\n      <th>user</th>\n      <th>id</th>\n      <th>id_str</th>\n      <th>full_text</th>\n      <th>truncated</th>\n      <th>display_text_range</th>\n      <th>entities</th>\n      <th>source</th>\n      <th>in_reply_to_status_id</th>\n      <th>in_reply_to_status_id_str</th>\n      <th>in_reply_to_user_id</th>\n      <th>in_reply_to_user_id_str</th>\n      <th>in_reply_to_screen_name</th>\n      <th>geo</th>\n      <th>coordinates</th>\n      <th>place</th>\n      <th>contributors</th>\n      <th>is_quote_status</th>\n      <th>retweet_count</th>\n      <th>favorite_count</th>\n      <th>favorited</th>\n      <th>retweeted</th>\n      <th>lang</th>\n      <th>possibly_sensitive</th>\n      <th>retweeted_status</th>\n      <th>quoted_status</th>\n      <th>text</th>\n      <th>favorited_by</th>\n      <th>scopes</th>\n      <th>display_text_width</th>\n      <th>quoted_status_id</th>\n      <th>quoted_status_id_str</th>\n      <th>quoted_status_permalink</th>\n      <th>quote_count</th>\n      <th>timestamp_ms</th>\n      <th>reply_count</th>\n      <th>filter_level</th>\n      <th>metadata</th>\n      <th>query</th>\n      <th>withheld_scope</th>\n      <th>withheld_copyright</th>\n      <th>withheld_in_countries</th>\n      <th>possibly_sensitive_appealable</th>\n    </tr>\n    <tr>\n      <th>created_at</th>\n      <th></th>\n      <th></th>\n      <th></th>\n      <th></th>\n      <th></th>\n      <th></th>\n      <th></th>\n      <th></th>\n      <th></th>\n      <th></th>\n      <th></th>\n      <th></th>\n      <th></th>\n      <th></th>\n      <th></th>\n      <th></th>\n      <th></th>\n      <th></th>\n      <th></th>\n      <th></th>\n      <th></th>\n      <th></th>\n      <th></th>\n      <th></th>\n      <th></th>\n      <th></th>\n      <th></th>\n      <th></th>\n      <th></th>\n      <th></th>\n      <th></th>\n      <th></th>\n      <th></th>\n      <th></th>\n      <th></th>\n      <th></th>\n      <th></th>\n      <th></th>\n      <th></th>\n      <th></th>\n      <th></th>\n      <th></th>\n      <th></th>\n    </tr>\n  </thead>\n  <tbody>\n    <tr>\n      <th>2022-09-02T17:49:41Z</th>\n      <td>cerave</td>\n      <td>1565758878662508500</td>\n      <td>1565758878662508544</td>\n      <td>@MakeupForWOC Music to our ears! ✨</td>\n      <td>False</td>\n      <td>34</td>\n      <td>NaN</td>\n      <td>&lt;a href=\"http://twitter.com/download/iphone\" r...</td>\n      <td>1.565755e+18</td>\n      <td>1.565755e+18</td>\n      <td>3.950478e+09</td>\n      <td>3.950478e+09</td>\n      <td>makeupforwoc</td>\n      <td>NaN</td>\n      <td>NaN</td>\n      <td>NaN</td>\n      <td>NaN</td>\n      <td>False</td>\n      <td>0</td>\n      <td>165</td>\n      <td>False</td>\n      <td>False</td>\n      <td>en</td>\n      <td>NaN</td>\n      <td>NaN</td>\n      <td>NaN</td>\n      <td>@MakeupForWOC Music to our ears! ✨</td>\n      <td>NaN</td>\n      <td>NaN</td>\n      <td>NaN</td>\n      <td>NaN</td>\n      <td>NaN</td>\n      <td>NaN</td>\n      <td>NaN</td>\n      <td>NaN</td>\n      <td>NaN</td>\n      <td>NaN</td>\n      <td>NaN</td>\n      <td>NaN</td>\n      <td>NaN</td>\n      <td>NaN</td>\n      <td>NaN</td>\n      <td>NaN</td>\n    </tr>\n    <tr>\n      <th>2022-09-10T22:00:02Z</th>\n      <td>esteelauder</td>\n      <td>1568720985280622600</td>\n      <td>1568720985280622595</td>\n      <td>Backstage beauty with #EsteeGlobalAmbassador A...</td>\n      <td>False</td>\n      <td>185</td>\n      <td>NaN</td>\n      <td>&lt;a href=\"https://prod1.sprinklr.com\" rel=\"nofo...</td>\n      <td>NaN</td>\n      <td>NaN</td>\n      <td>NaN</td>\n      <td>NaN</td>\n      <td>NaN</td>\n      <td>NaN</td>\n      <td>NaN</td>\n      <td>NaN</td>\n      <td>NaN</td>\n      <td>False</td>\n      <td>22</td>\n      <td>136</td>\n      <td>False</td>\n      <td>False</td>\n      <td>en</td>\n      <td>False</td>\n      <td>NaN</td>\n      <td>NaN</td>\n      <td>Backstage beauty with #EsteeGlobalAmbassador A...</td>\n      <td>NaN</td>\n      <td>NaN</td>\n      <td>NaN</td>\n      <td>NaN</td>\n      <td>NaN</td>\n      <td>NaN</td>\n      <td>NaN</td>\n      <td>NaN</td>\n      <td>NaN</td>\n      <td>NaN</td>\n      <td>NaN</td>\n      <td>NaN</td>\n      <td>NaN</td>\n      <td>NaN</td>\n      <td>NaN</td>\n      <td>NaN</td>\n    </tr>\n    <tr>\n      <th>2022-03-25T20:23:21Z</th>\n      <td>esteelauder</td>\n      <td>1507453103536279600</td>\n      <td>1507453103536279554</td>\n      <td>We’ve transformed #AdvancedNightRepair into a ...</td>\n      <td>False</td>\n      <td>284</td>\n      <td>NaN</td>\n      <td>&lt;a href=\"https://prod1.sprinklr.com\" rel=\"nofo...</td>\n      <td>NaN</td>\n      <td>NaN</td>\n      <td>NaN</td>\n      <td>NaN</td>\n      <td>NaN</td>\n      <td>NaN</td>\n      <td>NaN</td>\n      <td>NaN</td>\n      <td>NaN</td>\n      <td>False</td>\n      <td>33</td>\n      <td>78</td>\n      <td>False</td>\n      <td>False</td>\n      <td>en</td>\n      <td>False</td>\n      <td>NaN</td>\n      <td>NaN</td>\n      <td>We’ve transformed #AdvancedNightRepair into a ...</td>\n      <td>NaN</td>\n      <td>NaN</td>\n      <td>NaN</td>\n      <td>NaN</td>\n      <td>NaN</td>\n      <td>NaN</td>\n      <td>NaN</td>\n      <td>NaN</td>\n      <td>NaN</td>\n      <td>NaN</td>\n      <td>NaN</td>\n      <td>NaN</td>\n      <td>NaN</td>\n      <td>NaN</td>\n      <td>NaN</td>\n      <td>NaN</td>\n    </tr>\n    <tr>\n      <th>2022-08-29T18:06:31Z</th>\n      <td>cerave</td>\n      <td>1564313563870773200</td>\n      <td>1564313563870773249</td>\n      <td>🗣 Calling our #CeraVeCommunity \\n\\nWe want to ...</td>\n      <td>False</td>\n      <td>156</td>\n      <td>NaN</td>\n      <td>&lt;a href=\"https://sproutsocial.com\" rel=\"nofoll...</td>\n      <td>NaN</td>\n      <td>NaN</td>\n      <td>NaN</td>\n      <td>NaN</td>\n      <td>NaN</td>\n      <td>NaN</td>\n      <td>NaN</td>\n      <td>NaN</td>\n      <td>NaN</td>\n      <td>False</td>\n      <td>18</td>\n      <td>74</td>\n      <td>False</td>\n      <td>False</td>\n      <td>en</td>\n      <td>False</td>\n      <td>NaN</td>\n      <td>NaN</td>\n      <td>🗣 Calling our #CeraVeCommunity \\n\\nWe want to ...</td>\n      <td>NaN</td>\n      <td>NaN</td>\n      <td>NaN</td>\n      <td>NaN</td>\n      <td>NaN</td>\n      <td>NaN</td>\n      <td>NaN</td>\n      <td>NaN</td>\n      <td>NaN</td>\n      <td>NaN</td>\n      <td>NaN</td>\n      <td>NaN</td>\n      <td>NaN</td>\n      <td>NaN</td>\n      <td>NaN</td>\n      <td>NaN</td>\n    </tr>\n    <tr>\n      <th>2022-09-07T14:49:02Z</th>\n      <td>cerave</td>\n      <td>1567525355556163600</td>\n      <td>1567525355556163584</td>\n      <td>We're here to help you identify which acne pro...</td>\n      <td>False</td>\n      <td>253</td>\n      <td>NaN</td>\n      <td>&lt;a href=\"https://sproutsocial.com\" rel=\"nofoll...</td>\n      <td>NaN</td>\n      <td>NaN</td>\n      <td>NaN</td>\n      <td>NaN</td>\n      <td>NaN</td>\n      <td>NaN</td>\n      <td>NaN</td>\n      <td>NaN</td>\n      <td>NaN</td>\n      <td>False</td>\n      <td>9</td>\n      <td>64</td>\n      <td>False</td>\n      <td>False</td>\n      <td>en</td>\n      <td>False</td>\n      <td>NaN</td>\n      <td>NaN</td>\n      <td>We're here to help you identify which acne pro...</td>\n      <td>NaN</td>\n      <td>NaN</td>\n      <td>NaN</td>\n      <td>NaN</td>\n      <td>NaN</td>\n      <td>NaN</td>\n      <td>NaN</td>\n      <td>NaN</td>\n      <td>NaN</td>\n      <td>NaN</td>\n      <td>NaN</td>\n      <td>NaN</td>\n      <td>NaN</td>\n      <td>NaN</td>\n      <td>NaN</td>\n      <td>NaN</td>\n    </tr>\n    <tr>\n      <th>2022-07-06T15:36:54Z</th>\n      <td>esteelauder</td>\n      <td>1544706964978016300</td>\n      <td>1544706964978016257</td>\n      <td>🌞 Get a sun-kissed glow with #BronzeGoddess – ...</td>\n      <td>False</td>\n      <td>101</td>\n      <td>NaN</td>\n      <td>&lt;a href=\"https://prod1.sprinklr.com\" rel=\"nofo...</td>\n      <td>NaN</td>\n      <td>NaN</td>\n      <td>NaN</td>\n      <td>NaN</td>\n      <td>NaN</td>\n      <td>NaN</td>\n      <td>NaN</td>\n      <td>NaN</td>\n      <td>NaN</td>\n      <td>False</td>\n      <td>37</td>\n      <td>63</td>\n      <td>False</td>\n      <td>False</td>\n      <td>en</td>\n      <td>False</td>\n      <td>NaN</td>\n      <td>NaN</td>\n      <td>🌞 Get a sun-kissed glow with #BronzeGoddess – ...</td>\n      <td>NaN</td>\n      <td>NaN</td>\n      <td>NaN</td>\n      <td>NaN</td>\n      <td>NaN</td>\n      <td>NaN</td>\n      <td>NaN</td>\n      <td>NaN</td>\n      <td>NaN</td>\n      <td>NaN</td>\n      <td>NaN</td>\n      <td>NaN</td>\n      <td>NaN</td>\n      <td>NaN</td>\n      <td>NaN</td>\n      <td>NaN</td>\n    </tr>\n    <tr>\n      <th>2022-06-30T17:00:03Z</th>\n      <td>esteelauder</td>\n      <td>1542553564345962500</td>\n      <td>1542553564345962496</td>\n      <td>Take our minis on vacation with you – your ski...</td>\n      <td>False</td>\n      <td>142</td>\n      <td>NaN</td>\n      <td>&lt;a href=\"https://prod1.sprinklr.com\" rel=\"nofo...</td>\n      <td>NaN</td>\n      <td>NaN</td>\n      <td>NaN</td>\n      <td>NaN</td>\n      <td>NaN</td>\n      <td>NaN</td>\n      <td>NaN</td>\n      <td>NaN</td>\n      <td>NaN</td>\n      <td>False</td>\n      <td>46</td>\n      <td>62</td>\n      <td>False</td>\n      <td>False</td>\n      <td>en</td>\n      <td>False</td>\n      <td>NaN</td>\n      <td>NaN</td>\n      <td>Take our minis on vacation with you – your ski...</td>\n      <td>NaN</td>\n      <td>NaN</td>\n      <td>NaN</td>\n      <td>NaN</td>\n      <td>NaN</td>\n      <td>NaN</td>\n      <td>NaN</td>\n      <td>NaN</td>\n      <td>NaN</td>\n      <td>NaN</td>\n      <td>NaN</td>\n      <td>NaN</td>\n      <td>NaN</td>\n      <td>NaN</td>\n      <td>NaN</td>\n      <td>NaN</td>\n    </tr>\n    <tr>\n      <th>2021-07-23T21:55:21Z</th>\n      <td>dermalogica</td>\n      <td>1418691230070755300</td>\n      <td>1418691230070755329</td>\n      <td>@tyongsneo Thanks for the recommendation! We l...</td>\n      <td>False</td>\n      <td>69</td>\n      <td>NaN</td>\n      <td>&lt;a href=\"https://mobile.twitter.com\" rel=\"nofo...</td>\n      <td>1.418555e+18</td>\n      <td>1.418555e+18</td>\n      <td>1.329846e+18</td>\n      <td>1.329846e+18</td>\n      <td>tyongsneo</td>\n      <td>NaN</td>\n      <td>NaN</td>\n      <td>NaN</td>\n      <td>NaN</td>\n      <td>False</td>\n      <td>13</td>\n      <td>60</td>\n      <td>False</td>\n      <td>False</td>\n      <td>en</td>\n      <td>NaN</td>\n      <td>NaN</td>\n      <td>NaN</td>\n      <td>@tyongsneo Thanks for the recommendation! We l...</td>\n      <td>NaN</td>\n      <td>NaN</td>\n      <td>NaN</td>\n      <td>NaN</td>\n      <td>NaN</td>\n      <td>NaN</td>\n      <td>NaN</td>\n      <td>NaN</td>\n      <td>NaN</td>\n      <td>NaN</td>\n      <td>NaN</td>\n      <td>NaN</td>\n      <td>NaN</td>\n      <td>NaN</td>\n      <td>NaN</td>\n      <td>NaN</td>\n    </tr>\n    <tr>\n      <th>2022-09-19T13:00:13Z</th>\n      <td>cerave</td>\n      <td>1571846622874673200</td>\n      <td>1571846622874673155</td>\n      <td>Do you know the right way to apply CeraVe prod...</td>\n      <td>False</td>\n      <td>140</td>\n      <td>NaN</td>\n      <td>&lt;a href=\"https://sproutsocial.com\" rel=\"nofoll...</td>\n      <td>NaN</td>\n      <td>NaN</td>\n      <td>NaN</td>\n      <td>NaN</td>\n      <td>NaN</td>\n      <td>NaN</td>\n      <td>NaN</td>\n      <td>NaN</td>\n      <td>NaN</td>\n      <td>False</td>\n      <td>5</td>\n      <td>57</td>\n      <td>False</td>\n      <td>False</td>\n      <td>en</td>\n      <td>False</td>\n      <td>NaN</td>\n      <td>NaN</td>\n      <td>Do you know the right way to apply CeraVe prod...</td>\n      <td>NaN</td>\n      <td>NaN</td>\n      <td>NaN</td>\n      <td>NaN</td>\n      <td>NaN</td>\n      <td>NaN</td>\n      <td>NaN</td>\n      <td>NaN</td>\n      <td>NaN</td>\n      <td>NaN</td>\n      <td>NaN</td>\n      <td>NaN</td>\n      <td>NaN</td>\n      <td>NaN</td>\n      <td>NaN</td>\n      <td>NaN</td>\n    </tr>\n    <tr>\n      <th>2022-07-11T14:00:23Z</th>\n      <td>esteelauder</td>\n      <td>1546494615695626200</td>\n      <td>1546494615695626243</td>\n      <td>NEW #AdvancedNightRepair Eye Supercharged Gel-...</td>\n      <td>False</td>\n      <td>203</td>\n      <td>NaN</td>\n      <td>&lt;a href=\"https://prod1.sprinklr.com\" rel=\"nofo...</td>\n      <td>NaN</td>\n      <td>NaN</td>\n      <td>NaN</td>\n      <td>NaN</td>\n      <td>NaN</td>\n      <td>NaN</td>\n      <td>NaN</td>\n      <td>NaN</td>\n      <td>NaN</td>\n      <td>False</td>\n      <td>37</td>\n      <td>56</td>\n      <td>False</td>\n      <td>False</td>\n      <td>en</td>\n      <td>False</td>\n      <td>NaN</td>\n      <td>NaN</td>\n      <td>NEW #AdvancedNightRepair Eye Supercharged Gel-...</td>\n      <td>NaN</td>\n      <td>NaN</td>\n      <td>NaN</td>\n      <td>NaN</td>\n      <td>NaN</td>\n      <td>NaN</td>\n      <td>NaN</td>\n      <td>NaN</td>\n      <td>NaN</td>\n      <td>NaN</td>\n      <td>NaN</td>\n      <td>NaN</td>\n      <td>NaN</td>\n      <td>NaN</td>\n      <td>NaN</td>\n      <td>NaN</td>\n    </tr>\n    <tr>\n      <th>...</th>\n      <td>...</td>\n      <td>...</td>\n      <td>...</td>\n      <td>...</td>\n      <td>...</td>\n      <td>...</td>\n      <td>...</td>\n      <td>...</td>\n      <td>...</td>\n      <td>...</td>\n      <td>...</td>\n      <td>...</td>\n      <td>...</td>\n      <td>...</td>\n      <td>...</td>\n      <td>...</td>\n      <td>...</td>\n      <td>...</td>\n      <td>...</td>\n      <td>...</td>\n      <td>...</td>\n      <td>...</td>\n      <td>...</td>\n      <td>...</td>\n      <td>...</td>\n      <td>...</td>\n      <td>...</td>\n      <td>...</td>\n      <td>...</td>\n      <td>...</td>\n      <td>...</td>\n      <td>...</td>\n      <td>...</td>\n      <td>...</td>\n      <td>...</td>\n      <td>...</td>\n      <td>...</td>\n      <td>...</td>\n      <td>...</td>\n      <td>...</td>\n      <td>...</td>\n      <td>...</td>\n      <td>...</td>\n    </tr>\n    <tr>\n      <th>2022-06-20T14:02:37Z</th>\n      <td>esteelauder</td>\n      <td>1538885033607549e3</td>\n      <td>1538885033607548928</td>\n      <td>@ramdupont We're sorry to hear this, Robyn, an...</td>\n      <td>False</td>\n      <td>214</td>\n      <td>NaN</td>\n      <td>&lt;a href=\"https://prod1.sprinklr.com\" rel=\"nofo...</td>\n      <td>1.538865e+18</td>\n      <td>1.538865e+18</td>\n      <td>3.797432e+07</td>\n      <td>3.797432e+07</td>\n      <td>ramdupont</td>\n      <td>NaN</td>\n      <td>NaN</td>\n      <td>NaN</td>\n      <td>NaN</td>\n      <td>False</td>\n      <td>0</td>\n      <td>0</td>\n      <td>False</td>\n      <td>False</td>\n      <td>en</td>\n      <td>False</td>\n      <td>NaN</td>\n      <td>NaN</td>\n      <td>@ramdupont We're sorry to hear this, Robyn, an...</td>\n      <td>NaN</td>\n      <td>NaN</td>\n      <td>NaN</td>\n      <td>NaN</td>\n      <td>NaN</td>\n      <td>NaN</td>\n      <td>NaN</td>\n      <td>NaN</td>\n      <td>NaN</td>\n      <td>NaN</td>\n      <td>NaN</td>\n      <td>NaN</td>\n      <td>NaN</td>\n      <td>NaN</td>\n      <td>NaN</td>\n      <td>NaN</td>\n    </tr>\n    <tr>\n      <th>2022-06-18T12:57:05Z</th>\n      <td>esteelauder</td>\n      <td>1538143762970562600</td>\n      <td>1538143762970562561</td>\n      <td>@MissBlueGaming1 Thanks for checking in with u...</td>\n      <td>False</td>\n      <td>263</td>\n      <td>NaN</td>\n      <td>&lt;a href=\"https://prod1.sprinklr.com\" rel=\"nofo...</td>\n      <td>1.538042e+18</td>\n      <td>1.538042e+18</td>\n      <td>1.069610e+18</td>\n      <td>1.069610e+18</td>\n      <td>missbluegaming1</td>\n      <td>NaN</td>\n      <td>NaN</td>\n      <td>NaN</td>\n      <td>NaN</td>\n      <td>False</td>\n      <td>0</td>\n      <td>0</td>\n      <td>False</td>\n      <td>False</td>\n      <td>en</td>\n      <td>False</td>\n      <td>NaN</td>\n      <td>NaN</td>\n      <td>@MissBlueGaming1 Thanks for checking in with u...</td>\n      <td>NaN</td>\n      <td>NaN</td>\n      <td>NaN</td>\n      <td>NaN</td>\n      <td>NaN</td>\n      <td>NaN</td>\n      <td>NaN</td>\n      <td>NaN</td>\n      <td>NaN</td>\n      <td>NaN</td>\n      <td>NaN</td>\n      <td>NaN</td>\n      <td>NaN</td>\n      <td>NaN</td>\n      <td>NaN</td>\n      <td>NaN</td>\n    </tr>\n    <tr>\n      <th>2022-06-16T17:04:25Z</th>\n      <td>esteelauder</td>\n      <td>1537481232660955100</td>\n      <td>1537481232660955138</td>\n      <td>@JustToBeFair1 Thanks for reaching out. We wan...</td>\n      <td>False</td>\n      <td>224</td>\n      <td>NaN</td>\n      <td>&lt;a href=\"https://prod1.sprinklr.com\" rel=\"nofo...</td>\n      <td>1.537226e+18</td>\n      <td>1.537226e+18</td>\n      <td>1.282402e+18</td>\n      <td>1.282402e+18</td>\n      <td>justtobefair1</td>\n      <td>NaN</td>\n      <td>NaN</td>\n      <td>NaN</td>\n      <td>NaN</td>\n      <td>False</td>\n      <td>0</td>\n      <td>0</td>\n      <td>False</td>\n      <td>False</td>\n      <td>en</td>\n      <td>NaN</td>\n      <td>NaN</td>\n      <td>NaN</td>\n      <td>@JustToBeFair1 Thanks for reaching out. We wan...</td>\n      <td>NaN</td>\n      <td>NaN</td>\n      <td>NaN</td>\n      <td>NaN</td>\n      <td>NaN</td>\n      <td>NaN</td>\n      <td>NaN</td>\n      <td>NaN</td>\n      <td>NaN</td>\n      <td>NaN</td>\n      <td>NaN</td>\n      <td>NaN</td>\n      <td>NaN</td>\n      <td>NaN</td>\n      <td>NaN</td>\n      <td>NaN</td>\n    </tr>\n    <tr>\n      <th>2022-06-15T21:29:35Z</th>\n      <td>esteelauder</td>\n      <td>1537185577988145200</td>\n      <td>1537185577988145155</td>\n      <td>@Maria72042966 Thank you for reaching out! We ...</td>\n      <td>False</td>\n      <td>171</td>\n      <td>NaN</td>\n      <td>&lt;a href=\"https://prod1.sprinklr.com\" rel=\"nofo...</td>\n      <td>1.537181e+18</td>\n      <td>1.537181e+18</td>\n      <td>1.052228e+18</td>\n      <td>1.052228e+18</td>\n      <td>maria72042966</td>\n      <td>NaN</td>\n      <td>NaN</td>\n      <td>NaN</td>\n      <td>NaN</td>\n      <td>False</td>\n      <td>0</td>\n      <td>0</td>\n      <td>False</td>\n      <td>False</td>\n      <td>en</td>\n      <td>NaN</td>\n      <td>NaN</td>\n      <td>NaN</td>\n      <td>@Maria72042966 Thank you for reaching out! We ...</td>\n      <td>NaN</td>\n      <td>NaN</td>\n      <td>NaN</td>\n      <td>NaN</td>\n      <td>NaN</td>\n      <td>NaN</td>\n      <td>NaN</td>\n      <td>NaN</td>\n      <td>NaN</td>\n      <td>NaN</td>\n      <td>NaN</td>\n      <td>NaN</td>\n      <td>NaN</td>\n      <td>NaN</td>\n      <td>NaN</td>\n      <td>NaN</td>\n    </tr>\n    <tr>\n      <th>2022-06-14T19:27:20Z</th>\n      <td>esteelauder</td>\n      <td>1536792424080715800</td>\n      <td>1536792424080715781</td>\n      <td>@SarahWa35834527 Thanks for asking! We wish we...</td>\n      <td>False</td>\n      <td>268</td>\n      <td>NaN</td>\n      <td>&lt;a href=\"https://prod1.sprinklr.com\" rel=\"nofo...</td>\n      <td>1.536790e+18</td>\n      <td>1.536790e+18</td>\n      <td>1.519329e+18</td>\n      <td>1.519329e+18</td>\n      <td>sarahwa35834527</td>\n      <td>NaN</td>\n      <td>NaN</td>\n      <td>NaN</td>\n      <td>NaN</td>\n      <td>False</td>\n      <td>0</td>\n      <td>0</td>\n      <td>False</td>\n      <td>False</td>\n      <td>en</td>\n      <td>False</td>\n      <td>NaN</td>\n      <td>NaN</td>\n      <td>@SarahWa35834527 Thanks for asking! We wish we...</td>\n      <td>NaN</td>\n      <td>NaN</td>\n      <td>NaN</td>\n      <td>NaN</td>\n      <td>NaN</td>\n      <td>NaN</td>\n      <td>NaN</td>\n      <td>NaN</td>\n      <td>NaN</td>\n      <td>NaN</td>\n      <td>NaN</td>\n      <td>NaN</td>\n      <td>NaN</td>\n      <td>NaN</td>\n      <td>NaN</td>\n      <td>NaN</td>\n    </tr>\n    <tr>\n      <th>2022-06-12T17:15:12Z</th>\n      <td>esteelauder</td>\n      <td>1536034394263236600</td>\n      <td>1536034394263236612</td>\n      <td>@diagsss Thanks for reaching out. Sustainabili...</td>\n      <td>False</td>\n      <td>207</td>\n      <td>NaN</td>\n      <td>&lt;a href=\"https://prod1.sprinklr.com\" rel=\"nofo...</td>\n      <td>1.536030e+18</td>\n      <td>1.536030e+18</td>\n      <td>3.452914e+09</td>\n      <td>3.452914e+09</td>\n      <td>diagsss</td>\n      <td>NaN</td>\n      <td>NaN</td>\n      <td>NaN</td>\n      <td>NaN</td>\n      <td>False</td>\n      <td>0</td>\n      <td>0</td>\n      <td>False</td>\n      <td>False</td>\n      <td>en</td>\n      <td>False</td>\n      <td>NaN</td>\n      <td>NaN</td>\n      <td>@diagsss Thanks for reaching out. Sustainabili...</td>\n      <td>NaN</td>\n      <td>NaN</td>\n      <td>NaN</td>\n      <td>NaN</td>\n      <td>NaN</td>\n      <td>NaN</td>\n      <td>NaN</td>\n      <td>NaN</td>\n      <td>NaN</td>\n      <td>NaN</td>\n      <td>NaN</td>\n      <td>NaN</td>\n      <td>NaN</td>\n      <td>NaN</td>\n      <td>NaN</td>\n      <td>NaN</td>\n    </tr>\n    <tr>\n      <th>2022-06-12T14:02:13Z</th>\n      <td>esteelauder</td>\n      <td>1535985826986922e3</td>\n      <td>1535985826986921984</td>\n      <td>@CherylS72746836 We appreciate your feedback, ...</td>\n      <td>False</td>\n      <td>210</td>\n      <td>NaN</td>\n      <td>&lt;a href=\"https://prod1.sprinklr.com\" rel=\"nofo...</td>\n      <td>1.535744e+18</td>\n      <td>1.535744e+18</td>\n      <td>1.503174e+18</td>\n      <td>1.503174e+18</td>\n      <td>cheryls72746836</td>\n      <td>NaN</td>\n      <td>NaN</td>\n      <td>NaN</td>\n      <td>NaN</td>\n      <td>False</td>\n      <td>0</td>\n      <td>0</td>\n      <td>False</td>\n      <td>False</td>\n      <td>en</td>\n      <td>False</td>\n      <td>NaN</td>\n      <td>NaN</td>\n      <td>@CherylS72746836 We appreciate your feedback, ...</td>\n      <td>NaN</td>\n      <td>NaN</td>\n      <td>NaN</td>\n      <td>NaN</td>\n      <td>NaN</td>\n      <td>NaN</td>\n      <td>NaN</td>\n      <td>NaN</td>\n      <td>NaN</td>\n      <td>NaN</td>\n      <td>NaN</td>\n      <td>NaN</td>\n      <td>NaN</td>\n      <td>NaN</td>\n      <td>NaN</td>\n      <td>NaN</td>\n    </tr>\n    <tr>\n      <th>2022-06-10T13:24:03Z</th>\n      <td>esteelauder</td>\n      <td>1535251450099531800</td>\n      <td>1535251450099531776</td>\n      <td>@Me73561411 Thank you for reaching out.  At Es...</td>\n      <td>False</td>\n      <td>295</td>\n      <td>NaN</td>\n      <td>&lt;a href=\"https://prod1.sprinklr.com\" rel=\"nofo...</td>\n      <td>1.535037e+18</td>\n      <td>1.535037e+18</td>\n      <td>1.417040e+18</td>\n      <td>1.417040e+18</td>\n      <td>me73561411</td>\n      <td>NaN</td>\n      <td>NaN</td>\n      <td>NaN</td>\n      <td>NaN</td>\n      <td>False</td>\n      <td>0</td>\n      <td>0</td>\n      <td>False</td>\n      <td>False</td>\n      <td>en</td>\n      <td>NaN</td>\n      <td>NaN</td>\n      <td>NaN</td>\n      <td>@Me73561411 Thank you for reaching out.  At Es...</td>\n      <td>NaN</td>\n      <td>NaN</td>\n      <td>NaN</td>\n      <td>NaN</td>\n      <td>NaN</td>\n      <td>NaN</td>\n      <td>NaN</td>\n      <td>NaN</td>\n      <td>NaN</td>\n      <td>NaN</td>\n      <td>NaN</td>\n      <td>NaN</td>\n      <td>NaN</td>\n      <td>NaN</td>\n      <td>NaN</td>\n      <td>NaN</td>\n    </tr>\n    <tr>\n      <th>2022-06-09T23:47:36Z</th>\n      <td>esteelauder</td>\n      <td>1535045980063772700</td>\n      <td>1535045980063772672</td>\n      <td>@itgirltalk It's the perfect palette for a sub...</td>\n      <td>False</td>\n      <td>102</td>\n      <td>NaN</td>\n      <td>&lt;a href=\"https://prod1.sprinklr.com\" rel=\"nofo...</td>\n      <td>1.534928e+18</td>\n      <td>1.534928e+18</td>\n      <td>1.501923e+18</td>\n      <td>1.501923e+18</td>\n      <td>offonfriday</td>\n      <td>NaN</td>\n      <td>NaN</td>\n      <td>NaN</td>\n      <td>NaN</td>\n      <td>False</td>\n      <td>0</td>\n      <td>0</td>\n      <td>False</td>\n      <td>False</td>\n      <td>en</td>\n      <td>NaN</td>\n      <td>NaN</td>\n      <td>NaN</td>\n      <td>@itgirltalk It's the perfect palette for a sub...</td>\n      <td>NaN</td>\n      <td>NaN</td>\n      <td>NaN</td>\n      <td>NaN</td>\n      <td>NaN</td>\n      <td>NaN</td>\n      <td>NaN</td>\n      <td>NaN</td>\n      <td>NaN</td>\n      <td>NaN</td>\n      <td>NaN</td>\n      <td>NaN</td>\n      <td>NaN</td>\n      <td>NaN</td>\n      <td>NaN</td>\n      <td>NaN</td>\n    </tr>\n    <tr>\n      <th>2022-05-23T15:03:27Z</th>\n      <td>neutrogena</td>\n      <td>1528753482597113900</td>\n      <td>1528753482597113857</td>\n      <td>@ahhyeah Hi there! We would love to help! When...</td>\n      <td>False</td>\n      <td>108</td>\n      <td>NaN</td>\n      <td>&lt;a href=\"https://prod1.sprinklr.com\" rel=\"nofo...</td>\n      <td>1.527835e+18</td>\n      <td>1.527835e+18</td>\n      <td>6.313612e+06</td>\n      <td>6.313612e+06</td>\n      <td>ahhyeah</td>\n      <td>NaN</td>\n      <td>NaN</td>\n      <td>NaN</td>\n      <td>NaN</td>\n      <td>False</td>\n      <td>0</td>\n      <td>0</td>\n      <td>False</td>\n      <td>False</td>\n      <td>en</td>\n      <td>NaN</td>\n      <td>NaN</td>\n      <td>NaN</td>\n      <td>@ahhyeah Hi there! We would love to help! When...</td>\n      <td>NaN</td>\n      <td>NaN</td>\n      <td>NaN</td>\n      <td>NaN</td>\n      <td>NaN</td>\n      <td>NaN</td>\n      <td>NaN</td>\n      <td>NaN</td>\n      <td>NaN</td>\n      <td>NaN</td>\n      <td>NaN</td>\n      <td>NaN</td>\n      <td>NaN</td>\n      <td>NaN</td>\n      <td>NaN</td>\n      <td>NaN</td>\n    </tr>\n  </tbody>\n</table>\n<p>1157 rows × 43 columns</p>\n</div>"
     },
     "execution_count": 43,
     "metadata": {},
     "output_type": "execute_result"
    }
   ],
   "source": [
    "df_tweets_w_mentions.sort_values(by='favorite_count', ascending=False)"
   ],
   "metadata": {
    "collapsed": false
   }
  },
  {
   "cell_type": "code",
   "execution_count": 45,
   "outputs": [
    {
     "name": "stdout",
     "output_type": "stream",
     "text": [
      "           brand             label location  founded_year   twitter_acct   twitter_id                        twitter_url num_following num_followers joined_date                   official_site                                               wiki  Unnamed: 12  Unnamed: 13  Unnamed: 14  Unnamed: 15  Unnamed: 16  Unnamed: 17  Unnamed: 18  Unnamed: 19  Unnamed: 20  Unnamed: 21  Unnamed: 22  Unnamed: 23  Unnamed: 24  Unnamed: 25  Unnamed: 26  Unnamed: 27  Unnamed: 28  Unnamed: 29  Unnamed: 30  Unnamed: 31\n",
      "0   Estee Lauder    1_@EsteeLauder      USA        1946.0    EsteeLauder  290081566.0    https://twitter.com/EsteeLauder           452       412,700      2011-4    https://www.esteelauder.com/  https://en.wikipedia.org/wiki/The_Est%C3%A9e_L...          NaN          NaN          NaN          NaN          NaN          NaN          NaN          NaN          NaN          NaN          NaN          NaN          NaN          NaN          NaN          NaN          NaN          NaN          NaN          NaN\n",
      "1    Dermalogica    2_@dermalogica      USA        1986.0    dermalogica   18148242.0    https://twitter.com/dermalogica         1,225        54,300     2008-12    https://www.dermalogica.com/          https://en.wikipedia.org/wiki/Dermalogica          NaN          NaN          NaN          NaN          NaN          NaN          NaN          NaN          NaN          NaN          NaN          NaN          NaN          NaN          NaN          NaN          NaN          NaN          NaN          NaN\n",
      "2     Neutrogena     3_@Neutrogena      USA        1930.0     Neutrogena   91259072.0     https://twitter.com/Neutrogena           432        48,900     2009-11     https://www.neutrogena.com/           https://en.wikipedia.org/wiki/Neutrogena          NaN          NaN          NaN          NaN          NaN          NaN          NaN          NaN          NaN          NaN          NaN          NaN          NaN          NaN          NaN          NaN          NaN          NaN          NaN          NaN\n",
      "3         Cerave         4_@cerave      USA        2005.0         cerave   44693072.0         https://twitter.com/cerave           196        48,400      2009-6         https://www.cerave.com/       https://en.wikipedia.org/wiki/L%27Or%C3%A9al          NaN          NaN          NaN          NaN          NaN          NaN          NaN          NaN          NaN          NaN          NaN          NaN          NaN          NaN          NaN          NaN          NaN          NaN          NaN          NaN\n",
      "4  SkinCeuticals  5_@SkinCeuticals      USA        1997.0  SkinCeuticals  132543891.0  https://twitter.com/SkinCeuticals           997        47,900      2010-4  https://www.skinceuticals.com/                                                NaN          NaN          NaN          NaN          NaN          NaN          NaN          NaN          NaN          NaN          NaN          NaN          NaN          NaN          NaN          NaN          NaN          NaN          NaN          NaN          NaN\n"
     ]
    }
   ],
   "source": [
    "brand_info = pd.read_csv(\"brand_info.csv\")\n",
    "\n",
    "# remove rows that has NaN in brand column\n",
    "brand_info = brand_info[brand_info.brand.notna()]\n",
    "print(brand_info.head(5))"
   ],
   "metadata": {
    "collapsed": false
   }
  },
  {
   "cell_type": "code",
   "execution_count": 46,
   "outputs": [
    {
     "data": {
      "text/plain": "            brand             label location  founded_year   twitter_acct   twitter_id                        twitter_url num_following num_followers joined_date                   official_site                                               wiki  Unnamed: 12  Unnamed: 13  Unnamed: 14  Unnamed: 15  Unnamed: 16  Unnamed: 17  Unnamed: 18  Unnamed: 19  Unnamed: 20  Unnamed: 21  Unnamed: 22  Unnamed: 23  Unnamed: 24  Unnamed: 25  Unnamed: 26  Unnamed: 27  Unnamed: 28  Unnamed: 29  Unnamed: 30  Unnamed: 31\n0    Estee Lauder    1_@EsteeLauder      USA        1946.0    EsteeLauder  290081566.0    https://twitter.com/EsteeLauder           452       412,700      2011-4    https://www.esteelauder.com/  https://en.wikipedia.org/wiki/The_Est%C3%A9e_L...          NaN          NaN          NaN          NaN          NaN          NaN          NaN          NaN          NaN          NaN          NaN          NaN          NaN          NaN          NaN          NaN          NaN          NaN          NaN          NaN\n1     Dermalogica    2_@dermalogica      USA        1986.0    dermalogica   18148242.0    https://twitter.com/dermalogica         1,225        54,300     2008-12    https://www.dermalogica.com/          https://en.wikipedia.org/wiki/Dermalogica          NaN          NaN          NaN          NaN          NaN          NaN          NaN          NaN          NaN          NaN          NaN          NaN          NaN          NaN          NaN          NaN          NaN          NaN          NaN          NaN\n2      Neutrogena     3_@Neutrogena      USA        1930.0     Neutrogena   91259072.0     https://twitter.com/Neutrogena           432        48,900     2009-11     https://www.neutrogena.com/           https://en.wikipedia.org/wiki/Neutrogena          NaN          NaN          NaN          NaN          NaN          NaN          NaN          NaN          NaN          NaN          NaN          NaN          NaN          NaN          NaN          NaN          NaN          NaN          NaN          NaN\n3          Cerave         4_@cerave      USA        2005.0         cerave   44693072.0         https://twitter.com/cerave           196        48,400      2009-6         https://www.cerave.com/       https://en.wikipedia.org/wiki/L%27Or%C3%A9al          NaN          NaN          NaN          NaN          NaN          NaN          NaN          NaN          NaN          NaN          NaN          NaN          NaN          NaN          NaN          NaN          NaN          NaN          NaN          NaN\n4   SkinCeuticals  5_@SkinCeuticals      USA        1997.0  SkinCeuticals  132543891.0  https://twitter.com/SkinCeuticals           997        47,900      2010-4  https://www.skinceuticals.com/                                                NaN          NaN          NaN          NaN          NaN          NaN          NaN          NaN          NaN          NaN          NaN          NaN          NaN          NaN          NaN          NaN          NaN          NaN          NaN          NaN          NaN\n5  Paula's choice               NaN      USA        1995.0   PaulasChoice          NaN   https://twitter.com/PaulasChoice           562        31,700      2008-8   https://www.paulaschoice.com/                                                NaN          NaN          NaN          NaN          NaN          NaN          NaN          NaN          NaN          NaN          NaN          NaN          NaN          NaN          NaN          NaN          NaN          NaN          NaN          NaN          NaN\n6      Inkey list               NaN       UK        2018.0   theinkeylist          NaN   https://twitter.com/theinkeylist            51         2,605      2018-6   https://www.theinkeylist.com/                                                NaN          NaN          NaN          NaN          NaN          NaN          NaN          NaN          NaN          NaN          NaN          NaN          NaN          NaN          NaN          NaN          NaN          NaN          NaN          NaN          NaN\n7        Cetaphil               NaN      USA        1947.0            NaN          NaN                                NaN           NaN           NaN         NaN    https://www.cetaphil.com/us/             https://en.wikipedia.org/wiki/Cetaphil          NaN          NaN          NaN          NaN          NaN          NaN          NaN          NaN          NaN          NaN          NaN          NaN          NaN          NaN          NaN          NaN          NaN          NaN          NaN          NaN\n8    The ordinary               NaN      NaN           NaN            NaN          NaN                                NaN           NaN           NaN         NaN   https://theordinary.com/en-us                                                NaN          NaN          NaN          NaN          NaN          NaN          NaN          NaN          NaN          NaN          NaN          NaN          NaN          NaN          NaN          NaN          NaN          NaN          NaN          NaN          NaN",
      "text/html": "<div>\n<style scoped>\n    .dataframe tbody tr th:only-of-type {\n        vertical-align: middle;\n    }\n\n    .dataframe tbody tr th {\n        vertical-align: top;\n    }\n\n    .dataframe thead th {\n        text-align: right;\n    }\n</style>\n<table border=\"1\" class=\"dataframe\">\n  <thead>\n    <tr style=\"text-align: right;\">\n      <th></th>\n      <th>brand</th>\n      <th>label</th>\n      <th>location</th>\n      <th>founded_year</th>\n      <th>twitter_acct</th>\n      <th>twitter_id</th>\n      <th>twitter_url</th>\n      <th>num_following</th>\n      <th>num_followers</th>\n      <th>joined_date</th>\n      <th>official_site</th>\n      <th>wiki</th>\n      <th>Unnamed: 12</th>\n      <th>Unnamed: 13</th>\n      <th>Unnamed: 14</th>\n      <th>Unnamed: 15</th>\n      <th>Unnamed: 16</th>\n      <th>Unnamed: 17</th>\n      <th>Unnamed: 18</th>\n      <th>Unnamed: 19</th>\n      <th>Unnamed: 20</th>\n      <th>Unnamed: 21</th>\n      <th>Unnamed: 22</th>\n      <th>Unnamed: 23</th>\n      <th>Unnamed: 24</th>\n      <th>Unnamed: 25</th>\n      <th>Unnamed: 26</th>\n      <th>Unnamed: 27</th>\n      <th>Unnamed: 28</th>\n      <th>Unnamed: 29</th>\n      <th>Unnamed: 30</th>\n      <th>Unnamed: 31</th>\n    </tr>\n  </thead>\n  <tbody>\n    <tr>\n      <th>0</th>\n      <td>Estee Lauder</td>\n      <td>1_@EsteeLauder</td>\n      <td>USA</td>\n      <td>1946.0</td>\n      <td>EsteeLauder</td>\n      <td>290081566.0</td>\n      <td>https://twitter.com/EsteeLauder</td>\n      <td>452</td>\n      <td>412,700</td>\n      <td>2011-4</td>\n      <td>https://www.esteelauder.com/</td>\n      <td>https://en.wikipedia.org/wiki/The_Est%C3%A9e_L...</td>\n      <td>NaN</td>\n      <td>NaN</td>\n      <td>NaN</td>\n      <td>NaN</td>\n      <td>NaN</td>\n      <td>NaN</td>\n      <td>NaN</td>\n      <td>NaN</td>\n      <td>NaN</td>\n      <td>NaN</td>\n      <td>NaN</td>\n      <td>NaN</td>\n      <td>NaN</td>\n      <td>NaN</td>\n      <td>NaN</td>\n      <td>NaN</td>\n      <td>NaN</td>\n      <td>NaN</td>\n      <td>NaN</td>\n      <td>NaN</td>\n    </tr>\n    <tr>\n      <th>1</th>\n      <td>Dermalogica</td>\n      <td>2_@dermalogica</td>\n      <td>USA</td>\n      <td>1986.0</td>\n      <td>dermalogica</td>\n      <td>18148242.0</td>\n      <td>https://twitter.com/dermalogica</td>\n      <td>1,225</td>\n      <td>54,300</td>\n      <td>2008-12</td>\n      <td>https://www.dermalogica.com/</td>\n      <td>https://en.wikipedia.org/wiki/Dermalogica</td>\n      <td>NaN</td>\n      <td>NaN</td>\n      <td>NaN</td>\n      <td>NaN</td>\n      <td>NaN</td>\n      <td>NaN</td>\n      <td>NaN</td>\n      <td>NaN</td>\n      <td>NaN</td>\n      <td>NaN</td>\n      <td>NaN</td>\n      <td>NaN</td>\n      <td>NaN</td>\n      <td>NaN</td>\n      <td>NaN</td>\n      <td>NaN</td>\n      <td>NaN</td>\n      <td>NaN</td>\n      <td>NaN</td>\n      <td>NaN</td>\n    </tr>\n    <tr>\n      <th>2</th>\n      <td>Neutrogena</td>\n      <td>3_@Neutrogena</td>\n      <td>USA</td>\n      <td>1930.0</td>\n      <td>Neutrogena</td>\n      <td>91259072.0</td>\n      <td>https://twitter.com/Neutrogena</td>\n      <td>432</td>\n      <td>48,900</td>\n      <td>2009-11</td>\n      <td>https://www.neutrogena.com/</td>\n      <td>https://en.wikipedia.org/wiki/Neutrogena</td>\n      <td>NaN</td>\n      <td>NaN</td>\n      <td>NaN</td>\n      <td>NaN</td>\n      <td>NaN</td>\n      <td>NaN</td>\n      <td>NaN</td>\n      <td>NaN</td>\n      <td>NaN</td>\n      <td>NaN</td>\n      <td>NaN</td>\n      <td>NaN</td>\n      <td>NaN</td>\n      <td>NaN</td>\n      <td>NaN</td>\n      <td>NaN</td>\n      <td>NaN</td>\n      <td>NaN</td>\n      <td>NaN</td>\n      <td>NaN</td>\n    </tr>\n    <tr>\n      <th>3</th>\n      <td>Cerave</td>\n      <td>4_@cerave</td>\n      <td>USA</td>\n      <td>2005.0</td>\n      <td>cerave</td>\n      <td>44693072.0</td>\n      <td>https://twitter.com/cerave</td>\n      <td>196</td>\n      <td>48,400</td>\n      <td>2009-6</td>\n      <td>https://www.cerave.com/</td>\n      <td>https://en.wikipedia.org/wiki/L%27Or%C3%A9al</td>\n      <td>NaN</td>\n      <td>NaN</td>\n      <td>NaN</td>\n      <td>NaN</td>\n      <td>NaN</td>\n      <td>NaN</td>\n      <td>NaN</td>\n      <td>NaN</td>\n      <td>NaN</td>\n      <td>NaN</td>\n      <td>NaN</td>\n      <td>NaN</td>\n      <td>NaN</td>\n      <td>NaN</td>\n      <td>NaN</td>\n      <td>NaN</td>\n      <td>NaN</td>\n      <td>NaN</td>\n      <td>NaN</td>\n      <td>NaN</td>\n    </tr>\n    <tr>\n      <th>4</th>\n      <td>SkinCeuticals</td>\n      <td>5_@SkinCeuticals</td>\n      <td>USA</td>\n      <td>1997.0</td>\n      <td>SkinCeuticals</td>\n      <td>132543891.0</td>\n      <td>https://twitter.com/SkinCeuticals</td>\n      <td>997</td>\n      <td>47,900</td>\n      <td>2010-4</td>\n      <td>https://www.skinceuticals.com/</td>\n      <td>NaN</td>\n      <td>NaN</td>\n      <td>NaN</td>\n      <td>NaN</td>\n      <td>NaN</td>\n      <td>NaN</td>\n      <td>NaN</td>\n      <td>NaN</td>\n      <td>NaN</td>\n      <td>NaN</td>\n      <td>NaN</td>\n      <td>NaN</td>\n      <td>NaN</td>\n      <td>NaN</td>\n      <td>NaN</td>\n      <td>NaN</td>\n      <td>NaN</td>\n      <td>NaN</td>\n      <td>NaN</td>\n      <td>NaN</td>\n      <td>NaN</td>\n    </tr>\n    <tr>\n      <th>5</th>\n      <td>Paula's choice</td>\n      <td>NaN</td>\n      <td>USA</td>\n      <td>1995.0</td>\n      <td>PaulasChoice</td>\n      <td>NaN</td>\n      <td>https://twitter.com/PaulasChoice</td>\n      <td>562</td>\n      <td>31,700</td>\n      <td>2008-8</td>\n      <td>https://www.paulaschoice.com/</td>\n      <td>NaN</td>\n      <td>NaN</td>\n      <td>NaN</td>\n      <td>NaN</td>\n      <td>NaN</td>\n      <td>NaN</td>\n      <td>NaN</td>\n      <td>NaN</td>\n      <td>NaN</td>\n      <td>NaN</td>\n      <td>NaN</td>\n      <td>NaN</td>\n      <td>NaN</td>\n      <td>NaN</td>\n      <td>NaN</td>\n      <td>NaN</td>\n      <td>NaN</td>\n      <td>NaN</td>\n      <td>NaN</td>\n      <td>NaN</td>\n      <td>NaN</td>\n    </tr>\n    <tr>\n      <th>6</th>\n      <td>Inkey list</td>\n      <td>NaN</td>\n      <td>UK</td>\n      <td>2018.0</td>\n      <td>theinkeylist</td>\n      <td>NaN</td>\n      <td>https://twitter.com/theinkeylist</td>\n      <td>51</td>\n      <td>2,605</td>\n      <td>2018-6</td>\n      <td>https://www.theinkeylist.com/</td>\n      <td>NaN</td>\n      <td>NaN</td>\n      <td>NaN</td>\n      <td>NaN</td>\n      <td>NaN</td>\n      <td>NaN</td>\n      <td>NaN</td>\n      <td>NaN</td>\n      <td>NaN</td>\n      <td>NaN</td>\n      <td>NaN</td>\n      <td>NaN</td>\n      <td>NaN</td>\n      <td>NaN</td>\n      <td>NaN</td>\n      <td>NaN</td>\n      <td>NaN</td>\n      <td>NaN</td>\n      <td>NaN</td>\n      <td>NaN</td>\n      <td>NaN</td>\n    </tr>\n    <tr>\n      <th>7</th>\n      <td>Cetaphil</td>\n      <td>NaN</td>\n      <td>USA</td>\n      <td>1947.0</td>\n      <td>NaN</td>\n      <td>NaN</td>\n      <td>NaN</td>\n      <td>NaN</td>\n      <td>NaN</td>\n      <td>NaN</td>\n      <td>https://www.cetaphil.com/us/</td>\n      <td>https://en.wikipedia.org/wiki/Cetaphil</td>\n      <td>NaN</td>\n      <td>NaN</td>\n      <td>NaN</td>\n      <td>NaN</td>\n      <td>NaN</td>\n      <td>NaN</td>\n      <td>NaN</td>\n      <td>NaN</td>\n      <td>NaN</td>\n      <td>NaN</td>\n      <td>NaN</td>\n      <td>NaN</td>\n      <td>NaN</td>\n      <td>NaN</td>\n      <td>NaN</td>\n      <td>NaN</td>\n      <td>NaN</td>\n      <td>NaN</td>\n      <td>NaN</td>\n      <td>NaN</td>\n    </tr>\n    <tr>\n      <th>8</th>\n      <td>The ordinary</td>\n      <td>NaN</td>\n      <td>NaN</td>\n      <td>NaN</td>\n      <td>NaN</td>\n      <td>NaN</td>\n      <td>NaN</td>\n      <td>NaN</td>\n      <td>NaN</td>\n      <td>NaN</td>\n      <td>https://theordinary.com/en-us</td>\n      <td>NaN</td>\n      <td>NaN</td>\n      <td>NaN</td>\n      <td>NaN</td>\n      <td>NaN</td>\n      <td>NaN</td>\n      <td>NaN</td>\n      <td>NaN</td>\n      <td>NaN</td>\n      <td>NaN</td>\n      <td>NaN</td>\n      <td>NaN</td>\n      <td>NaN</td>\n      <td>NaN</td>\n      <td>NaN</td>\n      <td>NaN</td>\n      <td>NaN</td>\n      <td>NaN</td>\n      <td>NaN</td>\n      <td>NaN</td>\n      <td>NaN</td>\n    </tr>\n  </tbody>\n</table>\n</div>"
     },
     "execution_count": 46,
     "metadata": {},
     "output_type": "execute_result"
    }
   ],
   "source": [
    "brand_info"
   ],
   "metadata": {
    "collapsed": false
   }
  },
  {
   "cell_type": "code",
   "execution_count": 49,
   "outputs": [
    {
     "name": "stderr",
     "output_type": "stream",
     "text": [
      "C:\\Users\\fazal\\AppData\\Local\\Temp\\ipykernel_11080\\1504380418.py:2: SettingWithCopyWarning: \n",
      "A value is trying to be set on a copy of a slice from a DataFrame.\n",
      "Try using .loc[row_indexer,col_indexer] = value instead\n",
      "\n",
      "See the caveats in the documentation: https://pandas.pydata.org/pandas-docs/stable/user_guide/indexing.html#returning-a-view-versus-a-copy\n",
      "  brand_info.twitter_acct = brand_info.twitter_acct.str.lower()\n"
     ]
    },
    {
     "data": {
      "text/plain": "           brand             label location  founded_year   twitter_acct   twitter_id                        twitter_url num_following num_followers joined_date                   official_site                                               wiki  Unnamed: 12  Unnamed: 13  Unnamed: 14  Unnamed: 15  Unnamed: 16  Unnamed: 17  Unnamed: 18  Unnamed: 19  Unnamed: 20  Unnamed: 21  Unnamed: 22  Unnamed: 23  Unnamed: 24  Unnamed: 25  Unnamed: 26  Unnamed: 27  Unnamed: 28  Unnamed: 29  Unnamed: 30  Unnamed: 31\n0   Estee Lauder    1_@EsteeLauder      USA        1946.0    esteelauder  290081566.0    https://twitter.com/EsteeLauder           452       412,700      2011-4    https://www.esteelauder.com/  https://en.wikipedia.org/wiki/The_Est%C3%A9e_L...          NaN          NaN          NaN          NaN          NaN          NaN          NaN          NaN          NaN          NaN          NaN          NaN          NaN          NaN          NaN          NaN          NaN          NaN          NaN          NaN\n1    Dermalogica    2_@dermalogica      USA        1986.0    dermalogica   18148242.0    https://twitter.com/dermalogica         1,225        54,300     2008-12    https://www.dermalogica.com/          https://en.wikipedia.org/wiki/Dermalogica          NaN          NaN          NaN          NaN          NaN          NaN          NaN          NaN          NaN          NaN          NaN          NaN          NaN          NaN          NaN          NaN          NaN          NaN          NaN          NaN\n2     Neutrogena     3_@Neutrogena      USA        1930.0     neutrogena   91259072.0     https://twitter.com/Neutrogena           432        48,900     2009-11     https://www.neutrogena.com/           https://en.wikipedia.org/wiki/Neutrogena          NaN          NaN          NaN          NaN          NaN          NaN          NaN          NaN          NaN          NaN          NaN          NaN          NaN          NaN          NaN          NaN          NaN          NaN          NaN          NaN\n3         Cerave         4_@cerave      USA        2005.0         cerave   44693072.0         https://twitter.com/cerave           196        48,400      2009-6         https://www.cerave.com/       https://en.wikipedia.org/wiki/L%27Or%C3%A9al          NaN          NaN          NaN          NaN          NaN          NaN          NaN          NaN          NaN          NaN          NaN          NaN          NaN          NaN          NaN          NaN          NaN          NaN          NaN          NaN\n4  SkinCeuticals  5_@SkinCeuticals      USA        1997.0  skinceuticals  132543891.0  https://twitter.com/SkinCeuticals           997        47,900      2010-4  https://www.skinceuticals.com/                                                NaN          NaN          NaN          NaN          NaN          NaN          NaN          NaN          NaN          NaN          NaN          NaN          NaN          NaN          NaN          NaN          NaN          NaN          NaN          NaN          NaN",
      "text/html": "<div>\n<style scoped>\n    .dataframe tbody tr th:only-of-type {\n        vertical-align: middle;\n    }\n\n    .dataframe tbody tr th {\n        vertical-align: top;\n    }\n\n    .dataframe thead th {\n        text-align: right;\n    }\n</style>\n<table border=\"1\" class=\"dataframe\">\n  <thead>\n    <tr style=\"text-align: right;\">\n      <th></th>\n      <th>brand</th>\n      <th>label</th>\n      <th>location</th>\n      <th>founded_year</th>\n      <th>twitter_acct</th>\n      <th>twitter_id</th>\n      <th>twitter_url</th>\n      <th>num_following</th>\n      <th>num_followers</th>\n      <th>joined_date</th>\n      <th>official_site</th>\n      <th>wiki</th>\n      <th>Unnamed: 12</th>\n      <th>Unnamed: 13</th>\n      <th>Unnamed: 14</th>\n      <th>Unnamed: 15</th>\n      <th>Unnamed: 16</th>\n      <th>Unnamed: 17</th>\n      <th>Unnamed: 18</th>\n      <th>Unnamed: 19</th>\n      <th>Unnamed: 20</th>\n      <th>Unnamed: 21</th>\n      <th>Unnamed: 22</th>\n      <th>Unnamed: 23</th>\n      <th>Unnamed: 24</th>\n      <th>Unnamed: 25</th>\n      <th>Unnamed: 26</th>\n      <th>Unnamed: 27</th>\n      <th>Unnamed: 28</th>\n      <th>Unnamed: 29</th>\n      <th>Unnamed: 30</th>\n      <th>Unnamed: 31</th>\n    </tr>\n  </thead>\n  <tbody>\n    <tr>\n      <th>0</th>\n      <td>Estee Lauder</td>\n      <td>1_@EsteeLauder</td>\n      <td>USA</td>\n      <td>1946.0</td>\n      <td>esteelauder</td>\n      <td>290081566.0</td>\n      <td>https://twitter.com/EsteeLauder</td>\n      <td>452</td>\n      <td>412,700</td>\n      <td>2011-4</td>\n      <td>https://www.esteelauder.com/</td>\n      <td>https://en.wikipedia.org/wiki/The_Est%C3%A9e_L...</td>\n      <td>NaN</td>\n      <td>NaN</td>\n      <td>NaN</td>\n      <td>NaN</td>\n      <td>NaN</td>\n      <td>NaN</td>\n      <td>NaN</td>\n      <td>NaN</td>\n      <td>NaN</td>\n      <td>NaN</td>\n      <td>NaN</td>\n      <td>NaN</td>\n      <td>NaN</td>\n      <td>NaN</td>\n      <td>NaN</td>\n      <td>NaN</td>\n      <td>NaN</td>\n      <td>NaN</td>\n      <td>NaN</td>\n      <td>NaN</td>\n    </tr>\n    <tr>\n      <th>1</th>\n      <td>Dermalogica</td>\n      <td>2_@dermalogica</td>\n      <td>USA</td>\n      <td>1986.0</td>\n      <td>dermalogica</td>\n      <td>18148242.0</td>\n      <td>https://twitter.com/dermalogica</td>\n      <td>1,225</td>\n      <td>54,300</td>\n      <td>2008-12</td>\n      <td>https://www.dermalogica.com/</td>\n      <td>https://en.wikipedia.org/wiki/Dermalogica</td>\n      <td>NaN</td>\n      <td>NaN</td>\n      <td>NaN</td>\n      <td>NaN</td>\n      <td>NaN</td>\n      <td>NaN</td>\n      <td>NaN</td>\n      <td>NaN</td>\n      <td>NaN</td>\n      <td>NaN</td>\n      <td>NaN</td>\n      <td>NaN</td>\n      <td>NaN</td>\n      <td>NaN</td>\n      <td>NaN</td>\n      <td>NaN</td>\n      <td>NaN</td>\n      <td>NaN</td>\n      <td>NaN</td>\n      <td>NaN</td>\n    </tr>\n    <tr>\n      <th>2</th>\n      <td>Neutrogena</td>\n      <td>3_@Neutrogena</td>\n      <td>USA</td>\n      <td>1930.0</td>\n      <td>neutrogena</td>\n      <td>91259072.0</td>\n      <td>https://twitter.com/Neutrogena</td>\n      <td>432</td>\n      <td>48,900</td>\n      <td>2009-11</td>\n      <td>https://www.neutrogena.com/</td>\n      <td>https://en.wikipedia.org/wiki/Neutrogena</td>\n      <td>NaN</td>\n      <td>NaN</td>\n      <td>NaN</td>\n      <td>NaN</td>\n      <td>NaN</td>\n      <td>NaN</td>\n      <td>NaN</td>\n      <td>NaN</td>\n      <td>NaN</td>\n      <td>NaN</td>\n      <td>NaN</td>\n      <td>NaN</td>\n      <td>NaN</td>\n      <td>NaN</td>\n      <td>NaN</td>\n      <td>NaN</td>\n      <td>NaN</td>\n      <td>NaN</td>\n      <td>NaN</td>\n      <td>NaN</td>\n    </tr>\n    <tr>\n      <th>3</th>\n      <td>Cerave</td>\n      <td>4_@cerave</td>\n      <td>USA</td>\n      <td>2005.0</td>\n      <td>cerave</td>\n      <td>44693072.0</td>\n      <td>https://twitter.com/cerave</td>\n      <td>196</td>\n      <td>48,400</td>\n      <td>2009-6</td>\n      <td>https://www.cerave.com/</td>\n      <td>https://en.wikipedia.org/wiki/L%27Or%C3%A9al</td>\n      <td>NaN</td>\n      <td>NaN</td>\n      <td>NaN</td>\n      <td>NaN</td>\n      <td>NaN</td>\n      <td>NaN</td>\n      <td>NaN</td>\n      <td>NaN</td>\n      <td>NaN</td>\n      <td>NaN</td>\n      <td>NaN</td>\n      <td>NaN</td>\n      <td>NaN</td>\n      <td>NaN</td>\n      <td>NaN</td>\n      <td>NaN</td>\n      <td>NaN</td>\n      <td>NaN</td>\n      <td>NaN</td>\n      <td>NaN</td>\n    </tr>\n    <tr>\n      <th>4</th>\n      <td>SkinCeuticals</td>\n      <td>5_@SkinCeuticals</td>\n      <td>USA</td>\n      <td>1997.0</td>\n      <td>skinceuticals</td>\n      <td>132543891.0</td>\n      <td>https://twitter.com/SkinCeuticals</td>\n      <td>997</td>\n      <td>47,900</td>\n      <td>2010-4</td>\n      <td>https://www.skinceuticals.com/</td>\n      <td>NaN</td>\n      <td>NaN</td>\n      <td>NaN</td>\n      <td>NaN</td>\n      <td>NaN</td>\n      <td>NaN</td>\n      <td>NaN</td>\n      <td>NaN</td>\n      <td>NaN</td>\n      <td>NaN</td>\n      <td>NaN</td>\n      <td>NaN</td>\n      <td>NaN</td>\n      <td>NaN</td>\n      <td>NaN</td>\n      <td>NaN</td>\n      <td>NaN</td>\n      <td>NaN</td>\n      <td>NaN</td>\n      <td>NaN</td>\n      <td>NaN</td>\n    </tr>\n  </tbody>\n</table>\n</div>"
     },
     "execution_count": 49,
     "metadata": {},
     "output_type": "execute_result"
    }
   ],
   "source": [
    "# make twitter_acct column to lower case\n",
    "brand_info.twitter_acct = brand_info.twitter_acct.str.lower()\n",
    "# keep the rows that has twitter_acct in brands_list\n",
    "brand_info = brand_info[brand_info.twitter_acct.isin(brands_list)]\n",
    "brand_info.head(5)"
   ],
   "metadata": {
    "collapsed": false
   }
  },
  {
   "cell_type": "markdown",
   "source": [
    "# getting retweet matrix"
   ],
   "metadata": {
    "collapsed": false
   }
  },
  {
   "cell_type": "code",
   "execution_count": 59,
   "outputs": [
    {
     "name": "stdout",
     "output_type": "stream",
     "text": [
      "esteelauder 1283\n",
      "neutrogena 30\n",
      "cerave 96\n",
      "dermalogica 743\n",
      "skinceuticals 188\n"
     ]
    },
    {
     "data": {
      "text/plain": "[['esteelauder', 1283],\n ['neutrogena', 30],\n ['cerave', 96],\n ['dermalogica', 743],\n ['skinceuticals', 188]]"
     },
     "execution_count": 59,
     "metadata": {},
     "output_type": "execute_result"
    }
   ],
   "source": [
    "brand_retweets = []\n",
    "\n",
    "for brand in brands_list:\n",
    "    retweet_count = df_tweets[df_tweets.user == brand].retweet_count.sum()\n",
    "    brand_retweets.append([brand, retweet_count])\n",
    "    print(brand, retweet_count)\n",
    "\n",
    "brand_retweets"
   ],
   "metadata": {
    "collapsed": false
   }
  },
  {
   "cell_type": "markdown",
   "source": [
    "# getting favorite matrix"
   ],
   "metadata": {
    "collapsed": false
   }
  },
  {
   "cell_type": "code",
   "execution_count": 60,
   "outputs": [
    {
     "name": "stdout",
     "output_type": "stream",
     "text": [
      "esteelauder 2692\n",
      "neutrogena 114\n",
      "cerave 1007\n",
      "dermalogica 1981\n",
      "skinceuticals 1184\n",
      "[['esteelauder', 2692], ['neutrogena', 114], ['cerave', 1007], ['dermalogica', 1981], ['skinceuticals', 1184]]\n"
     ]
    }
   ],
   "source": [
    "brand_favorites = []\n",
    "\n",
    "for brand in brands_list:\n",
    "    favorite_count = df_tweets[df_tweets.user == brand].favorite_count.sum()\n",
    "    brand_favorites.append([brand, favorite_count])\n",
    "    print(brand, favorite_count)\n",
    "\n",
    "print(brand_favorites)"
   ],
   "metadata": {
    "collapsed": false
   }
  }
 ],
 "metadata": {
  "kernelspec": {
   "display_name": "Python 3 (ipykernel)",
   "language": "python",
   "name": "python3"
  },
  "language_info": {
   "codemirror_mode": {
    "name": "ipython",
    "version": 3
   },
   "file_extension": ".py",
   "mimetype": "text/x-python",
   "name": "python",
   "nbconvert_exporter": "python",
   "pygments_lexer": "ipython3",
   "version": "3.7.1"
  },
  "colab": {
   "provenance": []
  }
 },
 "nbformat": 4,
 "nbformat_minor": 5
}
