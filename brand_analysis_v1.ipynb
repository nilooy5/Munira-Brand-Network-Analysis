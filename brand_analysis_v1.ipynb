{
 "cells": [
  {
   "cell_type": "code",
   "execution_count": 47,
   "id": "438ffecb",
   "metadata": {
    "id": "438ffecb"
   },
   "outputs": [],
   "source": [
    "import os\n",
    "import numpy as np\n",
    "import pandas as pd\n",
    "import scipy.stats as stats\n",
    "import matplotlib.pyplot as plt\n",
    "# install openpyxl\n",
    "\n",
    "\n",
    "from tqdm import tqdm\n",
    "\n",
    "pd.set_option('display.min_rows', 20)\n",
    "pd.set_option('display.max_columns', 500)\n",
    "pd.set_option('display.width', 1000)"
   ]
  },
  {
   "cell_type": "code",
   "execution_count": 48,
   "id": "7fec3f1a",
   "metadata": {
    "id": "7fec3f1a",
    "outputId": "78030b03-99f4-4aae-edfd-5865ae967022",
    "colab": {
     "base_uri": "https://localhost:8080/",
     "height": 311
    }
   },
   "outputs": [],
   "source": [
    "df = pd.read_excel('combined_edges_str.xlsx', dtype={'source': str, 'target': str})"
   ]
  },
  {
   "cell_type": "markdown",
   "id": "8e5d2c1f",
   "metadata": {
    "id": "8e5d2c1f"
   },
   "source": [
    "### Logic: \"source\"/follower is following \"target\"\n",
    "\n",
    "### Brand IDs\n",
    "\n",
    "- 290081566 => @EsteeLauder\n",
    "\n",
    "- 18148242 => @dermalogica\n",
    "\n",
    "- 91259072 => @Neutrogena\n",
    "\n",
    "- 44693072 => @cerave\n",
    "\n",
    "- 132543891 => @SkinCeuticals\n"
   ]
  },
  {
   "cell_type": "code",
   "execution_count": 49,
   "id": "e674bc27",
   "metadata": {
    "id": "e674bc27"
   },
   "outputs": [],
   "source": [
    "brand_list = ['1_@EsteeLauder', '2_@dermalogica', '3_@Neutrogena', '4_@cerave', '5_@SkinCeuticals']"
   ]
  },
  {
   "cell_type": "code",
   "execution_count": 50,
   "id": "a17d86af",
   "metadata": {
    "id": "a17d86af"
   },
   "outputs": [],
   "source": [
    "for colname in ['source', 'target']:\n",
    "    df.loc[df[colname]=='290081566', colname] = brand_list[0]\n",
    "    df.loc[df[colname]=='18148242', colname] = brand_list[1]\n",
    "    df.loc[df[colname]=='91259072', colname] = brand_list[2]\n",
    "    df.loc[df[colname]=='44693072', colname] = brand_list[3]\n",
    "    df.loc[df[colname]=='132543891', colname] = brand_list[4]"
   ]
  },
  {
   "cell_type": "code",
   "execution_count": 51,
   "id": "aab281a2",
   "metadata": {
    "id": "aab281a2",
    "outputId": "3a909a5e-8503-4559-813e-966a92bc674d"
   },
   "outputs": [
    {
     "data": {
      "text/plain": "                    source     target\n0      1550173096744722432  4_@cerave\n1                557884816  4_@cerave\n2      1529429483387817985  4_@cerave\n3      1578652520800555008  4_@cerave\n4               1456425924  4_@cerave\n5               2853150560  4_@cerave\n6      1528726407995658241  4_@cerave\n7               3084597184  4_@cerave\n8      1392075915363065856  4_@cerave\n9      1560415649729585155  4_@cerave\n...                    ...        ...\n28292        3_@Neutrogena  141666777\n28293        3_@Neutrogena  256881576\n28294        3_@Neutrogena   85633543\n28295        3_@Neutrogena  340635228\n28296        3_@Neutrogena   48177728\n28297        3_@Neutrogena  460485003\n28298        3_@Neutrogena  205302299\n28299        3_@Neutrogena   27678749\n28300        3_@Neutrogena   53297035\n28301        3_@Neutrogena  581972531\n\n[28302 rows x 2 columns]",
      "text/html": "<div>\n<style scoped>\n    .dataframe tbody tr th:only-of-type {\n        vertical-align: middle;\n    }\n\n    .dataframe tbody tr th {\n        vertical-align: top;\n    }\n\n    .dataframe thead th {\n        text-align: right;\n    }\n</style>\n<table border=\"1\" class=\"dataframe\">\n  <thead>\n    <tr style=\"text-align: right;\">\n      <th></th>\n      <th>source</th>\n      <th>target</th>\n    </tr>\n  </thead>\n  <tbody>\n    <tr>\n      <th>0</th>\n      <td>1550173096744722432</td>\n      <td>4_@cerave</td>\n    </tr>\n    <tr>\n      <th>1</th>\n      <td>557884816</td>\n      <td>4_@cerave</td>\n    </tr>\n    <tr>\n      <th>2</th>\n      <td>1529429483387817985</td>\n      <td>4_@cerave</td>\n    </tr>\n    <tr>\n      <th>3</th>\n      <td>1578652520800555008</td>\n      <td>4_@cerave</td>\n    </tr>\n    <tr>\n      <th>4</th>\n      <td>1456425924</td>\n      <td>4_@cerave</td>\n    </tr>\n    <tr>\n      <th>5</th>\n      <td>2853150560</td>\n      <td>4_@cerave</td>\n    </tr>\n    <tr>\n      <th>6</th>\n      <td>1528726407995658241</td>\n      <td>4_@cerave</td>\n    </tr>\n    <tr>\n      <th>7</th>\n      <td>3084597184</td>\n      <td>4_@cerave</td>\n    </tr>\n    <tr>\n      <th>8</th>\n      <td>1392075915363065856</td>\n      <td>4_@cerave</td>\n    </tr>\n    <tr>\n      <th>9</th>\n      <td>1560415649729585155</td>\n      <td>4_@cerave</td>\n    </tr>\n    <tr>\n      <th>...</th>\n      <td>...</td>\n      <td>...</td>\n    </tr>\n    <tr>\n      <th>28292</th>\n      <td>3_@Neutrogena</td>\n      <td>141666777</td>\n    </tr>\n    <tr>\n      <th>28293</th>\n      <td>3_@Neutrogena</td>\n      <td>256881576</td>\n    </tr>\n    <tr>\n      <th>28294</th>\n      <td>3_@Neutrogena</td>\n      <td>85633543</td>\n    </tr>\n    <tr>\n      <th>28295</th>\n      <td>3_@Neutrogena</td>\n      <td>340635228</td>\n    </tr>\n    <tr>\n      <th>28296</th>\n      <td>3_@Neutrogena</td>\n      <td>48177728</td>\n    </tr>\n    <tr>\n      <th>28297</th>\n      <td>3_@Neutrogena</td>\n      <td>460485003</td>\n    </tr>\n    <tr>\n      <th>28298</th>\n      <td>3_@Neutrogena</td>\n      <td>205302299</td>\n    </tr>\n    <tr>\n      <th>28299</th>\n      <td>3_@Neutrogena</td>\n      <td>27678749</td>\n    </tr>\n    <tr>\n      <th>28300</th>\n      <td>3_@Neutrogena</td>\n      <td>53297035</td>\n    </tr>\n    <tr>\n      <th>28301</th>\n      <td>3_@Neutrogena</td>\n      <td>581972531</td>\n    </tr>\n  </tbody>\n</table>\n<p>28302 rows × 2 columns</p>\n</div>"
     },
     "execution_count": 51,
     "metadata": {},
     "output_type": "execute_result"
    }
   ],
   "source": [
    "df"
   ]
  },
  {
   "cell_type": "code",
   "execution_count": 52,
   "id": "f5ae79f3",
   "metadata": {
    "id": "f5ae79f3",
    "outputId": "bcbbfa75-8f87-4b6a-f765-40e4d9cd306f"
   },
   "outputs": [
    {
     "data": {
      "text/plain": "'1550173096744722432'"
     },
     "execution_count": 52,
     "metadata": {},
     "output_type": "execute_result"
    }
   ],
   "source": [
    "df.source[0]"
   ]
  },
  {
   "cell_type": "code",
   "execution_count": 53,
   "id": "73389cdf",
   "metadata": {
    "id": "73389cdf",
    "outputId": "dcd4e7b7-69bb-4789-cb54-71b61417f49b"
   },
   "outputs": [
    {
     "data": {
      "text/plain": "                     source\n2_@dermalogica         1225\n5_@SkinCeuticals        997\n1_@EsteeLauder          452\n3_@Neutrogena           432\n4_@cerave               196\n1568382218002735105       4\n1572625750003441664       4\n1572641040032567301       4\n1409136155384221698       4\n3059011803                4\n...                     ...\n1499444624238198784       1\n1499446718475423744       1\n1481924028612976646       1\n2470127029                1\n1499464394534637577       1\n1497296480276819974       1\n275280454                 1\n1017075153719693312       1\n737312697524572160        1\n1557590648923901953       1\n\n[24255 rows x 1 columns]",
      "text/html": "<div>\n<style scoped>\n    .dataframe tbody tr th:only-of-type {\n        vertical-align: middle;\n    }\n\n    .dataframe tbody tr th {\n        vertical-align: top;\n    }\n\n    .dataframe thead th {\n        text-align: right;\n    }\n</style>\n<table border=\"1\" class=\"dataframe\">\n  <thead>\n    <tr style=\"text-align: right;\">\n      <th></th>\n      <th>source</th>\n    </tr>\n  </thead>\n  <tbody>\n    <tr>\n      <th>2_@dermalogica</th>\n      <td>1225</td>\n    </tr>\n    <tr>\n      <th>5_@SkinCeuticals</th>\n      <td>997</td>\n    </tr>\n    <tr>\n      <th>1_@EsteeLauder</th>\n      <td>452</td>\n    </tr>\n    <tr>\n      <th>3_@Neutrogena</th>\n      <td>432</td>\n    </tr>\n    <tr>\n      <th>4_@cerave</th>\n      <td>196</td>\n    </tr>\n    <tr>\n      <th>1568382218002735105</th>\n      <td>4</td>\n    </tr>\n    <tr>\n      <th>1572625750003441664</th>\n      <td>4</td>\n    </tr>\n    <tr>\n      <th>1572641040032567301</th>\n      <td>4</td>\n    </tr>\n    <tr>\n      <th>1409136155384221698</th>\n      <td>4</td>\n    </tr>\n    <tr>\n      <th>3059011803</th>\n      <td>4</td>\n    </tr>\n    <tr>\n      <th>...</th>\n      <td>...</td>\n    </tr>\n    <tr>\n      <th>1499444624238198784</th>\n      <td>1</td>\n    </tr>\n    <tr>\n      <th>1499446718475423744</th>\n      <td>1</td>\n    </tr>\n    <tr>\n      <th>1481924028612976646</th>\n      <td>1</td>\n    </tr>\n    <tr>\n      <th>2470127029</th>\n      <td>1</td>\n    </tr>\n    <tr>\n      <th>1499464394534637577</th>\n      <td>1</td>\n    </tr>\n    <tr>\n      <th>1497296480276819974</th>\n      <td>1</td>\n    </tr>\n    <tr>\n      <th>275280454</th>\n      <td>1</td>\n    </tr>\n    <tr>\n      <th>1017075153719693312</th>\n      <td>1</td>\n    </tr>\n    <tr>\n      <th>737312697524572160</th>\n      <td>1</td>\n    </tr>\n    <tr>\n      <th>1557590648923901953</th>\n      <td>1</td>\n    </tr>\n  </tbody>\n</table>\n<p>24255 rows × 1 columns</p>\n</div>"
     },
     "execution_count": 53,
     "metadata": {},
     "output_type": "execute_result"
    }
   ],
   "source": [
    "## Num of followings\n",
    "pd.DataFrame(df.source.value_counts())"
   ]
  },
  {
   "cell_type": "code",
   "execution_count": 54,
   "id": "6769f5b2",
   "metadata": {
    "id": "6769f5b2",
    "outputId": "7282adfe-6765-45ca-fe71-432c8f78ca00"
   },
   "outputs": [
    {
     "data": {
      "text/plain": "                     target\n4_@cerave              5001\n5_@SkinCeuticals       5001\n2_@dermalogica         5001\n1_@EsteeLauder         5000\n3_@Neutrogena          5000\n14222518                  5\n40965341                  5\n19247844                  5\n19658436                  5\n19546942                  5\n...                     ...\n845833902027554818        1\n3787080024                1\n480861343                 1\n854501507181531136        1\n36365736                  1\n1043159655755800576       1\n1140931506                1\n1049280876864045056       1\n982267237787566081        1\n581972531                 1\n\n[2786 rows x 1 columns]",
      "text/html": "<div>\n<style scoped>\n    .dataframe tbody tr th:only-of-type {\n        vertical-align: middle;\n    }\n\n    .dataframe tbody tr th {\n        vertical-align: top;\n    }\n\n    .dataframe thead th {\n        text-align: right;\n    }\n</style>\n<table border=\"1\" class=\"dataframe\">\n  <thead>\n    <tr style=\"text-align: right;\">\n      <th></th>\n      <th>target</th>\n    </tr>\n  </thead>\n  <tbody>\n    <tr>\n      <th>4_@cerave</th>\n      <td>5001</td>\n    </tr>\n    <tr>\n      <th>5_@SkinCeuticals</th>\n      <td>5001</td>\n    </tr>\n    <tr>\n      <th>2_@dermalogica</th>\n      <td>5001</td>\n    </tr>\n    <tr>\n      <th>1_@EsteeLauder</th>\n      <td>5000</td>\n    </tr>\n    <tr>\n      <th>3_@Neutrogena</th>\n      <td>5000</td>\n    </tr>\n    <tr>\n      <th>14222518</th>\n      <td>5</td>\n    </tr>\n    <tr>\n      <th>40965341</th>\n      <td>5</td>\n    </tr>\n    <tr>\n      <th>19247844</th>\n      <td>5</td>\n    </tr>\n    <tr>\n      <th>19658436</th>\n      <td>5</td>\n    </tr>\n    <tr>\n      <th>19546942</th>\n      <td>5</td>\n    </tr>\n    <tr>\n      <th>...</th>\n      <td>...</td>\n    </tr>\n    <tr>\n      <th>845833902027554818</th>\n      <td>1</td>\n    </tr>\n    <tr>\n      <th>3787080024</th>\n      <td>1</td>\n    </tr>\n    <tr>\n      <th>480861343</th>\n      <td>1</td>\n    </tr>\n    <tr>\n      <th>854501507181531136</th>\n      <td>1</td>\n    </tr>\n    <tr>\n      <th>36365736</th>\n      <td>1</td>\n    </tr>\n    <tr>\n      <th>1043159655755800576</th>\n      <td>1</td>\n    </tr>\n    <tr>\n      <th>1140931506</th>\n      <td>1</td>\n    </tr>\n    <tr>\n      <th>1049280876864045056</th>\n      <td>1</td>\n    </tr>\n    <tr>\n      <th>982267237787566081</th>\n      <td>1</td>\n    </tr>\n    <tr>\n      <th>581972531</th>\n      <td>1</td>\n    </tr>\n  </tbody>\n</table>\n<p>2786 rows × 1 columns</p>\n</div>"
     },
     "execution_count": 54,
     "metadata": {},
     "output_type": "execute_result"
    }
   ],
   "source": [
    "## Num of followers\n",
    "pd.DataFrame(df.target.value_counts())"
   ]
  },
  {
   "cell_type": "markdown",
   "id": "cd59ebfc",
   "metadata": {
    "id": "cd59ebfc"
   },
   "source": [
    "# Following/follower matrix:"
   ]
  },
  {
   "cell_type": "code",
   "execution_count": 55,
   "id": "ad1e94a9",
   "metadata": {
    "id": "ad1e94a9"
   },
   "outputs": [],
   "source": [
    "def prep_matrix(df, colname='source', col_rename='following'):\n",
    "    df_res = pd.DataFrame(df[colname].value_counts()).reset_index()\n",
    "    df_res.columns = ['id', col_rename]\n",
    "    #df_res = df_res.loc[df_res[col_rename] > 1, :]\n",
    "\n",
    "    for b in brand_list:\n",
    "        df_res[b] = 0\n",
    "\n",
    "    return df_res"
   ]
  },
  {
   "cell_type": "markdown",
   "id": "dcbeb9fa",
   "metadata": {
    "id": "dcbeb9fa"
   },
   "source": [
    "### 1. df_source: what brands people are following"
   ]
  },
  {
   "cell_type": "code",
   "execution_count": 56,
   "id": "e49438c0",
   "metadata": {
    "id": "e49438c0",
    "outputId": "c8cdee86-3885-4674-b3e8-45a3f2cd6d6d"
   },
   "outputs": [],
   "source": [
    "# df_source = prep_matrix(df, colname='source', col_rename='following')\n",
    "\n",
    "# for i in tqdm(range(len(df_source))):\n",
    "#     targets = list(df[df['source'] == df_source.id[i]]['target'])\n",
    "#     for j in brand_list:\n",
    "#         if j in targets:\n",
    "#             df_source.loc[i, j] = 1\n",
    "            \n",
    "# df_source['n_brand_following'] = np.sum(df_source.iloc[:, [2,3,4,5,6]], axis=1)"
   ]
  },
  {
   "cell_type": "code",
   "execution_count": 57,
   "id": "d4975c2e",
   "metadata": {
    "id": "d4975c2e",
    "outputId": "fa590113-0998-4e88-c47e-a06e6f5ee9fd"
   },
   "outputs": [],
   "source": [
    "## Checking\n",
    "# len(df_source) - np.sum(df_source.following == df_source['n_brand_following'])\n",
    "\n",
    "## Output: 5"
   ]
  },
  {
   "cell_type": "code",
   "execution_count": 58,
   "id": "2e12f921",
   "metadata": {
    "id": "2e12f921"
   },
   "outputs": [],
   "source": [
    "## Save CSV\n",
    "# df_source.to_csv('m1_source.csv')"
   ]
  },
  {
   "cell_type": "code",
   "execution_count": 59,
   "id": "2ac86e74",
   "metadata": {
    "id": "2ac86e74"
   },
   "outputs": [],
   "source": [
    "## Load CSV\n",
    "df_source = pd.read_csv('m1_source.csv', index_col=0)"
   ]
  },
  {
   "cell_type": "code",
   "execution_count": 60,
   "id": "06cc6e6d",
   "metadata": {
    "id": "06cc6e6d",
    "outputId": "d34c104f-19b4-4d57-f9dc-9eb069dcbe13"
   },
   "outputs": [
    {
     "data": {
      "text/plain": "                        id  following  1_@EsteeLauder  2_@dermalogica  3_@Neutrogena  4_@cerave  5_@SkinCeuticals  n_brand_following\n0           2_@dermalogica       1225               0               0              0          0                 0                  0\n1         5_@SkinCeuticals        997               0               1              0          1                 0                  2\n2           1_@EsteeLauder        452               0               0              0          0                 0                  0\n3            3_@Neutrogena        432               0               0              0          0                 0                  0\n4                4_@cerave        196               0               0              0          0                 1                  1\n5      1568382218002735105          4               1               0              1          1                 1                  4\n6      1572625750003441664          4               1               0              1          1                 1                  4\n7      1572641040032567301          4               1               0              1          1                 1                  4\n8      1409136155384221698          4               1               0              1          1                 1                  4\n9               3059011803          4               0               1              1          1                 1                  4\n...                    ...        ...             ...             ...            ...        ...               ...                ...\n24245  1499444624238198784          1               0               1              0          0                 0                  1\n24246  1499446718475423744          1               0               1              0          0                 0                  1\n24247  1481924028612976646          1               0               1              0          0                 0                  1\n24248           2470127029          1               0               1              0          0                 0                  1\n24249  1499464394534637577          1               0               1              0          0                 0                  1\n24250  1497296480276819974          1               0               1              0          0                 0                  1\n24251            275280454          1               0               1              0          0                 0                  1\n24252  1017075153719693312          1               0               1              0          0                 0                  1\n24253   737312697524572160          1               0               1              0          0                 0                  1\n24254  1557590648923901953          1               1               0              0          0                 0                  1\n\n[24255 rows x 8 columns]",
      "text/html": "<div>\n<style scoped>\n    .dataframe tbody tr th:only-of-type {\n        vertical-align: middle;\n    }\n\n    .dataframe tbody tr th {\n        vertical-align: top;\n    }\n\n    .dataframe thead th {\n        text-align: right;\n    }\n</style>\n<table border=\"1\" class=\"dataframe\">\n  <thead>\n    <tr style=\"text-align: right;\">\n      <th></th>\n      <th>id</th>\n      <th>following</th>\n      <th>1_@EsteeLauder</th>\n      <th>2_@dermalogica</th>\n      <th>3_@Neutrogena</th>\n      <th>4_@cerave</th>\n      <th>5_@SkinCeuticals</th>\n      <th>n_brand_following</th>\n    </tr>\n  </thead>\n  <tbody>\n    <tr>\n      <th>0</th>\n      <td>2_@dermalogica</td>\n      <td>1225</td>\n      <td>0</td>\n      <td>0</td>\n      <td>0</td>\n      <td>0</td>\n      <td>0</td>\n      <td>0</td>\n    </tr>\n    <tr>\n      <th>1</th>\n      <td>5_@SkinCeuticals</td>\n      <td>997</td>\n      <td>0</td>\n      <td>1</td>\n      <td>0</td>\n      <td>1</td>\n      <td>0</td>\n      <td>2</td>\n    </tr>\n    <tr>\n      <th>2</th>\n      <td>1_@EsteeLauder</td>\n      <td>452</td>\n      <td>0</td>\n      <td>0</td>\n      <td>0</td>\n      <td>0</td>\n      <td>0</td>\n      <td>0</td>\n    </tr>\n    <tr>\n      <th>3</th>\n      <td>3_@Neutrogena</td>\n      <td>432</td>\n      <td>0</td>\n      <td>0</td>\n      <td>0</td>\n      <td>0</td>\n      <td>0</td>\n      <td>0</td>\n    </tr>\n    <tr>\n      <th>4</th>\n      <td>4_@cerave</td>\n      <td>196</td>\n      <td>0</td>\n      <td>0</td>\n      <td>0</td>\n      <td>0</td>\n      <td>1</td>\n      <td>1</td>\n    </tr>\n    <tr>\n      <th>5</th>\n      <td>1568382218002735105</td>\n      <td>4</td>\n      <td>1</td>\n      <td>0</td>\n      <td>1</td>\n      <td>1</td>\n      <td>1</td>\n      <td>4</td>\n    </tr>\n    <tr>\n      <th>6</th>\n      <td>1572625750003441664</td>\n      <td>4</td>\n      <td>1</td>\n      <td>0</td>\n      <td>1</td>\n      <td>1</td>\n      <td>1</td>\n      <td>4</td>\n    </tr>\n    <tr>\n      <th>7</th>\n      <td>1572641040032567301</td>\n      <td>4</td>\n      <td>1</td>\n      <td>0</td>\n      <td>1</td>\n      <td>1</td>\n      <td>1</td>\n      <td>4</td>\n    </tr>\n    <tr>\n      <th>8</th>\n      <td>1409136155384221698</td>\n      <td>4</td>\n      <td>1</td>\n      <td>0</td>\n      <td>1</td>\n      <td>1</td>\n      <td>1</td>\n      <td>4</td>\n    </tr>\n    <tr>\n      <th>9</th>\n      <td>3059011803</td>\n      <td>4</td>\n      <td>0</td>\n      <td>1</td>\n      <td>1</td>\n      <td>1</td>\n      <td>1</td>\n      <td>4</td>\n    </tr>\n    <tr>\n      <th>...</th>\n      <td>...</td>\n      <td>...</td>\n      <td>...</td>\n      <td>...</td>\n      <td>...</td>\n      <td>...</td>\n      <td>...</td>\n      <td>...</td>\n    </tr>\n    <tr>\n      <th>24245</th>\n      <td>1499444624238198784</td>\n      <td>1</td>\n      <td>0</td>\n      <td>1</td>\n      <td>0</td>\n      <td>0</td>\n      <td>0</td>\n      <td>1</td>\n    </tr>\n    <tr>\n      <th>24246</th>\n      <td>1499446718475423744</td>\n      <td>1</td>\n      <td>0</td>\n      <td>1</td>\n      <td>0</td>\n      <td>0</td>\n      <td>0</td>\n      <td>1</td>\n    </tr>\n    <tr>\n      <th>24247</th>\n      <td>1481924028612976646</td>\n      <td>1</td>\n      <td>0</td>\n      <td>1</td>\n      <td>0</td>\n      <td>0</td>\n      <td>0</td>\n      <td>1</td>\n    </tr>\n    <tr>\n      <th>24248</th>\n      <td>2470127029</td>\n      <td>1</td>\n      <td>0</td>\n      <td>1</td>\n      <td>0</td>\n      <td>0</td>\n      <td>0</td>\n      <td>1</td>\n    </tr>\n    <tr>\n      <th>24249</th>\n      <td>1499464394534637577</td>\n      <td>1</td>\n      <td>0</td>\n      <td>1</td>\n      <td>0</td>\n      <td>0</td>\n      <td>0</td>\n      <td>1</td>\n    </tr>\n    <tr>\n      <th>24250</th>\n      <td>1497296480276819974</td>\n      <td>1</td>\n      <td>0</td>\n      <td>1</td>\n      <td>0</td>\n      <td>0</td>\n      <td>0</td>\n      <td>1</td>\n    </tr>\n    <tr>\n      <th>24251</th>\n      <td>275280454</td>\n      <td>1</td>\n      <td>0</td>\n      <td>1</td>\n      <td>0</td>\n      <td>0</td>\n      <td>0</td>\n      <td>1</td>\n    </tr>\n    <tr>\n      <th>24252</th>\n      <td>1017075153719693312</td>\n      <td>1</td>\n      <td>0</td>\n      <td>1</td>\n      <td>0</td>\n      <td>0</td>\n      <td>0</td>\n      <td>1</td>\n    </tr>\n    <tr>\n      <th>24253</th>\n      <td>737312697524572160</td>\n      <td>1</td>\n      <td>0</td>\n      <td>1</td>\n      <td>0</td>\n      <td>0</td>\n      <td>0</td>\n      <td>1</td>\n    </tr>\n    <tr>\n      <th>24254</th>\n      <td>1557590648923901953</td>\n      <td>1</td>\n      <td>1</td>\n      <td>0</td>\n      <td>0</td>\n      <td>0</td>\n      <td>0</td>\n      <td>1</td>\n    </tr>\n  </tbody>\n</table>\n<p>24255 rows × 8 columns</p>\n</div>"
     },
     "execution_count": 60,
     "metadata": {},
     "output_type": "execute_result"
    }
   ],
   "source": [
    "df_source"
   ]
  },
  {
   "cell_type": "code",
   "execution_count": 61,
   "id": "23e7594a",
   "metadata": {
    "id": "23e7594a",
    "outputId": "a63d59b7-edb1-42a7-b779-58b9ee46c9a3"
   },
   "outputs": [
    {
     "data": {
      "text/plain": "   n_brand_following\n1              23597\n2                567\n3                 80\n4                  8\n0                  3",
      "text/html": "<div>\n<style scoped>\n    .dataframe tbody tr th:only-of-type {\n        vertical-align: middle;\n    }\n\n    .dataframe tbody tr th {\n        vertical-align: top;\n    }\n\n    .dataframe thead th {\n        text-align: right;\n    }\n</style>\n<table border=\"1\" class=\"dataframe\">\n  <thead>\n    <tr style=\"text-align: right;\">\n      <th></th>\n      <th>n_brand_following</th>\n    </tr>\n  </thead>\n  <tbody>\n    <tr>\n      <th>1</th>\n      <td>23597</td>\n    </tr>\n    <tr>\n      <th>2</th>\n      <td>567</td>\n    </tr>\n    <tr>\n      <th>3</th>\n      <td>80</td>\n    </tr>\n    <tr>\n      <th>4</th>\n      <td>8</td>\n    </tr>\n    <tr>\n      <th>0</th>\n      <td>3</td>\n    </tr>\n  </tbody>\n</table>\n</div>"
     },
     "execution_count": 61,
     "metadata": {},
     "output_type": "execute_result"
    }
   ],
   "source": [
    "pd.DataFrame(df_source.n_brand_following.value_counts())"
   ]
  },
  {
   "cell_type": "code",
   "execution_count": 62,
   "id": "5671d6ec",
   "metadata": {
    "id": "5671d6ec",
    "outputId": "903d54d2-ada4-42b3-8290-69da8791fe92"
   },
   "outputs": [
    {
     "data": {
      "text/plain": "['1568382218002735105',\n '1572625750003441664',\n '1572641040032567301',\n '1409136155384221698',\n '3059011803',\n '1565358112172818434',\n '1556000179081416706',\n '1541449042604990465']"
     },
     "execution_count": 62,
     "metadata": {},
     "output_type": "execute_result"
    }
   ],
   "source": [
    "big_fans = df_source[df_source.n_brand_following == 4].id.tolist()\n",
    "big_fans"
   ]
  },
  {
   "cell_type": "markdown",
   "id": "001ee1af",
   "metadata": {
    "id": "001ee1af"
   },
   "source": [
    "### Matrix 1. df_source: what brands people are following\n",
    "\n",
    "### Analysis:\n",
    "\n",
    "Among the brand followers we collected, 567 users are following 2 brands, 80 users are following 3 brands, 8 users are following 4 brands.\n",
    "\n",
    "### Define big_fans:\n",
    "\n",
    "The 8 users who follow 4 brands are: \n",
    "\n",
    "['1568382218002735105',\n",
    " '1572625750003441664',\n",
    " '1572641040032567301',\n",
    " '1409136155384221698',\n",
    " '3059011803',\n",
    " '1565358112172818434',\n",
    " '1556000179081416706',\n",
    " '1541449042604990465']"
   ]
  },
  {
   "cell_type": "code",
   "execution_count": 63,
   "id": "e5fb477e",
   "metadata": {
    "id": "e5fb477e",
    "outputId": "9d9a2eac-2ecf-4b1d-e92c-4fb4b5b07a63"
   },
   "outputs": [
    {
     "data": {
      "text/plain": "(array([3.0000e+00, 0.0000e+00, 2.3597e+04, 0.0000e+00, 0.0000e+00,\n        5.6700e+02, 0.0000e+00, 8.0000e+01, 0.0000e+00, 8.0000e+00]),\n array([0. , 0.4, 0.8, 1.2, 1.6, 2. , 2.4, 2.8, 3.2, 3.6, 4. ]),\n <BarContainer object of 10 artists>)"
     },
     "execution_count": 63,
     "metadata": {},
     "output_type": "execute_result"
    },
    {
     "data": {
      "text/plain": "<Figure size 640x480 with 1 Axes>",
      "image/png": "[encoded data removed]"
     },
     "metadata": {},
     "output_type": "display_data"
    }
   ],
   "source": [
    "plt.hist(df_source.n_brand_following)"
   ]
  },
  {
   "cell_type": "code",
   "execution_count": 63,
   "id": "4c1b2d46",
   "metadata": {
    "id": "4c1b2d46"
   },
   "outputs": [],
   "source": []
  },
  {
   "cell_type": "code",
   "execution_count": 63,
   "id": "5a798bfa",
   "metadata": {
    "id": "5a798bfa"
   },
   "outputs": [],
   "source": []
  },
  {
   "cell_type": "markdown",
   "id": "f84da990",
   "metadata": {
    "id": "f84da990"
   },
   "source": [
    "### 2. df_target: what brands are following them"
   ]
  },
  {
   "cell_type": "code",
   "execution_count": 64,
   "id": "0868ba3e",
   "metadata": {
    "id": "0868ba3e",
    "outputId": "2f189c30-54dd-4992-c304-85e0f5d843a7"
   },
   "outputs": [],
   "source": [
    "# df_target = prep_matrix(df, colname='target', col_rename='follower')\n",
    "\n",
    "# for i2 in tqdm(range(len(df_target))):\n",
    "#     sources = list(df[df['target'] == df_target.id[i2]]['source'])\n",
    "#     for j2 in brand_list:\n",
    "#         if j2 in sources:\n",
    "#             df_target.loc[i2, j2] = 1\n",
    "            \n",
    "# df_target['n_brand_follower'] = np.sum(df_target.iloc[:, [2,3,4,5,6]], axis=1)"
   ]
  },
  {
   "cell_type": "code",
   "execution_count": 65,
   "id": "d0ac6ed5",
   "metadata": {
    "id": "d0ac6ed5",
    "outputId": "6f41f511-3ee2-412a-c784-3655e4840bfe"
   },
   "outputs": [],
   "source": [
    "## Checking\n",
    "# len(df_target) - np.sum(df_target.follower == df_target['n_brand_follower'])\n",
    "\n",
    "## Output: 5"
   ]
  },
  {
   "cell_type": "code",
   "execution_count": 66,
   "id": "86660954",
   "metadata": {
    "id": "86660954"
   },
   "outputs": [],
   "source": [
    "## Save CSV\n",
    "# df_target.to_csv('m2_target.csv')"
   ]
  },
  {
   "cell_type": "code",
   "execution_count": 67,
   "id": "c5daa32a",
   "metadata": {
    "id": "c5daa32a"
   },
   "outputs": [],
   "source": [
    "## Load CSV\n",
    "df_target = pd.read_csv('m2_target.csv', index_col=0)"
   ]
  },
  {
   "cell_type": "code",
   "execution_count": 68,
   "id": "7b22c1ec",
   "metadata": {
    "id": "7b22c1ec",
    "outputId": "781eaff5-1d72-430b-a800-353051d7db9d"
   },
   "outputs": [
    {
     "data": {
      "text/plain": "                       id  follower  1_@EsteeLauder  2_@dermalogica  3_@Neutrogena  4_@cerave  5_@SkinCeuticals  n_brand_follower\n0               4_@cerave      5001               0               0              0          0                 1                 1\n1        5_@SkinCeuticals      5001               0               0              0          1                 0                 1\n2          2_@dermalogica      5001               0               0              0          0                 1                 1\n3          1_@EsteeLauder      5000               0               0              0          0                 0                 0\n4           3_@Neutrogena      5000               0               0              0          0                 0                 0\n5                14222518         5               1               1              1          1                 1                 5\n6                40965341         5               1               1              1          1                 1                 5\n7                19247844         5               1               1              1          1                 1                 5\n8                19658436         5               1               1              1          1                 1                 5\n9                19546942         5               1               1              1          1                 1                 5\n...                   ...       ...             ...             ...            ...        ...               ...               ...\n2776   845833902027554818         1               0               0              0          1                 0                 1\n2777           3787080024         1               0               0              0          1                 0                 1\n2778            480861343         1               0               0              0          1                 0                 1\n2779   854501507181531136         1               0               0              0          1                 0                 1\n2780             36365736         1               0               0              0          1                 0                 1\n2781  1043159655755800576         1               0               0              0          1                 0                 1\n2782           1140931506         1               0               0              0          1                 0                 1\n2783  1049280876864045056         1               0               0              0          1                 0                 1\n2784   982267237787566081         1               0               0              0          1                 0                 1\n2785            581972531         1               0               0              1          0                 0                 1\n\n[2786 rows x 8 columns]",
      "text/html": "<div>\n<style scoped>\n    .dataframe tbody tr th:only-of-type {\n        vertical-align: middle;\n    }\n\n    .dataframe tbody tr th {\n        vertical-align: top;\n    }\n\n    .dataframe thead th {\n        text-align: right;\n    }\n</style>\n<table border=\"1\" class=\"dataframe\">\n  <thead>\n    <tr style=\"text-align: right;\">\n      <th></th>\n      <th>id</th>\n      <th>follower</th>\n      <th>1_@EsteeLauder</th>\n      <th>2_@dermalogica</th>\n      <th>3_@Neutrogena</th>\n      <th>4_@cerave</th>\n      <th>5_@SkinCeuticals</th>\n      <th>n_brand_follower</th>\n    </tr>\n  </thead>\n  <tbody>\n    <tr>\n      <th>0</th>\n      <td>4_@cerave</td>\n      <td>5001</td>\n      <td>0</td>\n      <td>0</td>\n      <td>0</td>\n      <td>0</td>\n      <td>1</td>\n      <td>1</td>\n    </tr>\n    <tr>\n      <th>1</th>\n      <td>5_@SkinCeuticals</td>\n      <td>5001</td>\n      <td>0</td>\n      <td>0</td>\n      <td>0</td>\n      <td>1</td>\n      <td>0</td>\n      <td>1</td>\n    </tr>\n    <tr>\n      <th>2</th>\n      <td>2_@dermalogica</td>\n      <td>5001</td>\n      <td>0</td>\n      <td>0</td>\n      <td>0</td>\n      <td>0</td>\n      <td>1</td>\n      <td>1</td>\n    </tr>\n    <tr>\n      <th>3</th>\n      <td>1_@EsteeLauder</td>\n      <td>5000</td>\n      <td>0</td>\n      <td>0</td>\n      <td>0</td>\n      <td>0</td>\n      <td>0</td>\n      <td>0</td>\n    </tr>\n    <tr>\n      <th>4</th>\n      <td>3_@Neutrogena</td>\n      <td>5000</td>\n      <td>0</td>\n      <td>0</td>\n      <td>0</td>\n      <td>0</td>\n      <td>0</td>\n      <td>0</td>\n    </tr>\n    <tr>\n      <th>5</th>\n      <td>14222518</td>\n      <td>5</td>\n      <td>1</td>\n      <td>1</td>\n      <td>1</td>\n      <td>1</td>\n      <td>1</td>\n      <td>5</td>\n    </tr>\n    <tr>\n      <th>6</th>\n      <td>40965341</td>\n      <td>5</td>\n      <td>1</td>\n      <td>1</td>\n      <td>1</td>\n      <td>1</td>\n      <td>1</td>\n      <td>5</td>\n    </tr>\n    <tr>\n      <th>7</th>\n      <td>19247844</td>\n      <td>5</td>\n      <td>1</td>\n      <td>1</td>\n      <td>1</td>\n      <td>1</td>\n      <td>1</td>\n      <td>5</td>\n    </tr>\n    <tr>\n      <th>8</th>\n      <td>19658436</td>\n      <td>5</td>\n      <td>1</td>\n      <td>1</td>\n      <td>1</td>\n      <td>1</td>\n      <td>1</td>\n      <td>5</td>\n    </tr>\n    <tr>\n      <th>9</th>\n      <td>19546942</td>\n      <td>5</td>\n      <td>1</td>\n      <td>1</td>\n      <td>1</td>\n      <td>1</td>\n      <td>1</td>\n      <td>5</td>\n    </tr>\n    <tr>\n      <th>...</th>\n      <td>...</td>\n      <td>...</td>\n      <td>...</td>\n      <td>...</td>\n      <td>...</td>\n      <td>...</td>\n      <td>...</td>\n      <td>...</td>\n    </tr>\n    <tr>\n      <th>2776</th>\n      <td>845833902027554818</td>\n      <td>1</td>\n      <td>0</td>\n      <td>0</td>\n      <td>0</td>\n      <td>1</td>\n      <td>0</td>\n      <td>1</td>\n    </tr>\n    <tr>\n      <th>2777</th>\n      <td>3787080024</td>\n      <td>1</td>\n      <td>0</td>\n      <td>0</td>\n      <td>0</td>\n      <td>1</td>\n      <td>0</td>\n      <td>1</td>\n    </tr>\n    <tr>\n      <th>2778</th>\n      <td>480861343</td>\n      <td>1</td>\n      <td>0</td>\n      <td>0</td>\n      <td>0</td>\n      <td>1</td>\n      <td>0</td>\n      <td>1</td>\n    </tr>\n    <tr>\n      <th>2779</th>\n      <td>854501507181531136</td>\n      <td>1</td>\n      <td>0</td>\n      <td>0</td>\n      <td>0</td>\n      <td>1</td>\n      <td>0</td>\n      <td>1</td>\n    </tr>\n    <tr>\n      <th>2780</th>\n      <td>36365736</td>\n      <td>1</td>\n      <td>0</td>\n      <td>0</td>\n      <td>0</td>\n      <td>1</td>\n      <td>0</td>\n      <td>1</td>\n    </tr>\n    <tr>\n      <th>2781</th>\n      <td>1043159655755800576</td>\n      <td>1</td>\n      <td>0</td>\n      <td>0</td>\n      <td>0</td>\n      <td>1</td>\n      <td>0</td>\n      <td>1</td>\n    </tr>\n    <tr>\n      <th>2782</th>\n      <td>1140931506</td>\n      <td>1</td>\n      <td>0</td>\n      <td>0</td>\n      <td>0</td>\n      <td>1</td>\n      <td>0</td>\n      <td>1</td>\n    </tr>\n    <tr>\n      <th>2783</th>\n      <td>1049280876864045056</td>\n      <td>1</td>\n      <td>0</td>\n      <td>0</td>\n      <td>0</td>\n      <td>1</td>\n      <td>0</td>\n      <td>1</td>\n    </tr>\n    <tr>\n      <th>2784</th>\n      <td>982267237787566081</td>\n      <td>1</td>\n      <td>0</td>\n      <td>0</td>\n      <td>0</td>\n      <td>1</td>\n      <td>0</td>\n      <td>1</td>\n    </tr>\n    <tr>\n      <th>2785</th>\n      <td>581972531</td>\n      <td>1</td>\n      <td>0</td>\n      <td>0</td>\n      <td>1</td>\n      <td>0</td>\n      <td>0</td>\n      <td>1</td>\n    </tr>\n  </tbody>\n</table>\n<p>2786 rows × 8 columns</p>\n</div>"
     },
     "execution_count": 68,
     "metadata": {},
     "output_type": "execute_result"
    }
   ],
   "source": [
    "df_target"
   ]
  },
  {
   "cell_type": "code",
   "execution_count": 69,
   "id": "6450e32b",
   "metadata": {
    "id": "6450e32b",
    "outputId": "c135f4c4-18e8-4dc3-9bbc-d55ffc032b00"
   },
   "outputs": [
    {
     "data": {
      "text/plain": "   n_brand_follower\n1              2445\n2               222\n3                64\n4                44\n5                 9\n0                 2",
      "text/html": "<div>\n<style scoped>\n    .dataframe tbody tr th:only-of-type {\n        vertical-align: middle;\n    }\n\n    .dataframe tbody tr th {\n        vertical-align: top;\n    }\n\n    .dataframe thead th {\n        text-align: right;\n    }\n</style>\n<table border=\"1\" class=\"dataframe\">\n  <thead>\n    <tr style=\"text-align: right;\">\n      <th></th>\n      <th>n_brand_follower</th>\n    </tr>\n  </thead>\n  <tbody>\n    <tr>\n      <th>1</th>\n      <td>2445</td>\n    </tr>\n    <tr>\n      <th>2</th>\n      <td>222</td>\n    </tr>\n    <tr>\n      <th>3</th>\n      <td>64</td>\n    </tr>\n    <tr>\n      <th>4</th>\n      <td>44</td>\n    </tr>\n    <tr>\n      <th>5</th>\n      <td>9</td>\n    </tr>\n    <tr>\n      <th>0</th>\n      <td>2</td>\n    </tr>\n  </tbody>\n</table>\n</div>"
     },
     "execution_count": 69,
     "metadata": {},
     "output_type": "execute_result"
    }
   ],
   "source": [
    "pd.DataFrame(df_target.n_brand_follower.value_counts())"
   ]
  },
  {
   "cell_type": "code",
   "execution_count": 70,
   "id": "a772219c",
   "metadata": {
    "id": "a772219c",
    "outputId": "89f08c9b-6b64-431a-9ef3-3f97e0ea8623"
   },
   "outputs": [
    {
     "data": {
      "text/plain": "['14222518',\n '40965341',\n '19247844',\n '19658436',\n '19546942',\n '15279429',\n '32469566',\n '14934818',\n '482591078']"
     },
     "execution_count": 70,
     "metadata": {},
     "output_type": "execute_result"
    }
   ],
   "source": [
    "brand_icons = df_target[df_target.n_brand_follower == 5].id.tolist()\n",
    "brand_icons"
   ]
  },
  {
   "cell_type": "markdown",
   "id": "c7d4f2ee",
   "metadata": {
    "id": "c7d4f2ee"
   },
   "source": [
    "### Matrix 2. df_target: what brands are following them\n",
    "\n",
    "### Analysis\n",
    "\n",
    "Among the accounts that the brands are following, 222 accounts are followed by 2 brands, 64 accounts are followed by 3 brands, 44 accounts are followed by 4 brands, 9 accounts are followed by 5 brands. \n",
    "\n",
    "### Define brand_icons:\n",
    "\n",
    "The 9 accounts that are followed by 5 brands are: \n",
    "\n",
    "['14222518',\n",
    " '40965341',\n",
    " '19247844',\n",
    " '19658436',\n",
    " '19546942',\n",
    " '15279429',\n",
    " '32469566',\n",
    " '14934818',\n",
    " '482591078']"
   ]
  },
  {
   "cell_type": "code",
   "execution_count": 71,
   "id": "71642af5",
   "metadata": {
    "id": "71642af5",
    "outputId": "37030c2e-f3ff-4093-a542-1289b99bc7e4"
   },
   "outputs": [
    {
     "data": {
      "text/plain": "(array([2.000e+00, 0.000e+00, 2.445e+03, 0.000e+00, 2.220e+02, 0.000e+00,\n        6.400e+01, 0.000e+00, 4.400e+01, 9.000e+00]),\n array([0. , 0.5, 1. , 1.5, 2. , 2.5, 3. , 3.5, 4. , 4.5, 5. ]),\n <BarContainer object of 10 artists>)"
     },
     "execution_count": 71,
     "metadata": {},
     "output_type": "execute_result"
    },
    {
     "data": {
      "text/plain": "<Figure size 640x480 with 1 Axes>",
      "image/png": "[encoded data removed]"
     },
     "metadata": {},
     "output_type": "display_data"
    }
   ],
   "source": [
    "plt.hist(df_target.n_brand_follower)"
   ]
  },
  {
   "cell_type": "markdown",
   "id": "f595b861",
   "metadata": {
    "id": "f595b861"
   },
   "source": [
    "### Matrix 1"
   ]
  },
  {
   "cell_type": "code",
   "execution_count": 72,
   "id": "59062012",
   "metadata": {
    "id": "59062012",
    "outputId": "e3872309-ed16-4ba3-f74b-9b7de16cc308"
   },
   "outputs": [
    {
     "name": "stdout",
     "output_type": "stream",
     "text": [
      "1568382218002735105 --- ['4_@cerave', '1_@EsteeLauder', '3_@Neutrogena', '5_@SkinCeuticals']\n",
      "1572625750003441664 --- ['4_@cerave', '1_@EsteeLauder', '3_@Neutrogena', '5_@SkinCeuticals']\n",
      "1572641040032567301 --- ['4_@cerave', '1_@EsteeLauder', '3_@Neutrogena', '5_@SkinCeuticals']\n",
      "1409136155384221698 --- ['4_@cerave', '1_@EsteeLauder', '3_@Neutrogena', '5_@SkinCeuticals']\n",
      "3059011803 --- ['4_@cerave', '2_@dermalogica', '3_@Neutrogena', '5_@SkinCeuticals']\n",
      "1565358112172818434 --- ['4_@cerave', '2_@dermalogica', '1_@EsteeLauder', '5_@SkinCeuticals']\n",
      "1556000179081416706 --- ['4_@cerave', '1_@EsteeLauder', '3_@Neutrogena', '5_@SkinCeuticals']\n",
      "1541449042604990465 --- ['4_@cerave', '2_@dermalogica', '3_@Neutrogena', '5_@SkinCeuticals']\n"
     ]
    }
   ],
   "source": [
    "for aa in big_fans:\n",
    "    print(aa, '---', list(df[df['source'] == aa]['target']))"
   ]
  },
  {
   "cell_type": "code",
   "execution_count": 73,
   "id": "6da6f0c0",
   "metadata": {
    "id": "6da6f0c0",
    "outputId": "28676eab-42d9-4168-d2f9-87de25c68ca0"
   },
   "outputs": [
    {
     "name": "stdout",
     "output_type": "stream",
     "text": [
      "1568382218002735105 --- []\n",
      "1572625750003441664 --- []\n",
      "1572641040032567301 --- []\n",
      "1409136155384221698 --- []\n",
      "3059011803 --- []\n",
      "1565358112172818434 --- []\n",
      "1556000179081416706 --- []\n",
      "1541449042604990465 --- []\n"
     ]
    }
   ],
   "source": [
    "for aa in big_fans:\n",
    "    print(aa, '---', list(df[df['target'] == aa]['source']))"
   ]
  },
  {
   "cell_type": "code",
   "execution_count": 74,
   "id": "2a9b4308",
   "metadata": {
    "id": "2a9b4308",
    "outputId": "d3d80274-810b-48a3-a626-01fa99bb39a8"
   },
   "outputs": [
    {
     "data": {
      "text/plain": "                 id  following  1_@EsteeLauder  2_@dermalogica  3_@Neutrogena  4_@cerave  5_@SkinCeuticals  n_brand_following\n0    2_@dermalogica       1225               0               0              0          0                 0                  0\n1  5_@SkinCeuticals        997               0               1              0          1                 0                  2\n2    1_@EsteeLauder        452               0               0              0          0                 0                  0\n3     3_@Neutrogena        432               0               0              0          0                 0                  0\n4         4_@cerave        196               0               0              0          0                 1                  1",
      "text/html": "<div>\n<style scoped>\n    .dataframe tbody tr th:only-of-type {\n        vertical-align: middle;\n    }\n\n    .dataframe tbody tr th {\n        vertical-align: top;\n    }\n\n    .dataframe thead th {\n        text-align: right;\n    }\n</style>\n<table border=\"1\" class=\"dataframe\">\n  <thead>\n    <tr style=\"text-align: right;\">\n      <th></th>\n      <th>id</th>\n      <th>following</th>\n      <th>1_@EsteeLauder</th>\n      <th>2_@dermalogica</th>\n      <th>3_@Neutrogena</th>\n      <th>4_@cerave</th>\n      <th>5_@SkinCeuticals</th>\n      <th>n_brand_following</th>\n    </tr>\n  </thead>\n  <tbody>\n    <tr>\n      <th>0</th>\n      <td>2_@dermalogica</td>\n      <td>1225</td>\n      <td>0</td>\n      <td>0</td>\n      <td>0</td>\n      <td>0</td>\n      <td>0</td>\n      <td>0</td>\n    </tr>\n    <tr>\n      <th>1</th>\n      <td>5_@SkinCeuticals</td>\n      <td>997</td>\n      <td>0</td>\n      <td>1</td>\n      <td>0</td>\n      <td>1</td>\n      <td>0</td>\n      <td>2</td>\n    </tr>\n    <tr>\n      <th>2</th>\n      <td>1_@EsteeLauder</td>\n      <td>452</td>\n      <td>0</td>\n      <td>0</td>\n      <td>0</td>\n      <td>0</td>\n      <td>0</td>\n      <td>0</td>\n    </tr>\n    <tr>\n      <th>3</th>\n      <td>3_@Neutrogena</td>\n      <td>432</td>\n      <td>0</td>\n      <td>0</td>\n      <td>0</td>\n      <td>0</td>\n      <td>0</td>\n      <td>0</td>\n    </tr>\n    <tr>\n      <th>4</th>\n      <td>4_@cerave</td>\n      <td>196</td>\n      <td>0</td>\n      <td>0</td>\n      <td>0</td>\n      <td>0</td>\n      <td>1</td>\n      <td>1</td>\n    </tr>\n  </tbody>\n</table>\n</div>"
     },
     "execution_count": 74,
     "metadata": {},
     "output_type": "execute_result"
    }
   ],
   "source": [
    "df_source.head(5)"
   ]
  },
  {
   "cell_type": "markdown",
   "id": "ae6b0934",
   "metadata": {
    "id": "ae6b0934"
   },
   "source": [
    "### Matrix 2"
   ]
  },
  {
   "cell_type": "code",
   "execution_count": 75,
   "id": "aecb7540",
   "metadata": {
    "id": "aecb7540",
    "outputId": "84aa4d85-d4f0-4447-e277-0d487d233c9c"
   },
   "outputs": [
    {
     "name": "stdout",
     "output_type": "stream",
     "text": [
      "14222518 --- ['5_@SkinCeuticals', '4_@cerave', '1_@EsteeLauder', '2_@dermalogica', '3_@Neutrogena']\n",
      "40965341 --- ['5_@SkinCeuticals', '4_@cerave', '1_@EsteeLauder', '2_@dermalogica', '3_@Neutrogena']\n",
      "19247844 --- ['5_@SkinCeuticals', '4_@cerave', '1_@EsteeLauder', '2_@dermalogica', '3_@Neutrogena']\n",
      "19658436 --- ['5_@SkinCeuticals', '4_@cerave', '1_@EsteeLauder', '2_@dermalogica', '3_@Neutrogena']\n",
      "19546942 --- ['5_@SkinCeuticals', '4_@cerave', '1_@EsteeLauder', '2_@dermalogica', '3_@Neutrogena']\n",
      "15279429 --- ['5_@SkinCeuticals', '4_@cerave', '1_@EsteeLauder', '2_@dermalogica', '3_@Neutrogena']\n",
      "32469566 --- ['5_@SkinCeuticals', '4_@cerave', '1_@EsteeLauder', '2_@dermalogica', '3_@Neutrogena']\n",
      "14934818 --- ['5_@SkinCeuticals', '4_@cerave', '1_@EsteeLauder', '2_@dermalogica', '3_@Neutrogena']\n",
      "482591078 --- ['5_@SkinCeuticals', '4_@cerave', '1_@EsteeLauder', '2_@dermalogica', '3_@Neutrogena']\n"
     ]
    }
   ],
   "source": [
    "for bb in brand_icons:\n",
    "    print(bb, '---', list(df[df['target'] == bb]['source']))"
   ]
  },
  {
   "cell_type": "code",
   "execution_count": 76,
   "id": "21e217d7",
   "metadata": {
    "id": "21e217d7",
    "outputId": "ca2ca4ac-d984-4989-c3e6-fafda5bae480"
   },
   "outputs": [
    {
     "name": "stdout",
     "output_type": "stream",
     "text": [
      "14222518 --- []\n",
      "40965341 --- []\n",
      "19247844 --- []\n",
      "19658436 --- []\n",
      "19546942 --- []\n",
      "15279429 --- []\n",
      "32469566 --- []\n",
      "14934818 --- []\n",
      "482591078 --- []\n"
     ]
    }
   ],
   "source": [
    "for bb in brand_icons:\n",
    "    print(bb, '---', list(df[df['source'] == bb]['target']))"
   ]
  },
  {
   "cell_type": "code",
   "execution_count": 77,
   "id": "48af23f0",
   "metadata": {
    "id": "48af23f0",
    "outputId": "9015bc1d-f88b-4251-c70e-88921b1b362c"
   },
   "outputs": [
    {
     "data": {
      "text/plain": "                 id  follower  1_@EsteeLauder  2_@dermalogica  3_@Neutrogena  4_@cerave  5_@SkinCeuticals  n_brand_follower\n0         4_@cerave      5001               0               0              0          0                 1                 1\n1  5_@SkinCeuticals      5001               0               0              0          1                 0                 1\n2    2_@dermalogica      5001               0               0              0          0                 1                 1\n3    1_@EsteeLauder      5000               0               0              0          0                 0                 0\n4     3_@Neutrogena      5000               0               0              0          0                 0                 0",
      "text/html": "<div>\n<style scoped>\n    .dataframe tbody tr th:only-of-type {\n        vertical-align: middle;\n    }\n\n    .dataframe tbody tr th {\n        vertical-align: top;\n    }\n\n    .dataframe thead th {\n        text-align: right;\n    }\n</style>\n<table border=\"1\" class=\"dataframe\">\n  <thead>\n    <tr style=\"text-align: right;\">\n      <th></th>\n      <th>id</th>\n      <th>follower</th>\n      <th>1_@EsteeLauder</th>\n      <th>2_@dermalogica</th>\n      <th>3_@Neutrogena</th>\n      <th>4_@cerave</th>\n      <th>5_@SkinCeuticals</th>\n      <th>n_brand_follower</th>\n    </tr>\n  </thead>\n  <tbody>\n    <tr>\n      <th>0</th>\n      <td>4_@cerave</td>\n      <td>5001</td>\n      <td>0</td>\n      <td>0</td>\n      <td>0</td>\n      <td>0</td>\n      <td>1</td>\n      <td>1</td>\n    </tr>\n    <tr>\n      <th>1</th>\n      <td>5_@SkinCeuticals</td>\n      <td>5001</td>\n      <td>0</td>\n      <td>0</td>\n      <td>0</td>\n      <td>1</td>\n      <td>0</td>\n      <td>1</td>\n    </tr>\n    <tr>\n      <th>2</th>\n      <td>2_@dermalogica</td>\n      <td>5001</td>\n      <td>0</td>\n      <td>0</td>\n      <td>0</td>\n      <td>0</td>\n      <td>1</td>\n      <td>1</td>\n    </tr>\n    <tr>\n      <th>3</th>\n      <td>1_@EsteeLauder</td>\n      <td>5000</td>\n      <td>0</td>\n      <td>0</td>\n      <td>0</td>\n      <td>0</td>\n      <td>0</td>\n      <td>0</td>\n    </tr>\n    <tr>\n      <th>4</th>\n      <td>3_@Neutrogena</td>\n      <td>5000</td>\n      <td>0</td>\n      <td>0</td>\n      <td>0</td>\n      <td>0</td>\n      <td>0</td>\n      <td>0</td>\n    </tr>\n  </tbody>\n</table>\n</div>"
     },
     "execution_count": 77,
     "metadata": {},
     "output_type": "execute_result"
    }
   ],
   "source": [
    "df_target.head(5)"
   ]
  },
  {
   "cell_type": "code",
   "execution_count": 77,
   "id": "cd023fa1",
   "metadata": {
    "id": "cd023fa1"
   },
   "outputs": [],
   "source": []
  },
  {
   "cell_type": "code",
   "execution_count": 77,
   "outputs": [],
   "source": [],
   "metadata": {
    "collapsed": false
   }
  }
 ],
 "metadata": {
  "kernelspec": {
   "display_name": "Python 3 (ipykernel)",
   "language": "python",
   "name": "python3"
  },
  "language_info": {
   "codemirror_mode": {
    "name": "ipython",
    "version": 3
   },
   "file_extension": ".py",
   "mimetype": "text/x-python",
   "name": "python",
   "nbconvert_exporter": "python",
   "pygments_lexer": "ipython3",
   "version": "3.7.1"
  },
  "colab": {
   "provenance": []
  }
 },
 "nbformat": 4,
 "nbformat_minor": 5
}
